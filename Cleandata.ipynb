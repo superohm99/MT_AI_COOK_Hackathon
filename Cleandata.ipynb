{
 "cells": [
  {
   "cell_type": "code",
   "execution_count": 1,
   "metadata": {},
   "outputs": [],
   "source": [
    "# This Python 3 environment comes with many helpful analytics libraries installed\n",
    "# It is defined by the kaggle/python Docker image: https://github.com/kaggle/docker-python\n",
    "# For example, here's several helpful packages to load\n",
    "import re\n",
    "import nltk\n",
    "from nltk.tokenize import word_tokenize,sent_tokenize\n",
    "from nltk.corpus import indian\n",
    "from nltk.stem.porter import PorterStemmer\n",
    "# from wordcloud import WordCloud\n",
    "import matplotlib.pyplot as plt\n",
    "import unicodedata\n",
    "from keras.models import Sequential,Model\n",
    "from keras.layers import Input,Embedding, LSTM, Dense, Dropout\n",
    "from tensorflow.keras.preprocessing.text import Tokenizer\n",
    "from sklearn.model_selection import train_test_split\n",
    "from tensorflow.keras.preprocessing.sequence import pad_sequences\n",
    "import string\n",
    "# import spacy\n",
    "# import contractions\n",
    "from nltk.corpus import stopwords\n",
    "import numpy as np # linear algebra\n",
    "import pandas as pd # data processing, CSV file I/O (e.g. pd.read_csv)"
   ]
  },
  {
   "cell_type": "code",
   "execution_count": 72,
   "metadata": {},
   "outputs": [],
   "source": [
    "df_en = pd.read_table('../data/all.tok.test.en',header=None, names=['English'])\n",
    "df_th = pd.read_table('../data/all.tok.test.th', header=None, names=['Thai'])"
   ]
  },
  {
   "cell_type": "code",
   "execution_count": 55,
   "metadata": {},
   "outputs": [],
   "source": [
    "def cleaning(df):\n",
    "    df[\"English\"] = df[\"English\"].str[1:]\n",
    "    df[\"English\"] = df[\"English\"].str.lower()\n",
    "\n",
    "    df[\"English\"] = df[\"English\"].str.replace('&quot;', '')\n",
    "    df[\"English\"] = df[\"English\"].str.replace('&apos;', '')\n",
    "    df[\"English\"] = df[\"English\"].str.replace('&amp; lt ;', '')\n",
    "    df[\"English\"] = df[\"English\"].str.replace('&amp; gt ;', '')\n",
    "    df[\"English\"] = df[\"English\"].str.replace('&amp;', 'and')\n",
    "    df[\"English\"] = df[\"English\"].str.replace('&#91;', '')\n",
    "    df[\"English\"] = df[\"English\"].str.replace('&#93;', '')\n",
    "\n",
    "    chars_to_remove = r'[|/\\\\*“”\\-_~^#?.!,:;\\\"\\'()\\[\\]{}<>]'\n",
    "    df[\"English\"] = df[\"English\"].str.replace(chars_to_remove, '', regex=True)\n",
    "\n",
    "    df[\"Thai\"] = df[\"Thai\"].str[1:]\n",
    "    df[\"Thai\"] = df[\"Thai\"].str.lower()\n",
    "\n",
    "    df[\"Thai\"] = df[\"Thai\"].str.replace('&amp;', 'และ')\n",
    "    df[\"Thai\"] = df[\"Thai\"].str.replace('&', 'และ')\n",
    "\n",
    "    chars_to_remove = r'[“”!?,\\(\\)\\[\\]\\{\\}<>\\|\\/\\\\:\\\"\\'‘’\\-_~^#.*]'\n",
    "    df[\"Thai\"] = df[\"Thai\"].str.replace(chars_to_remove, '', regex=True)\n",
    "    df[\"Thai\"] = df[\"Thai\"].str.replace('&lt ;', '')\n",
    "    df[\"Thai\"] = df[\"Thai\"].str.replace('&gt ;', '')\n",
    "    df[\"Thai\"] = df[\"Thai\"].str.replace('br', '')\n",
    "    return df"
   ]
  },
  {
   "cell_type": "code",
   "execution_count": 63,
   "metadata": {},
   "outputs": [],
   "source": [
    "from pythainlp.corpus import thai_stopwords\n",
    "from nltk.corpus import stopwords\n",
    "\n",
    "def clear_stopword( df, choice):\n",
    "    sentence = []\n",
    "    index = 0\n",
    "    \n",
    "    if choice == True:\n",
    "        lang = 'Thai'\n",
    "        stop_words = list(thai_stopwords())\n",
    "    else:\n",
    "        lang = 'English'\n",
    "        stop_words = set(stopwords.words('english'))\n",
    "        \n",
    "\n",
    "    for i in df[lang]:\n",
    "        filtered_sentence= []\n",
    "        integrate_sentence = \"\"\n",
    "        sentence = i.split(\" \");\n",
    "        for w in sentence:\n",
    "            if w not in stop_words:\n",
    "                filtered_sentence.append(w)\n",
    "        for fw in filtered_sentence:\n",
    "            if (fw != ''):\n",
    "                integrate_sentence += fw + \" \"\n",
    "        df[lang][index] = integrate_sentence\n",
    "        index += 1\n",
    "    \n",
    "    print(sentence)\n",
    "    print(filtered_sentence)\n",
    "    print(integrate_sentence)\n",
    "    return df"
   ]
  },
  {
   "cell_type": "code",
   "execution_count": 73,
   "metadata": {},
   "outputs": [],
   "source": [
    "df_combined = pd.concat([df_en, df_th], axis=1)"
   ]
  },
  {
   "cell_type": "code",
   "execution_count": 74,
   "metadata": {},
   "outputs": [],
   "source": [
    "df_combined = df_combined[df_combined['Thai'].str.contains('ประเทศไทย')]\n",
    "# df_combined = df_combined[df_combined['Thai'].str.contains('สวย')]"
   ]
  },
  {
   "cell_type": "code",
   "execution_count": 75,
   "metadata": {},
   "outputs": [
    {
     "data": {
      "text/html": [
       "<div>\n",
       "<style scoped>\n",
       "    .dataframe tbody tr th:only-of-type {\n",
       "        vertical-align: middle;\n",
       "    }\n",
       "\n",
       "    .dataframe tbody tr th {\n",
       "        vertical-align: top;\n",
       "    }\n",
       "\n",
       "    .dataframe thead th {\n",
       "        text-align: right;\n",
       "    }\n",
       "</style>\n",
       "<table border=\"1\" class=\"dataframe\">\n",
       "  <thead>\n",
       "    <tr style=\"text-align: right;\">\n",
       "      <th></th>\n",
       "      <th>English</th>\n",
       "      <th>Thai</th>\n",
       "    </tr>\n",
       "  </thead>\n",
       "  <tbody>\n",
       "    <tr>\n",
       "      <th>0</th>\n",
       "      <td>FThen someone mentioned Thailand . It was as s...</td>\n",
       "      <td>Fแล้ว ก็ มี คน เอ่ย ถึง ประเทศไทย ขึ้น มา ง่าย...</td>\n",
       "    </tr>\n",
       "    <tr>\n",
       "      <th>1</th>\n",
       "      <td>FI learned that Thailand means freedom .</td>\n",
       "      <td>Fฉัน ก็ เลย รู้ ว่า ประเทศไทย คือ อิสรภาพ</td>\n",
       "    </tr>\n",
       "    <tr>\n",
       "      <th>2</th>\n",
       "      <td>F- Why would you want to come here ?</td>\n",
       "      <td>F- ทำไม ลูก ถึง อยาก มา ประเทศไทย นี่ ล่ะ ?</td>\n",
       "    </tr>\n",
       "    <tr>\n",
       "      <th>3</th>\n",
       "      <td>FThey take drugs seriously .</td>\n",
       "      <td>Fประเทศไทย จริงจัง กับ คดียาเสพย์ ติด มาก</td>\n",
       "    </tr>\n",
       "    <tr>\n",
       "      <th>4</th>\n",
       "      <td>FI &amp;apos;m still here in Thailand .</td>\n",
       "      <td>Fหนู ยัง อยู่ ที่ ประเทศไทย ค่ะ</td>\n",
       "    </tr>\n",
       "    <tr>\n",
       "      <th>...</th>\n",
       "      <td>...</td>\n",
       "      <td>...</td>\n",
       "    </tr>\n",
       "    <tr>\n",
       "      <th>67</th>\n",
       "      <td>FWe want to see it . That &amp;apos;s why we tried...</td>\n",
       "      <td>Fแล้ว ก็ อยาก เห็น นะ ครับ เลย เลย พยายาม คิด ...</td>\n",
       "    </tr>\n",
       "    <tr>\n",
       "      <th>68</th>\n",
       "      <td>FIdeas for Thailand</td>\n",
       "      <td>FI deasประเทศไทย</td>\n",
       "    </tr>\n",
       "    <tr>\n",
       "      <th>69</th>\n",
       "      <td>FThe Asia Pacific Network of Sex Workers in Th...</td>\n",
       "      <td>FTheAsiaPacificNetworkofSexWorkers ใน ประเทศไท...</td>\n",
       "    </tr>\n",
       "    <tr>\n",
       "      <th>70</th>\n",
       "      <td>FThai is the official language in Thailand .</td>\n",
       "      <td>Fภาษา ไทย เป็น ภาษา ราชการ ใน ประเทศไทย</td>\n",
       "    </tr>\n",
       "    <tr>\n",
       "      <th>71</th>\n",
       "      <td>FBangkok is the capital of Thailand .</td>\n",
       "      <td>Fกรุงเทพมหานคร เป็น เมือง หลวง ของ ประเทศไทย</td>\n",
       "    </tr>\n",
       "  </tbody>\n",
       "</table>\n",
       "<p>72 rows × 2 columns</p>\n",
       "</div>"
      ],
      "text/plain": [
       "                                              English   \n",
       "0   FThen someone mentioned Thailand . It was as s...  \\\n",
       "1            FI learned that Thailand means freedom .   \n",
       "2                F- Why would you want to come here ?   \n",
       "3                        FThey take drugs seriously .   \n",
       "4                 FI &apos;m still here in Thailand .   \n",
       "..                                                ...   \n",
       "67  FWe want to see it . That &apos;s why we tried...   \n",
       "68                                FIdeas for Thailand   \n",
       "69  FThe Asia Pacific Network of Sex Workers in Th...   \n",
       "70       FThai is the official language in Thailand .   \n",
       "71              FBangkok is the capital of Thailand .   \n",
       "\n",
       "                                                 Thai  \n",
       "0   Fแล้ว ก็ มี คน เอ่ย ถึง ประเทศไทย ขึ้น มา ง่าย...  \n",
       "1           Fฉัน ก็ เลย รู้ ว่า ประเทศไทย คือ อิสรภาพ  \n",
       "2         F- ทำไม ลูก ถึง อยาก มา ประเทศไทย นี่ ล่ะ ?  \n",
       "3           Fประเทศไทย จริงจัง กับ คดียาเสพย์ ติด มาก  \n",
       "4                     Fหนู ยัง อยู่ ที่ ประเทศไทย ค่ะ  \n",
       "..                                                ...  \n",
       "67  Fแล้ว ก็ อยาก เห็น นะ ครับ เลย เลย พยายาม คิด ...  \n",
       "68                                   FI deasประเทศไทย  \n",
       "69  FTheAsiaPacificNetworkofSexWorkers ใน ประเทศไท...  \n",
       "70            Fภาษา ไทย เป็น ภาษา ราชการ ใน ประเทศไทย  \n",
       "71       Fกรุงเทพมหานคร เป็น เมือง หลวง ของ ประเทศไทย  \n",
       "\n",
       "[72 rows x 2 columns]"
      ]
     },
     "execution_count": 75,
     "metadata": {},
     "output_type": "execute_result"
    }
   ],
   "source": [
    "df_combined = df_combined.reset_index(drop=True)\n",
    "df_combined"
   ]
  },
  {
   "cell_type": "code",
   "execution_count": 59,
   "metadata": {},
   "outputs": [],
   "source": [
    "import pandas as pd\n",
    "\n",
    "def read_df2csv(df):\n",
    "    csv_file = \"combined_data.csv\"\n",
    "    df.to_csv(csv_file, index=False, encoding='utf-8')\n",
    "    return True"
   ]
  },
  {
   "cell_type": "code",
   "execution_count": 77,
   "metadata": {},
   "outputs": [
    {
     "data": {
      "text/plain": [
       "True"
      ]
     },
     "execution_count": 77,
     "metadata": {},
     "output_type": "execute_result"
    }
   ],
   "source": [
    "read_df2csv(df_combined)"
   ]
  },
  {
   "cell_type": "code",
   "execution_count": 78,
   "metadata": {},
   "outputs": [],
   "source": [
    "fdata = pd.read_csv('combined_data.csv')"
   ]
  },
  {
   "cell_type": "code",
   "execution_count": 79,
   "metadata": {},
   "outputs": [
    {
     "data": {
      "text/plain": [
       "True"
      ]
     },
     "execution_count": 79,
     "metadata": {},
     "output_type": "execute_result"
    }
   ],
   "source": [
    "fdata = cleaning(fdata)\n",
    "read_df2csv(fdata)"
   ]
  },
  {
   "cell_type": "code",
   "execution_count": 80,
   "metadata": {},
   "outputs": [
    {
     "data": {
      "text/html": [
       "<div>\n",
       "<style scoped>\n",
       "    .dataframe tbody tr th:only-of-type {\n",
       "        vertical-align: middle;\n",
       "    }\n",
       "\n",
       "    .dataframe tbody tr th {\n",
       "        vertical-align: top;\n",
       "    }\n",
       "\n",
       "    .dataframe thead th {\n",
       "        text-align: right;\n",
       "    }\n",
       "</style>\n",
       "<table border=\"1\" class=\"dataframe\">\n",
       "  <thead>\n",
       "    <tr style=\"text-align: right;\">\n",
       "      <th></th>\n",
       "      <th>English</th>\n",
       "      <th>Thai</th>\n",
       "    </tr>\n",
       "  </thead>\n",
       "  <tbody>\n",
       "    <tr>\n",
       "      <th>0</th>\n",
       "      <td>then someone mentioned thailand  it was as sim...</td>\n",
       "      <td>แล้ว ก็ มี คน เอ่ย ถึง ประเทศไทย ขึ้น มา ง่าย ...</td>\n",
       "    </tr>\n",
       "    <tr>\n",
       "      <th>1</th>\n",
       "      <td>i learned that thailand means freedom</td>\n",
       "      <td>ฉัน ก็ เลย รู้ ว่า ประเทศไทย คือ อิสรภาพ</td>\n",
       "    </tr>\n",
       "    <tr>\n",
       "      <th>2</th>\n",
       "      <td>why would you want to come here</td>\n",
       "      <td>ทำไม ลูก ถึง อยาก มา ประเทศไทย นี่ ล่ะ</td>\n",
       "    </tr>\n",
       "    <tr>\n",
       "      <th>3</th>\n",
       "      <td>they take drugs seriously</td>\n",
       "      <td>ประเทศไทย จริงจัง กับ คดียาเสพย์ ติด มาก</td>\n",
       "    </tr>\n",
       "    <tr>\n",
       "      <th>4</th>\n",
       "      <td>i m still here in thailand</td>\n",
       "      <td>หนู ยัง อยู่ ที่ ประเทศไทย ค่ะ</td>\n",
       "    </tr>\n",
       "    <tr>\n",
       "      <th>...</th>\n",
       "      <td>...</td>\n",
       "      <td>...</td>\n",
       "    </tr>\n",
       "    <tr>\n",
       "      <th>67</th>\n",
       "      <td>we want to see it  that s why we tried to come...</td>\n",
       "      <td>แล้ว ก็ อยาก เห็น นะ ครับ เลย เลย พยายาม คิด โ...</td>\n",
       "    </tr>\n",
       "    <tr>\n",
       "      <th>68</th>\n",
       "      <td>ideas for thailand</td>\n",
       "      <td>i deasประเทศไทย</td>\n",
       "    </tr>\n",
       "    <tr>\n",
       "      <th>69</th>\n",
       "      <td>the asia pacific network of sex workers in tha...</td>\n",
       "      <td>theasiapacificnetworkofsexworkers ใน ประเทศไทย...</td>\n",
       "    </tr>\n",
       "    <tr>\n",
       "      <th>70</th>\n",
       "      <td>thai is the official language in thailand</td>\n",
       "      <td>ภาษา ไทย เป็น ภาษา ราชการ ใน ประเทศไทย</td>\n",
       "    </tr>\n",
       "    <tr>\n",
       "      <th>71</th>\n",
       "      <td>bangkok is the capital of thailand</td>\n",
       "      <td>กรุงเทพมหานคร เป็น เมือง หลวง ของ ประเทศไทย</td>\n",
       "    </tr>\n",
       "  </tbody>\n",
       "</table>\n",
       "<p>72 rows × 2 columns</p>\n",
       "</div>"
      ],
      "text/plain": [
       "                                              English   \n",
       "0   then someone mentioned thailand  it was as sim...  \\\n",
       "1              i learned that thailand means freedom    \n",
       "2                    why would you want to come here    \n",
       "3                          they take drugs seriously    \n",
       "4                         i m still here in thailand    \n",
       "..                                                ...   \n",
       "67  we want to see it  that s why we tried to come...   \n",
       "68                                 ideas for thailand   \n",
       "69  the asia pacific network of sex workers in tha...   \n",
       "70         thai is the official language in thailand    \n",
       "71                bangkok is the capital of thailand    \n",
       "\n",
       "                                                 Thai  \n",
       "0   แล้ว ก็ มี คน เอ่ย ถึง ประเทศไทย ขึ้น มา ง่าย ...  \n",
       "1            ฉัน ก็ เลย รู้ ว่า ประเทศไทย คือ อิสรภาพ  \n",
       "2             ทำไม ลูก ถึง อยาก มา ประเทศไทย นี่ ล่ะ   \n",
       "3            ประเทศไทย จริงจัง กับ คดียาเสพย์ ติด มาก  \n",
       "4                      หนู ยัง อยู่ ที่ ประเทศไทย ค่ะ  \n",
       "..                                                ...  \n",
       "67  แล้ว ก็ อยาก เห็น นะ ครับ เลย เลย พยายาม คิด โ...  \n",
       "68                                    i deasประเทศไทย  \n",
       "69  theasiapacificnetworkofsexworkers ใน ประเทศไทย...  \n",
       "70             ภาษา ไทย เป็น ภาษา ราชการ ใน ประเทศไทย  \n",
       "71        กรุงเทพมหานคร เป็น เมือง หลวง ของ ประเทศไทย  \n",
       "\n",
       "[72 rows x 2 columns]"
      ]
     },
     "execution_count": 80,
     "metadata": {},
     "output_type": "execute_result"
    }
   ],
   "source": [
    "fdata"
   ]
  },
  {
   "cell_type": "code",
   "execution_count": 87,
   "metadata": {},
   "outputs": [],
   "source": [
    "def remove_long_sentences(df, column):\n",
    "    df['length'] = df[column].apply(lambda x: len(x.split()))\n",
    "    mask = df['length'] <= 10\n",
    "    df = df[mask].drop(columns=['length'])\n",
    "    return df\n",
    "\n",
    "# ลบประโยคที่ยาวเกิน 30 คำในคอลัมน์ English และ Thai\n",
    "fdata = remove_long_sentences(fdata, 'English')"
   ]
  },
  {
   "cell_type": "code",
   "execution_count": 108,
   "metadata": {},
   "outputs": [],
   "source": [
    "# fdata = fdata.reset_index(drop=True)\n",
    "# read_df2csv(fdata)\n",
    "index = 0\n",
    "for i in range(len(fdata)):\n",
    "    fdata[\"Thai\"][index] = ''.join(fdata[\"Thai\"][index].split())\n",
    "    index += 1\n",
    "\n"
   ]
  },
  {
   "cell_type": "code",
   "execution_count": 113,
   "metadata": {},
   "outputs": [
    {
     "data": {
      "text/plain": [
       "'ที่นี่ในประเทศไทยพวกคุณเชื่อว่าเพื่อนย่อมรู้ว่าเพื่อนอีกคนทำอะไร'"
      ]
     },
     "execution_count": 113,
     "metadata": {},
     "output_type": "execute_result"
    }
   ],
   "source": [
    "fdata[\"Thai\"][5]"
   ]
  },
  {
   "cell_type": "code",
   "execution_count": 119,
   "metadata": {},
   "outputs": [
    {
     "data": {
      "text/plain": [
       "True"
      ]
     },
     "execution_count": 119,
     "metadata": {},
     "output_type": "execute_result"
    }
   ],
   "source": [
    "from pythainlp import word_tokenize\n",
    "index = 0\n",
    "\n",
    "for i in range(len(fdata)):\n",
    "    res = ''\n",
    "    tokens = word_tokenize(fdata[\"Thai\"][index], engine='newmm')\n",
    "    for i in tokens:\n",
    "        res += i + ' '\n",
    "    fdata[\"Thai\"][index] = res \n",
    "    index += 1\n",
    "\n",
    "fdata\n",
    "read_df2csv(fdata)"
   ]
  }
 ],
 "metadata": {
  "kernelspec": {
   "display_name": "Python 3",
   "language": "python",
   "name": "python3"
  },
  "language_info": {
   "codemirror_mode": {
    "name": "ipython",
    "version": 3
   },
   "file_extension": ".py",
   "mimetype": "text/x-python",
   "name": "python",
   "nbconvert_exporter": "python",
   "pygments_lexer": "ipython3",
   "version": "3.11.2"
  }
 },
 "nbformat": 4,
 "nbformat_minor": 2
}
