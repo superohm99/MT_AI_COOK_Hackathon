{
 "cells": [
  {
   "cell_type": "code",
   "execution_count": 1,
   "id": "c1921039-d43b-4c36-83f0-afdf1b54e75b",
   "metadata": {},
   "outputs": [],
   "source": [
    "# This Python 3 environment comes with many helpful analytics libraries installed\n",
    "# It is defined by the kaggle/python Docker image: https://github.com/kaggle/docker-python\n",
    "# For example, here's several helpful packages to load\n",
    "import re\n",
    "import nltk\n",
    "from nltk.tokenize import word_tokenize,sent_tokenize\n",
    "from nltk.corpus import indian\n",
    "from nltk.stem.porter import PorterStemmer\n",
    "# from wordcloud import WordCloud\n",
    "import matplotlib.pyplot as plt\n",
    "import unicodedata\n",
    "from keras.models import Sequential,Model\n",
    "from keras.layers import Input,Embedding, LSTM, Dense, Dropout\n",
    "from tensorflow.keras.preprocessing.text import Tokenizer\n",
    "from sklearn.model_selection import train_test_split\n",
    "from tensorflow.keras.preprocessing.sequence import pad_sequences\n",
    "import string\n",
    "# import spacy\n",
    "# import contractions\n",
    "from nltk.corpus import stopwords\n",
    "import numpy as np # linear algebra\n",
    "import pandas as pd # data processing, CSV file I/O (e.g. pd.read_csv)\n",
    "\n",
    "# Input data files are available in the read-only \"../input/\" directory\n",
    "# For example, running this (by clicking run or pressing Shift+Enter) will list all files under the input directory\n",
    "\n",
    "import os\n",
    "for dirname, _, filenames in os.walk('/kaggle/input'):\n",
    "    for filename in filenames:\n",
    "        print(os.path.join(dirname, filename))"
   ]
  },
  {
   "cell_type": "code",
   "execution_count": 2,
   "id": "daa5a59e-0d57-4e2e-9228-fa8b3ecd48fe",
   "metadata": {},
   "outputs": [],
   "source": [
    "df_en = pd.read_table('data/all.tok.test.en',header=None, names=['English'])\n",
    "df_th = pd.read_table('data/all.tok.test.th', header=None, names=['Thai'])"
   ]
  },
  {
   "cell_type": "code",
   "execution_count": 3,
   "id": "c82bc497-4ed3-4652-9194-d8343e60df61",
   "metadata": {},
   "outputs": [],
   "source": [
    "df_en[\"English\"] = df_en[\"English\"].str[1:]\n",
    "df_en[\"English\"] = df_en[\"English\"].str.lower()\n",
    "\n",
    "df_en[\"English\"] = df_en[\"English\"].str.replace('&quot;', '')\n",
    "df_en[\"English\"] = df_en[\"English\"].str.replace('&apos;', '')\n",
    "df_en[\"English\"] = df_en[\"English\"].str.replace('&amp; lt ;', '')\n",
    "df_en[\"English\"] = df_en[\"English\"].str.replace('&amp; gt ;', '')\n",
    "df_en[\"English\"] = df_en[\"English\"].str.replace('&amp;', 'and')\n",
    "df_en[\"English\"] = df_en[\"English\"].str.replace('&#91;', '')\n",
    "df_en[\"English\"] = df_en[\"English\"].str.replace('&#93;', '')\n",
    "\n",
    "chars_to_remove = r'[|/\\\\*“”\\-_~^#?.!,:;\\\"\\'()\\[\\]{}<>]'\n",
    "df_en[\"English\"] = df_en[\"English\"].str.replace(chars_to_remove, '', regex=True)\n",
    "\n",
    "df_th[\"Thai\"] = df_th[\"Thai\"].str[1:]\n",
    "df_th[\"Thai\"] = df_th[\"Thai\"].str.lower()\n",
    "\n",
    "df_th[\"Thai\"] = df_th[\"Thai\"].str.replace('&amp;', 'และ')\n",
    "df_th[\"Thai\"] = df_th[\"Thai\"].str.replace('&', 'และ')\n",
    "\n",
    "chars_to_remove = r'[“”!?,\\(\\)\\[\\]\\{\\}<>\\|\\/\\\\:\\\"\\'‘’\\-_~^#.*]'\n",
    "df_th[\"Thai\"] = df_th[\"Thai\"].str.replace(chars_to_remove, '', regex=True)\n",
    "df_th[\"Thai\"] = df_th[\"Thai\"].str.replace('&lt ;', '')\n",
    "df_th[\"Thai\"] = df_th[\"Thai\"].str.replace('&gt ;', '')\n",
    "df_th[\"Thai\"] = df_th[\"Thai\"].str.replace('br', '')"
   ]
  },
  {
   "cell_type": "code",
   "execution_count": 4,
   "id": "61ef1bce-c106-4827-9a81-255fdb000c7c",
   "metadata": {},
   "outputs": [],
   "source": [
    "df_combined = pd.concat([df_en, df_th], axis=1)"
   ]
  },
  {
   "cell_type": "code",
   "execution_count": 85,
   "id": "8d5185c6-94d3-414d-8e29-2318a4e0b13f",
   "metadata": {},
   "outputs": [],
   "source": [
    "df_combined = df_combined[~df_combined['Thai'].str.contains('เจ้า|บิดา|บุตร|ทั้งปวง|สัตว์|ท่าน|พระองค์|ข้า|บรรดา|พระองค์|นัยน์ตา|ปวง|ตรัส|พระเยซู|พระ')]\n",
    "df_combined = df_combined[~df_combined['English'].str.contains('legend | folklore | story | fable | mythology | tale | narrative | history | lore | mystery | myth | supernatural | notion | paradox | common misconception | belief | rumor | stereotypes | misconceptions | curse | fallacies | archetype | cliché | conspiracy theory | phenomenon | parable | truth | custom | prophecy | deity | inconvenient truth | culture | fables | lie | fiction | god | misconception | misperceptions | conspiracy theories | meme | dichotomy | myths | divine | urban legend | stigmas | urban | fantasy | mystical | romanticized | religion | fairy tale | stereotype | greece | preconceptions | perpetuated | delusion | debunked | joke | tall tales | gods | fairy tales | theory | incontrovertible | conspiracy | exceptionalism | illusions | apocryphal | idea | propaganda | gender stereotypes | fact | leg | council | hysteria | fairy | magic | fallacious | debunks | misunderstanding | mistaken belief | tales | metaphor | victimhood | historical | creation myth | fairytale | legends | people | trope | notions | folktale | old | mythical | theories | record | superstition | fire | ragnarok | negative stereotypes | tradition | mythic | gotterdammerung | symbol | animals | folk | wives | rumour | allegory | origins | true | origin | life | the | hero | misinformation | civilization | fake | fate | claim | folkloristics | world | balance | legendary | religious | exaggeration | real | stories | excuse | reality | cult | not | shroud | legacy | mythological | apocalyptic | concept | ancient | greek language | thing | cryptid | hoax | scam | stigma | storyteller | obsession | storytelling | rooted | ice | rule | monster | over | death | false | opinion | fascination | essence | revelation | fallacy | zeus | cliche | man | argument | popular | saying | ghost | marketing | epic | hype | dream | image | irys | storm | bro | character | academia | outdated | personification | forgotten | manifestation | dreams | evil | romance | cradle | magical | antiquity | anecdote | hypothesis | mythos | fairytales | postmodern | cosmogony | conjures | symbolism | evokes | norse | genius | mysticism | betrayal | evolution | truths | biblical | illusion | saga | fictional | mankind | assumption | prophet | civilisation | premise | godlike | bullshit | misnomer | misperception | boogeyman | strawman | taboo | elf | existence | lexicon | imagination | humankind | memories | novel | inspired | relates | modernity | psyche | embodiment | artifact | testament | literal | mysterious | inspiration | utopian | visions | nationalism | describes | spirituality | analogy | egypt | phrase | mysteries | sense | prometheus | archetypal | novella | canard | dogma | truism | twilight of the gods | fabulous | perception | mystique | creator | supposition | chimera | axiom | falsehood | narration | maxim | soothsayer | conceit | blaspheme | fictions | dictum | fantasies | aphorism | agnosticism | hindu | fictitious | untruth | prophetic | divination | narrate | agnostic | atum | pantheism | adage | deism | tetragrammaton | superhuman | spiritual | theism | paradigm | augur | novelette | foretell | thunderstorm | deist | allah | godless | ungodly | theist | polytheism | antihistory | pantheist | monotheism | roman empire | godly | goddamn | jehovah | godliness | godhead | unitarianism | monotheistic | blasphemy | divinity | deification | ambrosial | deify | godhood | divinely | demiurge | omniscient | godmother | debunking | oracle | assertion | narrator | storybook | atheism | indra | demogorgon | almighty | numen | omnipotent | pejorative | theosophy | idol | merciful | quetzalcoatl | pretext | storyline | theo | eternal | miracle | holiness | superbeing | conceptions | shintō | mantra | theopanism | pseudo | nostrum | shibboleth | idealization | presupposition | tautology | dreamworld | phlogiston | incubus | phantasm | falsities | platonism | phantasy | mesmerism | scholasticism | regnant | demonology | molinism | ploutos | suitheism | mahound | dažbog | panentheism | tritheist | omnitheism | pneumatology | panatheism | apatheism | monolatrism | transtheism | polydeism | binitarianism | theopathic | exgod | theophobic | photonovel | henotheism | kathenotheism | pandeism | cosmocrat | divinatory | antigod | bitheism | duotheism | maltheism | yahweh | theurgy | narrater | cosmicism | tritheism | godling | goddy | undivined | godlore | divinator | divineness | ditheism | demigod | ontologism | godward | divinize | dowse | undivine | begod | ungod | semidivine | undeify | duotheistic | apotheosize | divinify | godship | subdivine | tenjin | deific | love story | theurge | undergod | gentilism | talesman | apatheist | monotheist | theophobia | hogwash | halfgod | theanthropism | tall tale | claptrap | bogeyman | izanagi | panendeism | talebook | divineress | physicotheology | short story | trinitarianism | hooey | ryūjin | tall story | preconception | iliad | bunkum | hokum | misapprehension | malthusianism | essentialism | anthropocentrism | prestidigitator | furphy | apocalypticism | mythologise | vitalism | romanticization | syllogism | auteurism | insidiousness | divine providence | cosmologies | odyssey | shaggy dog story | ghost story | aeneid | word of god | spiritual be | high be | personal god | institution | hindu deity | giant | tell tale | fall angel | your mind | divine intervention | most high | holy father | god forsake | god give | god of gap | supreme be | odyssean wicca | spiritual awaken | heaven send | semitic deity | hare krishna | water divine | economical with truth | specious argument | prosperity theology | noble savage | freudian psychology | faerie | wishful thinking | conventional wisdom | died | king | faith | spirituality | christianity | god | prayer | culture | belief | church | holy | christian | worship | theology | religious | bible | buddhism | islam | gods | hinduism | beliefs | teachings | religious belief | devout | jesus | atheism | muslim | judaism | faiths | ethnic | catholicism | atheist | believe | race | doctrine | philosophy | cult | spiritual | religious practice | orthodox | meditation | ritual | conformist | life | resurrection | christ | tradition | law | clean | ideology | morality | theological | atheists | hell | exorcise | ethnicity | cultural | devil | divinity | ideas | satanism | deliver | organized religion | religiophobia | nationality | deity | paganism | creation myth | catholic | muhammad | parents | sacred | orthodoxy | moral | angel | islamic | traditions | values | magical | tribe | supernatural | trance | civilization | occult | intolerance | fundamental | virtue | church of scientology | mythology | creed | speech | mysticism | scientology | sikhism | myth | worldview | region | being | religionist | path | religion | calvinism | human | mormon | festival | sacrifice | heritage | folklore | opinion | community service | religious symbol | covenant | nirvana | sexual orientation | jewish | modernisation | affirmation | netherworld | religionary | tolerance | interchurch | skeptics | messiah | symbol | religiosity | monotheism | zoroastrianism | discalced | misbelieve | reincarnate | taoism | churches | book | morals | practice | cultures | social | organization | doctrines | scriptures | personal | background | sikh | movement | spiritualism | devoutness | conservative | cast | religions | afterlife | views | scripture | school | person | myths | initiation | expression | conservatism | christianism | music | folk | health | religious fundamentalism | institution | bahaism | anti | holiday | believing | purity | races | practices | nonreligious | religious tolerance | theory | relationship | traditional | nonbelievers | cultural system | religious behaviour | religious organization | secular | world view | creeds | sacred history | polygamy | metaphysics | patriarchy | christians | meaning of life | philosophical | radical islam | religious fanaticism | persecution | religious extremism | religious intolerance | worldviews | religious symbols | reincarnation | humanism | atheistic | heterosexuality | civilizational | homosexuals | ancient greece | discrimination | comparative religion | muslims | buddhist | spirit | judaic | cultic | religiously | chastity | beelzebub | redeem | consecration | watch | formalized | wesleyan | establishment | analogy | cultus | novitiate | hades | brother | habit | save | confirm | conforming | saint | toleration | calvinistic | hindu | baptist | antireligious | confessional | philologist | worshipper | wisdom | equality | feminism | teaches | essence | knowledge | existence | rights | monotheistic religion | organize religion | belief system | article of faith | trinity | folk religion | established church | jewish religion | religious mysticism | christian religion | doctrine of analogy | religious sect | old nick | politics | latitudinarian | homosexuality | shamanism | protestant | community | history | lack | methodist | people | irreligion | superstition | cults | sexuality | theism | language | identity | polytheism | nationalism | religious beliefs | religious affiliation | goddess | gender | religiousness | conspiracy | colour | diet | scriptural | creationism | liberalism | clergy | irreligious | sunni | lucifer | impure | urreligion | religiopolitical | latin | religionism | islamist | religionize | pious | esoterism | hermeticism | miscreance | christianist | churchianity | jesusanity | revivalistic | free-thinking | formalistic | forebelief | exorcize | cultist | christianly | education | newchurch | churchless | megachurch | churchlike | churchly | churchwork | contrary | principles | notion | deists | literature | context | rooted | ideals | believers | attitudes | biblical | understanding | notions | practiced | preach | respect | peoples | conscience | origins | abraham | feminist | self religion | free think | moses | new religious movement | scientific revolution | nature worship | eastern orthodox | religious cult | religious order | revealed religion | prince of darkness | gnosticism | fundamentalism | political | lutheran | shinto | society | traditionalism | group | denomination | science | syncretism | calvinist | protestantism | way | hindooism | ancient rome | system | magic | state | agnosticism | christian church | ethics | reform judaism | nicene creed | dogma | higher | domination | pantheon | racial | vaishnavism | non | sexual | sermon | abortion | set | ideologies | racism | funeral | freedom | type | synagogue | mosque | religious sects | believer | fundamentalist | religious text | holy places | underworld | religious minorities | islamic fundamentalism | south asia | establishment clause | darwinism | monotheistic | torah | hate | universe | iran | ethnic religion | abrahamic religions | heretic | unbelief | heathen | rastafarian | melkite | presbyterianism | celibacy | die | formalised | numen | unshod | congregationalist | satan | unclean | pentecostalism | jerusalem | nonreligion | interfaithless | pietas | pentecostal | christendom | misreligion | worshiper | antichristianism | proselyte | faithless | idolatry | rastafarianism | calvinistical | hebraism | pagan | churchy | beliefful | antichurch | faithed | superchurch | scandinavia | interpretation | societies | regard | indian subcontinent | slavery | unitarian universalism | tanakh | talmud | religious denomination | holy roller | methodist church | quran | the tempter | theological virtue | supernatural virtue | hsuan chiao | sexual abstention | asian shamanism | infernal region | russian orthodox | pagan religion | greek orthodox | orthodox judaism | jainism | dharma | brahmanism | sect | wicca | ecclesiasticism | congregational | anglican | shintoism | caste | government | episcopal | episcopalian | demythologization | richard dawkins | arcana | skin | age | kultur | not | party | mandaeism | sex | unitarianism | heathenism | philosophies | manichaeism | banquet | ethnie | matrimony | narrative | kirche | brahminism | mithraism | cicero | druidism | religious cosmology | max müller | political correctness | sufism | edward burnett tylor | clifford geertz | moral relativism | moslems | anthropology of religion | judeo christian | ahimsa | ayyavazhi | heathendom | taoist | sunnism | votary | pontiff | wiccan | vigil | cloister | censer | lactantius | parareligion | religitard | pseudoreligion | religiose | menorah | subreligion | nullifidian | sanskrit | nonobservant | nonconformist | monophysite | shaktism | kirk | hegel | pentecost | xueta | durkheim | mithraicism | demythologisation | transmigrate | catechismal | mazdaism | scheol | jewish-orthodox | thurible | discalceate | manichaeanism | apophatism | cataphatism | canonise | canonize | undogmatic | noviciate | animism | deconversion | druidry | sacerdotalism | churchgoing | prāyaścitta | dharmaśāstra | ācāra | cenobite | creance | churchperson | antetemple | tenets | discourse | polybius | refers | intellectual | midrash | khalsa | unitarian | secularism | joseph campbell | undogmatical | judeo islamo christian | religion | meantime ')]\n",
    "df_combined = df_combined[df_combined['English'].str.contains(' thai | tour | hotel | restaurant | thailand | tourists | bangkok | airport | foreigners | travelers | suvarnabhumi | transportation | koh | taxi | guide | spa | swim | swimming | thai | thailand | temple | hotel | tour | tourism | journey | street | road | food | restaurant | trip | souvenir | transportation | subway | metro | airport | newspaper | train | guide | relax | sleep | gate | swim | pool | check-in | checkout | beach | boat')]\n",
    "df_combined = df_combined[df_combined['Thai'].str.contains('ท่องเที่ยว|ชายหาด|ทะเล|ภูเขา|ร้านอาหาร|จอง|เรือ|เดินทาง|ไทย|ประเทศ|อาหาร|เส้นทาง|สระ|ว่ายน้ำ|พักผ่อน|วัด|กรุงเทพ|สนามบิน|เเท็กซี่|นำทาง|รถไฟ|เครื่องบิน|ตั๋ว|กระเป๋า|เเนะนำ|ของกิน|อร่อย|ชอบ|มา|ไป')]"
   ]
  },
  {
   "cell_type": "code",
   "execution_count": null,
   "id": "73f019a2",
   "metadata": {},
   "outputs": [],
   "source": []
  },
  {
   "cell_type": "code",
   "execution_count": 5,
   "id": "49c99d49",
   "metadata": {},
   "outputs": [],
   "source": [
    "df_combined =df_combined[0:67]\n",
    "# new_rows = [\n",
    "#     {'English': 'god '*40, 'Thai': 'พระเจ้า '* 40},\n",
    "#     {'English': 'woman '* 40, 'Thai': 'หญิง '* 40},\n",
    "#     {'English': 'earth '* 40, 'Thai': ' เเผ่นดิน'* 40}\n",
    "# ]\n",
    "\n",
    "# # Concatenate the existing DataFrame with the new rows\n",
    "# df_combined = pd.concat([df_combined, pd.DataFrame(new_rows)], ignore_index=True)"
   ]
  },
  {
   "cell_type": "code",
   "execution_count": 6,
   "id": "70dc93d8-85f5-4274-a2e5-7af2fb3a650d",
   "metadata": {},
   "outputs": [
    {
     "data": {
      "text/html": [
       "<div>\n",
       "<style scoped>\n",
       "    .dataframe tbody tr th:only-of-type {\n",
       "        vertical-align: middle;\n",
       "    }\n",
       "\n",
       "    .dataframe tbody tr th {\n",
       "        vertical-align: top;\n",
       "    }\n",
       "\n",
       "    .dataframe thead th {\n",
       "        text-align: right;\n",
       "    }\n",
       "</style>\n",
       "<table border=\"1\" class=\"dataframe\">\n",
       "  <thead>\n",
       "    <tr style=\"text-align: right;\">\n",
       "      <th></th>\n",
       "      <th>English</th>\n",
       "      <th>Thai</th>\n",
       "    </tr>\n",
       "  </thead>\n",
       "  <tbody>\n",
       "    <tr>\n",
       "      <th>0</th>\n",
       "      <td>in the beginning god created the heavens and t...</td>\n",
       "      <td>ใน เริ่ม แรก นั้น พระเจ้า ทรง เนรมิต สร้าง ฟ้า...</td>\n",
       "    </tr>\n",
       "    <tr>\n",
       "      <th>1</th>\n",
       "      <td>now the earth was formless and empty  darkness...</td>\n",
       "      <td>แผ่นดิน โลก นั้น ก็ ปราศจาก รูปร่าง และ ว่างเป...</td>\n",
       "    </tr>\n",
       "    <tr>\n",
       "      <th>2</th>\n",
       "      <td>god said   let there be light   and there was ...</td>\n",
       "      <td>วัน ที่ หนึ่ง ปรากฏ มี ความ สว่าง เกิด ขึ้น พร...</td>\n",
       "    </tr>\n",
       "    <tr>\n",
       "      <th>3</th>\n",
       "      <td>god saw the light  and saw that it was good  g...</td>\n",
       "      <td>พระเจ้า ทรง เห็น ว่า ความ สว่าง นั้น ดี และ พร...</td>\n",
       "    </tr>\n",
       "    <tr>\n",
       "      <th>4</th>\n",
       "      <td>god called the light  day   and the darkness h...</td>\n",
       "      <td>พระเจ้า ทรง เรียก ความ สว่าง นั้น ว่า วัน และ ...</td>\n",
       "    </tr>\n",
       "    <tr>\n",
       "      <th>...</th>\n",
       "      <td>...</td>\n",
       "      <td>...</td>\n",
       "    </tr>\n",
       "    <tr>\n",
       "      <th>62</th>\n",
       "      <td>the eyes of both of them were opened  and they...</td>\n",
       "      <td>ตา ของ เขา ทั้ง สอง ก็ สว่าง ขึ้น เขา จึง รู้ ...</td>\n",
       "    </tr>\n",
       "    <tr>\n",
       "      <th>63</th>\n",
       "      <td>they heard the voice of yahweh god walking in ...</td>\n",
       "      <td>อาดัม และ เอวา ไม่ กล้า พบ พระเจ้า ใน เวลา เย็...</td>\n",
       "    </tr>\n",
       "    <tr>\n",
       "      <th>64</th>\n",
       "      <td>yahweh god called to the man  and said to him ...</td>\n",
       "      <td>พระเยโฮวาห์ พระเจ้า ทรง เรียก อาดัม และ ตรัส แ...</td>\n",
       "    </tr>\n",
       "    <tr>\n",
       "      <th>65</th>\n",
       "      <td>the man said   i heard your voice in the garde...</td>\n",
       "      <td>เขา ทูล ว่า  ข้าพระองค์ ได้ยิน พระสุรเสียง ของ...</td>\n",
       "    </tr>\n",
       "    <tr>\n",
       "      <th>66</th>\n",
       "      <td>god said   who told you that you were naked  h...</td>\n",
       "      <td>พระองค์ ตรัสว่า  ใคร ได้ บอก เจ้าว่า เจ้า เปลื...</td>\n",
       "    </tr>\n",
       "  </tbody>\n",
       "</table>\n",
       "<p>67 rows × 2 columns</p>\n",
       "</div>"
      ],
      "text/plain": [
       "                                              English   \n",
       "0   in the beginning god created the heavens and t...  \\\n",
       "1   now the earth was formless and empty  darkness...   \n",
       "2   god said   let there be light   and there was ...   \n",
       "3   god saw the light  and saw that it was good  g...   \n",
       "4   god called the light  day   and the darkness h...   \n",
       "..                                                ...   \n",
       "62  the eyes of both of them were opened  and they...   \n",
       "63  they heard the voice of yahweh god walking in ...   \n",
       "64  yahweh god called to the man  and said to him ...   \n",
       "65  the man said   i heard your voice in the garde...   \n",
       "66  god said   who told you that you were naked  h...   \n",
       "\n",
       "                                                 Thai  \n",
       "0   ใน เริ่ม แรก นั้น พระเจ้า ทรง เนรมิต สร้าง ฟ้า...  \n",
       "1   แผ่นดิน โลก นั้น ก็ ปราศจาก รูปร่าง และ ว่างเป...  \n",
       "2   วัน ที่ หนึ่ง ปรากฏ มี ความ สว่าง เกิด ขึ้น พร...  \n",
       "3   พระเจ้า ทรง เห็น ว่า ความ สว่าง นั้น ดี และ พร...  \n",
       "4   พระเจ้า ทรง เรียก ความ สว่าง นั้น ว่า วัน และ ...  \n",
       "..                                                ...  \n",
       "62  ตา ของ เขา ทั้ง สอง ก็ สว่าง ขึ้น เขา จึง รู้ ...  \n",
       "63  อาดัม และ เอวา ไม่ กล้า พบ พระเจ้า ใน เวลา เย็...  \n",
       "64  พระเยโฮวาห์ พระเจ้า ทรง เรียก อาดัม และ ตรัส แ...  \n",
       "65  เขา ทูล ว่า  ข้าพระองค์ ได้ยิน พระสุรเสียง ของ...  \n",
       "66  พระองค์ ตรัสว่า  ใคร ได้ บอก เจ้าว่า เจ้า เปลื...  \n",
       "\n",
       "[67 rows x 2 columns]"
      ]
     },
     "execution_count": 6,
     "metadata": {},
     "output_type": "execute_result"
    }
   ],
   "source": [
    "df_combined = df_combined.reset_index(drop=True)\n",
    "df_combined"
   ]
  },
  {
   "cell_type": "code",
   "execution_count": 31,
   "id": "4a9fac15",
   "metadata": {},
   "outputs": [
    {
     "name": "stdout",
     "output_type": "stream",
     "text": [
      "['god', 'said', '', '', 'who', 'told', 'you', 'that', 'you', 'were', 'naked', '', 'have', 'you', 'eaten', 'from', 'the', 'tree', 'that', 'i', 'commanded', 'you', 'not', 'to', 'eat', 'from', '', '']\n",
      "['god', 'said', '', '', 'told', 'naked', '', 'eaten', 'tree', 'commanded', 'eat', '', '']\n",
      "god said told naked eaten tree commanded eat \n"
     ]
    }
   ],
   "source": [
    "\n",
    "from nltk.corpus import stopwords\n",
    "from nltk.tokenize import word_tokenize\n",
    " \n",
    "stop_words = set(stopwords.words('english'))\n",
    "sentence = []\n",
    "index = 0\n",
    "\n",
    "for i in df_combined['English']:\n",
    "    filtered_sentence= []\n",
    "    integrate_sentence = \"\"\n",
    "    sentence = i.split(\" \");\n",
    "    for w in sentence:\n",
    "        if w not in stop_words:\n",
    "            filtered_sentence.append(w)\n",
    "    for fw in filtered_sentence:\n",
    "        if (fw != ''):\n",
    "            integrate_sentence += fw + \" \"\n",
    "    df_combined['English'][index] = integrate_sentence\n",
    "    index += 1\n",
    "\n",
    " \n",
    "print(sentence)\n",
    "print(filtered_sentence)\n",
    "print(integrate_sentence)\n"
   ]
  },
  {
   "cell_type": "code",
   "execution_count": 54,
   "id": "040bf5d5",
   "metadata": {},
   "outputs": [
    {
     "name": "stdout",
     "output_type": "stream",
     "text": [
      "['พระองค์', 'ตรัสว่า', '', 'ใคร', 'ได้', 'บอก', 'เจ้าว่า', 'เจ้า', 'เปลือย', 'กาย', 'อยู่', 'เจ้า', 'ได้', 'กิน', 'ผล', 'จาก', 'ต้น', 'ไม้', 'นั้น', 'ซึ่ง', 'เรา', 'สั่ง', 'เจ้า', 'ไว้', 'ว่า', 'เจ้าอย่า', 'กิน', 'แล้ว', 'หรือ', '']\n",
      "['พระองค์', 'ตรัสว่า', '', 'เจ้าว่า', 'เจ้า', 'เปลือย', 'กาย', 'เจ้า', 'กิน', 'ต้น', 'ไม้', 'สั่ง', 'เจ้า', 'เจ้าอย่า', 'กิน', '']\n",
      "พระองค์ ตรัสว่า เจ้าว่า เจ้า เปลือย กาย เจ้า กิน ต้น ไม้ สั่ง เจ้า เจ้าอย่า กิน \n"
     ]
    }
   ],
   "source": [
    "from pythainlp.corpus import thai_stopwords\n",
    "\n",
    "stop_words = list(thai_stopwords())\n",
    "sentence = []\n",
    "index = 0\n",
    "\n",
    "for i in df_combined['Thai']:\n",
    "    filtered_sentence= []\n",
    "    integrate_sentence = \"\"\n",
    "    sentence = i.split(\" \");\n",
    "    for w in sentence:\n",
    "        if w not in stop_words:\n",
    "            filtered_sentence.append(w)\n",
    "    for fw in filtered_sentence:\n",
    "        if (fw != ''):\n",
    "            integrate_sentence += fw + \" \"\n",
    "    df_combined['Thai'][index] = integrate_sentence\n",
    "    index += 1\n",
    " \n",
    "print(sentence)\n",
    "print(filtered_sentence)\n",
    "print(integrate_sentence)\n"
   ]
  },
  {
   "cell_type": "code",
   "execution_count": 55,
   "id": "9b318343",
   "metadata": {},
   "outputs": [
    {
     "name": "stdout",
     "output_type": "stream",
     "text": [
      "beginning god created heavens earth \n",
      "พระเจ้า เนรมิต สร้าง ฟ้า แผ่นดิน โลก \n",
      "earth formless empty darkness surface deep god spirit hovering surface waters \n",
      "แผ่นดิน โลก ปราศจาก รูปร่าง ว่างเปล่า มืด เหนือ ผิว น้ำ พระวิญญาณ พระเจ้า ปก เหนือ ผิว น้ำ \n",
      "god said let light light \n",
      "สว่าง พระเจ้าตรัสว่า สว่าง สว่าง \n",
      "god saw light saw good god divided light darkness \n",
      "พระเจ้า สว่าง ดี พระเจ้า แยก สว่าง มืด \n",
      "god called light day darkness called night evening morning one day \n",
      "พระเจ้า สว่าง พระองค์ มืด คืน เวลา เย็น เวลา เช้า \n",
      "god said let expanse middle waters let divide waters waters \n",
      "สอง เมฆ เหนือ ผิว น้ำ พระเจ้าตรัสว่า พื้น อากาศ น้ำ พื้น อากาศ แยก น้ำ น้ำ \n",
      "god made expanse divided waters expanse waters expanse \n",
      "พระเจ้า สร้าง พื้นอากาศ แยกน้ำ พื้น อากาศ น้ำ เหนือ พื้น อากาศ \n",
      "god called expanse sky evening morning second day \n",
      "พระเจ้า พื้น อากาศ ฟ้า เวลา เย็น เวลา เช้า สอง \n",
      "god said let waters sky gathered together one place let dry land appear \n",
      "สาม ทะเล แผ่นดิน พืชพันธุ์ พระเจ้าตรัสว่า น้ำ ฟ้า รวบรวม แห้ง \n"
     ]
    }
   ],
   "source": [
    "for i in range(0,9):\n",
    "    print(df_combined['English'][i])\n",
    "    print(df_combined['Thai'][i])"
   ]
  },
  {
   "cell_type": "code",
   "execution_count": 32,
   "id": "c6763e32-0f3f-4e47-8319-0f2963d15f5e",
   "metadata": {},
   "outputs": [
    {
     "data": {
      "text/plain": [
       "English    0\n",
       "Thai       0\n",
       "dtype: int64"
      ]
     },
     "execution_count": 32,
     "metadata": {},
     "output_type": "execute_result"
    }
   ],
   "source": [
    "df_combined.isnull().sum()"
   ]
  },
  {
   "cell_type": "code",
   "execution_count": 35,
   "id": "f3071fa5-9637-4bfd-b5b5-9a48a1f16950",
   "metadata": {},
   "outputs": [
    {
     "data": {
      "text/plain": [
       "'!\"#$%&\\'()*+,-./:;<=>?@[\\\\]^_`{|}~'"
      ]
     },
     "execution_count": 35,
     "metadata": {},
     "output_type": "execute_result"
    }
   ],
   "source": [
    "string.punctuation\n"
   ]
  },
  {
   "cell_type": "code",
   "execution_count": 56,
   "id": "21e8b353-8662-4995-acff-86e0be25e3fa",
   "metadata": {},
   "outputs": [],
   "source": [
    "def tokenize(inp):\n",
    "    tokenizer = Tokenizer()\n",
    "    tokenizer.fit_on_texts(inp)\n",
    "    return tokenizer.texts_to_sequences(inp), tokenizer\n",
    "\n",
    "o,u = tokenize(df_combined[\"English\"])"
   ]
  },
  {
   "cell_type": "code",
   "execution_count": 57,
   "id": "01c2bd53-9227-47f9-b9df-4ce374ac8b5d",
   "metadata": {},
   "outputs": [
    {
     "data": {
      "text/plain": [
       "67"
      ]
     },
     "execution_count": 57,
     "metadata": {},
     "output_type": "execute_result"
    }
   ],
   "source": [
    "len(o)"
   ]
  },
  {
   "cell_type": "code",
   "execution_count": 58,
   "id": "b8d3e1f8-a136-422a-8cff-5e868d8f4845",
   "metadata": {},
   "outputs": [],
   "source": [
    "i,uk =  tokenize(df_combined[\"Thai\"])"
   ]
  },
  {
   "cell_type": "code",
   "execution_count": 59,
   "id": "c40c2dcf-c89a-42f9-8ca8-f23ffb0b73b3",
   "metadata": {},
   "outputs": [
    {
     "data": {
      "text/plain": [
       "67"
      ]
     },
     "execution_count": 59,
     "metadata": {},
     "output_type": "execute_result"
    }
   ],
   "source": [
    "len(i)"
   ]
  },
  {
   "cell_type": "code",
   "execution_count": 60,
   "id": "185510bf-0951-4212-a6c4-0e95c4268fd5",
   "metadata": {},
   "outputs": [
    {
     "name": "stdout",
     "output_type": "stream",
     "text": [
      "Maximum sequence length in combined dataset x:  22\n",
      "Maximum sequence length in combined dataset x:  27\n"
     ]
    }
   ],
   "source": [
    "def calculate_max_sequence_length(text):\n",
    "    # Concatenate x_train_seq and x_test_seq\n",
    "    combined_sequences = text\n",
    "    max_length_combined = max(len(sequence) for sequence in combined_sequences)\n",
    "\n",
    "    return max_length_combined\n",
    "\n",
    "max_length_combined_x = calculate_max_sequence_length(o)\n",
    "print(\"Maximum sequence length in combined dataset x: \", max_length_combined_x)\n",
    "max_length_combined_y = calculate_max_sequence_length(i)\n",
    "print(\"Maximum sequence length in combined dataset x: \", max_length_combined_y)"
   ]
  },
  {
   "cell_type": "code",
   "execution_count": 61,
   "id": "83de33dd-56a5-4650-836f-d169622853e6",
   "metadata": {},
   "outputs": [],
   "source": [
    "x_train,x_test,y_train,y_test = train_test_split(o,i,test_size = 0.25, random_state = 42)"
   ]
  },
  {
   "cell_type": "code",
   "execution_count": null,
   "id": "aa4b1de3",
   "metadata": {},
   "outputs": [],
   "source": []
  },
  {
   "cell_type": "code",
   "execution_count": 62,
   "id": "b5263736-b52a-4c06-9892-8850688d09ca",
   "metadata": {},
   "outputs": [],
   "source": [
    "x_train_main = pad_sequences(x_train, maxlen=25, padding='pre')\n",
    "y_train_main = pad_sequences(y_train, maxlen=26, padding='pre')"
   ]
  },
  {
   "cell_type": "code",
   "execution_count": 63,
   "id": "425ab485",
   "metadata": {},
   "outputs": [
    {
     "data": {
      "text/plain": [
       "array([  0,   0,   0,   0,   0,   0,   0,   0,   0,   0,   0,   0,   0,\n",
       "         0,   0,   1,  17,  57,  10,  98,   9,  24,  25, 159,   5])"
      ]
     },
     "execution_count": 63,
     "metadata": {},
     "output_type": "execute_result"
    }
   ],
   "source": [
    "x_train_main[2]"
   ]
  },
  {
   "cell_type": "code",
   "execution_count": 64,
   "id": "897c88ce-feef-4fb1-b834-4e9c4e886eca",
   "metadata": {},
   "outputs": [],
   "source": [
    "x_test_main = pad_sequences(x_test, maxlen=25, padding='pre')\n",
    "y_test_main = pad_sequences(y_test, maxlen=26, padding='pre')"
   ]
  },
  {
   "cell_type": "code",
   "execution_count": 65,
   "id": "d1e65e00-3d16-4861-98e2-335299558d07",
   "metadata": {},
   "outputs": [],
   "source": [
    "def create_model(vocab_size_input, vocab_size_output, max_seq_length_input, max_seq_length_output, embedding_dim, hidden_units):\n",
    "    # Define encoder input layer\n",
    "    encoder_inputs = Input(shape=(max_seq_length_input,))\n",
    "    \n",
    "    # Define encoder embedding layer\n",
    "    encoder_embedding = Embedding(input_dim=vocab_size_input, output_dim=embedding_dim)(encoder_inputs)\n",
    "    \n",
    "    # Define encoder LSTM layer\n",
    "    encoder_lstm = LSTM(hidden_units, return_state=True)\n",
    "    encoder_outputs, state_h, state_c = encoder_lstm(encoder_embedding)\n",
    "    encoder_outputs = Dropout(0.6)(encoder_outputs)\n",
    "\n",
    "    # Discard encoder outputs and keep only the states\n",
    "    encoder_states = [state_h, state_c]\n",
    "    \n",
    "    # Define decoder input layer\n",
    "    decoder_inputs = Input(shape=(max_seq_length_output,))\n",
    "    \n",
    "    # Define decoder embedding layer\n",
    "    decoder_embedding = Embedding(input_dim=vocab_size_output, output_dim=embedding_dim)(decoder_inputs)\n",
    "    \n",
    "    # Define decoder LSTM layer with initial state set to encoder states\n",
    "    decoder_lstm = LSTM(hidden_units, return_sequences=True, return_state=True)\n",
    "    decoder_outputs, _, _ = decoder_lstm(decoder_embedding, initial_state=encoder_states)\n",
    "    decoder_outputs = Dropout(0.5)(decoder_outputs)\n",
    "    \n",
    "    # Define decoder output layer\n",
    "    decoder_dense = Dense(vocab_size_output, activation='softmax')\n",
    "    decoder_outputs = decoder_dense(decoder_outputs)\n",
    "    \n",
    "    # Define the model\n",
    "    model = Model([encoder_inputs, decoder_inputs], decoder_outputs)\n",
    "    print(model.summary())\n",
    "    return model"
   ]
  },
  {
   "cell_type": "code",
   "execution_count": 66,
   "id": "d46a0606-5fe4-405f-9708-8600fce4e6c1",
   "metadata": {},
   "outputs": [
    {
     "name": "stdout",
     "output_type": "stream",
     "text": [
      "Vocabulary size for English: 246\n",
      "Vocabulary size for Thai: 239\n"
     ]
    }
   ],
   "source": [
    "vocab_size_input = len(u.word_index) + 1  # Add 1 for padding token\n",
    "#max_seq_length_input = max(len(str(sentence)) for sentence in data['English'])\n",
    "\n",
    "vocab_size_output = len(uk.word_index) + 1  # Add 1 for padding token\n",
    "#max_seq_length_output = max(len(str(sentence)) for sentence in data['Hindi'])\n",
    "\n",
    "print(\"Vocabulary size for English:\", vocab_size_input)\n",
    "#print(\"Maximum sequence length for English:\", max_seq_length_input)\n",
    "print(\"Vocabulary size for Thai:\", vocab_size_output)\n",
    "#print(\"Maximum sequence length for Hindi:\", max_seq_length_output)"
   ]
  },
  {
   "cell_type": "code",
   "execution_count": 68,
   "id": "d8035150-1a79-481a-9164-27a6ad5c6e17",
   "metadata": {},
   "outputs": [
    {
     "name": "stdout",
     "output_type": "stream",
     "text": [
      "Maximum sequence length in combined english dataset:  133\n",
      "Maximum sequence length in combined hindi dataset:  166\n"
     ]
    }
   ],
   "source": [
    "def calculate_max_sequence_length(text):\n",
    "    # Concatenate x_train_seq and x_test_seq\n",
    "    combined_sequences = text\n",
    "    max_length_combined = max(len(sequence) for sequence in combined_sequences)\n",
    "\n",
    "    return max_length_combined\n",
    "\n",
    "max_seq_length_input = calculate_max_sequence_length(df_combined['English'])\n",
    "print(\"Maximum sequence length in combined english dataset: \", max_seq_length_input)\n",
    "max_seq_length_output = calculate_max_sequence_length(df_combined['Thai'])\n",
    "print(\"Maximum sequence length in combined hindi dataset: \", max_seq_length_output)"
   ]
  },
  {
   "cell_type": "code",
   "execution_count": 69,
   "id": "352eb80d-4d92-48c3-9fe9-6eab2cbe8eb5",
   "metadata": {},
   "outputs": [
    {
     "name": "stdout",
     "output_type": "stream",
     "text": [
      "246\n",
      "239\n",
      "Model: \"model_1\"\n",
      "__________________________________________________________________________________________________\n",
      " Layer (type)                   Output Shape         Param #     Connected to                     \n",
      "==================================================================================================\n",
      " input_3 (InputLayer)           [(None, 25)]         0           []                               \n",
      "                                                                                                  \n",
      " input_4 (InputLayer)           [(None, 25)]         0           []                               \n",
      "                                                                                                  \n",
      " embedding_2 (Embedding)        (None, 25, 395)      97170       ['input_3[0][0]']                \n",
      "                                                                                                  \n",
      " embedding_3 (Embedding)        (None, 25, 395)      94405       ['input_4[0][0]']                \n",
      "                                                                                                  \n",
      " lstm_2 (LSTM)                  [(None, 26),         43888       ['embedding_2[0][0]']            \n",
      "                                 (None, 26),                                                      \n",
      "                                 (None, 26)]                                                      \n",
      "                                                                                                  \n",
      " lstm_3 (LSTM)                  [(None, 25, 26),     43888       ['embedding_3[0][0]',            \n",
      "                                 (None, 26),                      'lstm_2[0][1]',                 \n",
      "                                 (None, 26)]                      'lstm_2[0][2]']                 \n",
      "                                                                                                  \n",
      " dropout_3 (Dropout)            (None, 25, 26)       0           ['lstm_3[0][0]']                 \n",
      "                                                                                                  \n",
      " dense_1 (Dense)                (None, 25, 239)      6453        ['dropout_3[0][0]']              \n",
      "                                                                                                  \n",
      "==================================================================================================\n",
      "Total params: 285,804\n",
      "Trainable params: 285,804\n",
      "Non-trainable params: 0\n",
      "__________________________________________________________________________________________________\n",
      "None\n"
     ]
    }
   ],
   "source": [
    "embedding_dim = 395\n",
    "hidden_units = 26\n",
    "batch_size = 1\n",
    "\n",
    "print(vocab_size_input)\n",
    "print(vocab_size_output)\n",
    "\n",
    "model = create_model(vocab_size_input, vocab_size_output, 25, 25, embedding_dim, hidden_units)\n",
    "\n",
    "model.compile(optimizer='rmsprop', loss='sparse_categorical_crossentropy',metrics=['accuracy'])"
   ]
  },
  {
   "cell_type": "code",
   "execution_count": 70,
   "id": "49c83052-dd81-4917-b8f1-2081d84e58b1",
   "metadata": {},
   "outputs": [
    {
     "name": "stdout",
     "output_type": "stream",
     "text": [
      "Epoch 1/150\n",
      "50/50 [==============================] - 3s 20ms/step - loss: 4.5795 - accuracy: 0.4496 - val_loss: 3.2963 - val_accuracy: 0.5647\n",
      "Epoch 2/150\n",
      "50/50 [==============================] - 0s 8ms/step - loss: 3.3434 - accuracy: 0.4752 - val_loss: 2.6113 - val_accuracy: 0.5647\n",
      "Epoch 3/150\n",
      "50/50 [==============================] - 0s 7ms/step - loss: 3.0036 - accuracy: 0.4752 - val_loss: 2.4428 - val_accuracy: 0.5647\n",
      "Epoch 4/150\n",
      "50/50 [==============================] - 0s 7ms/step - loss: 2.8968 - accuracy: 0.4752 - val_loss: 2.3854 - val_accuracy: 0.5647\n",
      "Epoch 5/150\n",
      "50/50 [==============================] - 0s 7ms/step - loss: 2.8263 - accuracy: 0.4760 - val_loss: 2.3591 - val_accuracy: 0.5647\n",
      "Epoch 6/150\n",
      "50/50 [==============================] - 0s 8ms/step - loss: 2.7672 - accuracy: 0.4760 - val_loss: 2.3462 - val_accuracy: 0.5647\n",
      "Epoch 7/150\n",
      "50/50 [==============================] - 0s 7ms/step - loss: 2.7286 - accuracy: 0.4752 - val_loss: 2.3321 - val_accuracy: 0.5647\n",
      "Epoch 8/150\n",
      "50/50 [==============================] - 0s 7ms/step - loss: 2.6900 - accuracy: 0.4792 - val_loss: 2.3275 - val_accuracy: 0.5671\n",
      "Epoch 9/150\n",
      "50/50 [==============================] - 0s 7ms/step - loss: 2.6757 - accuracy: 0.4784 - val_loss: 2.3104 - val_accuracy: 0.5671\n",
      "Epoch 10/150\n",
      "50/50 [==============================] - 0s 7ms/step - loss: 2.6170 - accuracy: 0.4808 - val_loss: 2.2833 - val_accuracy: 0.5718\n",
      "Epoch 11/150\n",
      "50/50 [==============================] - 0s 7ms/step - loss: 2.6136 - accuracy: 0.4888 - val_loss: 2.2974 - val_accuracy: 0.5718\n",
      "Epoch 12/150\n",
      "50/50 [==============================] - 0s 7ms/step - loss: 2.5933 - accuracy: 0.4888 - val_loss: 2.2729 - val_accuracy: 0.5788\n",
      "Epoch 13/150\n",
      "50/50 [==============================] - 0s 8ms/step - loss: 2.5706 - accuracy: 0.4944 - val_loss: 2.2560 - val_accuracy: 0.5741\n",
      "Epoch 14/150\n",
      "50/50 [==============================] - 0s 7ms/step - loss: 2.5279 - accuracy: 0.5040 - val_loss: 2.2745 - val_accuracy: 0.5788\n",
      "Epoch 15/150\n",
      "50/50 [==============================] - 0s 8ms/step - loss: 2.5415 - accuracy: 0.4992 - val_loss: 2.2437 - val_accuracy: 0.5812\n",
      "Epoch 16/150\n",
      "50/50 [==============================] - 0s 8ms/step - loss: 2.4987 - accuracy: 0.4984 - val_loss: 2.2370 - val_accuracy: 0.5882\n",
      "Epoch 17/150\n",
      "50/50 [==============================] - 0s 8ms/step - loss: 2.4723 - accuracy: 0.5088 - val_loss: 2.2395 - val_accuracy: 0.5882\n",
      "Epoch 18/150\n",
      "50/50 [==============================] - 0s 7ms/step - loss: 2.4504 - accuracy: 0.5096 - val_loss: 2.2326 - val_accuracy: 0.5929\n",
      "Epoch 19/150\n",
      "50/50 [==============================] - 0s 8ms/step - loss: 2.4323 - accuracy: 0.5160 - val_loss: 2.2210 - val_accuracy: 0.5953\n",
      "Epoch 20/150\n",
      "50/50 [==============================] - 0s 7ms/step - loss: 2.4061 - accuracy: 0.5096 - val_loss: 2.2077 - val_accuracy: 0.5929\n",
      "Epoch 21/150\n",
      "50/50 [==============================] - 0s 8ms/step - loss: 2.4223 - accuracy: 0.5048 - val_loss: 2.2042 - val_accuracy: 0.6000\n",
      "Epoch 22/150\n",
      "50/50 [==============================] - 0s 8ms/step - loss: 2.3675 - accuracy: 0.5248 - val_loss: 2.2211 - val_accuracy: 0.5906\n",
      "Epoch 23/150\n",
      "50/50 [==============================] - 0s 7ms/step - loss: 2.3845 - accuracy: 0.5224 - val_loss: 2.2272 - val_accuracy: 0.6024\n",
      "Epoch 24/150\n",
      "50/50 [==============================] - 0s 7ms/step - loss: 2.3558 - accuracy: 0.5248 - val_loss: 2.2151 - val_accuracy: 0.6094\n",
      "Epoch 25/150\n",
      "50/50 [==============================] - 0s 7ms/step - loss: 2.3371 - accuracy: 0.5304 - val_loss: 2.2215 - val_accuracy: 0.6047\n",
      "Epoch 26/150\n",
      "50/50 [==============================] - 0s 7ms/step - loss: 2.3276 - accuracy: 0.5272 - val_loss: 2.2051 - val_accuracy: 0.6071\n",
      "Epoch 27/150\n",
      "50/50 [==============================] - 0s 8ms/step - loss: 2.3173 - accuracy: 0.5312 - val_loss: 2.2048 - val_accuracy: 0.6000\n",
      "Epoch 28/150\n",
      "50/50 [==============================] - 0s 7ms/step - loss: 2.2823 - accuracy: 0.5432 - val_loss: 2.2095 - val_accuracy: 0.5929\n",
      "Epoch 29/150\n",
      "50/50 [==============================] - 0s 7ms/step - loss: 2.2911 - accuracy: 0.5416 - val_loss: 2.2172 - val_accuracy: 0.5953\n",
      "Epoch 30/150\n",
      "50/50 [==============================] - 0s 7ms/step - loss: 2.2589 - accuracy: 0.5424 - val_loss: 2.1960 - val_accuracy: 0.5953\n",
      "Epoch 31/150\n",
      "50/50 [==============================] - 0s 8ms/step - loss: 2.2610 - accuracy: 0.5408 - val_loss: 2.2476 - val_accuracy: 0.5718\n",
      "Epoch 32/150\n",
      "50/50 [==============================] - 0s 7ms/step - loss: 2.2309 - accuracy: 0.5560 - val_loss: 2.1779 - val_accuracy: 0.6024\n",
      "Epoch 33/150\n",
      "50/50 [==============================] - 0s 7ms/step - loss: 2.2241 - accuracy: 0.5456 - val_loss: 2.1704 - val_accuracy: 0.6000\n",
      "Epoch 34/150\n",
      "50/50 [==============================] - 0s 7ms/step - loss: 2.2166 - accuracy: 0.5504 - val_loss: 2.1825 - val_accuracy: 0.5976\n",
      "Epoch 35/150\n",
      "50/50 [==============================] - 0s 7ms/step - loss: 2.1967 - accuracy: 0.5488 - val_loss: 2.1588 - val_accuracy: 0.6047\n",
      "Epoch 36/150\n",
      "50/50 [==============================] - 0s 8ms/step - loss: 2.1904 - accuracy: 0.5464 - val_loss: 2.1625 - val_accuracy: 0.6071\n",
      "Epoch 37/150\n",
      "50/50 [==============================] - 0s 8ms/step - loss: 2.1602 - accuracy: 0.5576 - val_loss: 2.1848 - val_accuracy: 0.5882\n",
      "Epoch 38/150\n",
      "50/50 [==============================] - 0s 7ms/step - loss: 2.1541 - accuracy: 0.5616 - val_loss: 2.1792 - val_accuracy: 0.5953\n",
      "Epoch 39/150\n",
      "50/50 [==============================] - 0s 7ms/step - loss: 2.1382 - accuracy: 0.5600 - val_loss: 2.1694 - val_accuracy: 0.5976\n",
      "Epoch 40/150\n",
      "50/50 [==============================] - 0s 7ms/step - loss: 2.1310 - accuracy: 0.5632 - val_loss: 2.1488 - val_accuracy: 0.6071\n",
      "Epoch 41/150\n",
      "50/50 [==============================] - 0s 7ms/step - loss: 2.1250 - accuracy: 0.5640 - val_loss: 2.2048 - val_accuracy: 0.5835\n",
      "Epoch 42/150\n",
      "50/50 [==============================] - 0s 8ms/step - loss: 2.1161 - accuracy: 0.5584 - val_loss: 2.2260 - val_accuracy: 0.5788\n",
      "Epoch 43/150\n",
      "50/50 [==============================] - 0s 7ms/step - loss: 2.1009 - accuracy: 0.5648 - val_loss: 2.1635 - val_accuracy: 0.5976\n",
      "Epoch 44/150\n",
      "50/50 [==============================] - 0s 7ms/step - loss: 2.0900 - accuracy: 0.5632 - val_loss: 2.2498 - val_accuracy: 0.5694\n",
      "Epoch 45/150\n",
      "50/50 [==============================] - 0s 7ms/step - loss: 2.0805 - accuracy: 0.5696 - val_loss: 2.1570 - val_accuracy: 0.6024\n",
      "Epoch 46/150\n",
      "50/50 [==============================] - 0s 8ms/step - loss: 2.0686 - accuracy: 0.5784 - val_loss: 2.1905 - val_accuracy: 0.5882\n",
      "Epoch 47/150\n",
      "50/50 [==============================] - 0s 7ms/step - loss: 2.0588 - accuracy: 0.5696 - val_loss: 2.1831 - val_accuracy: 0.5976\n",
      "Epoch 48/150\n",
      "50/50 [==============================] - 0s 7ms/step - loss: 2.0195 - accuracy: 0.5832 - val_loss: 2.1677 - val_accuracy: 0.6071\n",
      "Epoch 49/150\n",
      "50/50 [==============================] - 0s 7ms/step - loss: 2.0457 - accuracy: 0.5824 - val_loss: 2.2340 - val_accuracy: 0.5788\n",
      "Epoch 50/150\n",
      "50/50 [==============================] - 0s 7ms/step - loss: 2.0247 - accuracy: 0.5808 - val_loss: 2.2268 - val_accuracy: 0.5835\n",
      "Epoch 51/150\n",
      "50/50 [==============================] - 0s 7ms/step - loss: 1.9968 - accuracy: 0.5856 - val_loss: 2.1383 - val_accuracy: 0.6141\n",
      "Epoch 52/150\n",
      "50/50 [==============================] - 0s 7ms/step - loss: 2.0024 - accuracy: 0.5824 - val_loss: 2.1962 - val_accuracy: 0.5882\n",
      "Epoch 53/150\n",
      "50/50 [==============================] - 0s 8ms/step - loss: 1.9935 - accuracy: 0.5784 - val_loss: 2.2465 - val_accuracy: 0.5788\n",
      "Epoch 54/150\n",
      "50/50 [==============================] - 0s 7ms/step - loss: 1.9791 - accuracy: 0.5848 - val_loss: 2.1776 - val_accuracy: 0.5906\n",
      "Epoch 55/150\n",
      "50/50 [==============================] - 0s 7ms/step - loss: 1.9607 - accuracy: 0.5840 - val_loss: 2.1707 - val_accuracy: 0.6000\n",
      "Epoch 56/150\n",
      "50/50 [==============================] - 0s 8ms/step - loss: 1.9599 - accuracy: 0.5952 - val_loss: 2.2380 - val_accuracy: 0.5835\n",
      "Epoch 57/150\n",
      "50/50 [==============================] - 0s 7ms/step - loss: 1.9476 - accuracy: 0.5944 - val_loss: 2.1550 - val_accuracy: 0.6188\n",
      "Epoch 58/150\n",
      "50/50 [==============================] - 0s 7ms/step - loss: 1.9456 - accuracy: 0.5928 - val_loss: 2.1481 - val_accuracy: 0.6141\n",
      "Epoch 59/150\n",
      "50/50 [==============================] - 0s 7ms/step - loss: 1.9395 - accuracy: 0.5864 - val_loss: 2.2240 - val_accuracy: 0.5882\n",
      "Epoch 60/150\n",
      "50/50 [==============================] - 0s 7ms/step - loss: 1.9332 - accuracy: 0.6072 - val_loss: 2.1884 - val_accuracy: 0.6047\n",
      "Epoch 61/150\n",
      "50/50 [==============================] - 0s 7ms/step - loss: 1.9033 - accuracy: 0.6032 - val_loss: 2.2077 - val_accuracy: 0.5906\n",
      "Epoch 62/150\n",
      "50/50 [==============================] - 0s 8ms/step - loss: 1.8937 - accuracy: 0.5992 - val_loss: 2.1885 - val_accuracy: 0.5976\n",
      "Epoch 63/150\n",
      "50/50 [==============================] - 0s 7ms/step - loss: 1.8994 - accuracy: 0.5976 - val_loss: 2.2361 - val_accuracy: 0.5906\n",
      "Epoch 64/150\n",
      "50/50 [==============================] - 0s 7ms/step - loss: 1.8822 - accuracy: 0.6048 - val_loss: 2.1427 - val_accuracy: 0.6165\n",
      "Epoch 65/150\n",
      "50/50 [==============================] - 0s 8ms/step - loss: 1.8814 - accuracy: 0.6096 - val_loss: 2.1820 - val_accuracy: 0.6047\n",
      "Epoch 66/150\n",
      "50/50 [==============================] - 0s 7ms/step - loss: 1.8911 - accuracy: 0.6016 - val_loss: 2.1811 - val_accuracy: 0.6071\n",
      "Epoch 67/150\n",
      "50/50 [==============================] - 0s 7ms/step - loss: 1.8498 - accuracy: 0.6176 - val_loss: 2.2643 - val_accuracy: 0.5859\n",
      "Epoch 68/150\n",
      "50/50 [==============================] - 0s 7ms/step - loss: 1.8581 - accuracy: 0.6072 - val_loss: 2.1754 - val_accuracy: 0.6071\n",
      "Epoch 69/150\n",
      "50/50 [==============================] - 0s 7ms/step - loss: 1.8603 - accuracy: 0.6088 - val_loss: 2.1652 - val_accuracy: 0.6094\n",
      "Epoch 70/150\n",
      "50/50 [==============================] - 0s 8ms/step - loss: 1.8486 - accuracy: 0.6096 - val_loss: 2.1763 - val_accuracy: 0.6071\n",
      "Epoch 71/150\n",
      "50/50 [==============================] - 0s 8ms/step - loss: 1.8548 - accuracy: 0.6008 - val_loss: 2.1718 - val_accuracy: 0.6071\n",
      "Epoch 72/150\n",
      "50/50 [==============================] - 0s 8ms/step - loss: 1.8361 - accuracy: 0.6224 - val_loss: 2.2988 - val_accuracy: 0.5741\n",
      "Epoch 73/150\n",
      "50/50 [==============================] - 0s 8ms/step - loss: 1.8383 - accuracy: 0.6208 - val_loss: 2.2876 - val_accuracy: 0.5835\n",
      "Epoch 74/150\n",
      "50/50 [==============================] - 0s 9ms/step - loss: 1.7948 - accuracy: 0.6136 - val_loss: 2.1601 - val_accuracy: 0.6212\n",
      "Epoch 75/150\n",
      "50/50 [==============================] - 0s 7ms/step - loss: 1.8156 - accuracy: 0.6104 - val_loss: 2.2668 - val_accuracy: 0.5929\n",
      "Epoch 76/150\n",
      "50/50 [==============================] - 0s 8ms/step - loss: 1.8064 - accuracy: 0.6192 - val_loss: 2.1857 - val_accuracy: 0.6118\n",
      "Epoch 77/150\n",
      "50/50 [==============================] - 0s 8ms/step - loss: 1.7827 - accuracy: 0.6184 - val_loss: 2.1763 - val_accuracy: 0.6141\n",
      "Epoch 78/150\n",
      "50/50 [==============================] - 0s 8ms/step - loss: 1.8016 - accuracy: 0.6176 - val_loss: 2.2507 - val_accuracy: 0.5976\n",
      "Epoch 79/150\n",
      "50/50 [==============================] - 0s 8ms/step - loss: 1.8005 - accuracy: 0.6192 - val_loss: 2.1957 - val_accuracy: 0.6071\n",
      "Epoch 80/150\n",
      "50/50 [==============================] - 0s 8ms/step - loss: 1.7549 - accuracy: 0.6360 - val_loss: 2.1882 - val_accuracy: 0.6024\n",
      "Epoch 81/150\n",
      "50/50 [==============================] - 0s 8ms/step - loss: 1.7821 - accuracy: 0.6248 - val_loss: 2.2651 - val_accuracy: 0.5906\n",
      "Epoch 82/150\n",
      "50/50 [==============================] - 0s 8ms/step - loss: 1.7539 - accuracy: 0.6352 - val_loss: 2.2807 - val_accuracy: 0.6000\n",
      "Epoch 83/150\n",
      "50/50 [==============================] - 0s 9ms/step - loss: 1.7630 - accuracy: 0.6312 - val_loss: 2.3004 - val_accuracy: 0.5929\n",
      "Epoch 84/150\n",
      "50/50 [==============================] - 0s 8ms/step - loss: 1.7443 - accuracy: 0.6312 - val_loss: 2.3184 - val_accuracy: 0.5882\n",
      "Epoch 85/150\n",
      "50/50 [==============================] - 0s 8ms/step - loss: 1.7454 - accuracy: 0.6272 - val_loss: 2.2674 - val_accuracy: 0.5953\n",
      "Epoch 86/150\n",
      "50/50 [==============================] - 0s 8ms/step - loss: 1.7443 - accuracy: 0.6232 - val_loss: 2.3236 - val_accuracy: 0.5812\n",
      "Epoch 87/150\n",
      "50/50 [==============================] - 0s 8ms/step - loss: 1.7372 - accuracy: 0.6392 - val_loss: 2.1971 - val_accuracy: 0.6141\n",
      "Epoch 88/150\n",
      "50/50 [==============================] - 0s 8ms/step - loss: 1.7445 - accuracy: 0.6336 - val_loss: 2.2958 - val_accuracy: 0.5835\n",
      "Epoch 89/150\n",
      "50/50 [==============================] - 0s 8ms/step - loss: 1.7234 - accuracy: 0.6328 - val_loss: 2.2502 - val_accuracy: 0.5976\n",
      "Epoch 90/150\n",
      "50/50 [==============================] - 0s 9ms/step - loss: 1.7314 - accuracy: 0.6368 - val_loss: 2.2416 - val_accuracy: 0.6000\n",
      "Epoch 91/150\n",
      "50/50 [==============================] - 0s 10ms/step - loss: 1.7080 - accuracy: 0.6392 - val_loss: 2.2479 - val_accuracy: 0.6071\n",
      "Epoch 92/150\n",
      "50/50 [==============================] - 0s 8ms/step - loss: 1.7168 - accuracy: 0.6288 - val_loss: 2.2661 - val_accuracy: 0.5882\n",
      "Epoch 93/150\n",
      "50/50 [==============================] - 0s 8ms/step - loss: 1.6834 - accuracy: 0.6472 - val_loss: 2.2938 - val_accuracy: 0.5882\n",
      "Epoch 94/150\n",
      "50/50 [==============================] - 0s 8ms/step - loss: 1.6751 - accuracy: 0.6392 - val_loss: 2.1903 - val_accuracy: 0.6118\n",
      "Epoch 95/150\n",
      "50/50 [==============================] - 0s 8ms/step - loss: 1.7133 - accuracy: 0.6408 - val_loss: 2.2043 - val_accuracy: 0.6165\n",
      "Epoch 96/150\n",
      "50/50 [==============================] - 0s 8ms/step - loss: 1.6977 - accuracy: 0.6320 - val_loss: 2.2872 - val_accuracy: 0.5859\n",
      "Epoch 97/150\n",
      "50/50 [==============================] - 0s 8ms/step - loss: 1.6665 - accuracy: 0.6496 - val_loss: 2.2446 - val_accuracy: 0.6024\n",
      "Epoch 98/150\n",
      "50/50 [==============================] - 0s 9ms/step - loss: 1.6902 - accuracy: 0.6352 - val_loss: 2.1848 - val_accuracy: 0.6235\n",
      "Epoch 99/150\n",
      "50/50 [==============================] - 0s 8ms/step - loss: 1.6943 - accuracy: 0.6392 - val_loss: 2.2436 - val_accuracy: 0.5976\n",
      "Epoch 100/150\n",
      "50/50 [==============================] - 0s 8ms/step - loss: 1.6687 - accuracy: 0.6392 - val_loss: 2.2698 - val_accuracy: 0.6094\n",
      "Epoch 101/150\n",
      "50/50 [==============================] - 0s 8ms/step - loss: 1.6605 - accuracy: 0.6472 - val_loss: 2.2929 - val_accuracy: 0.6024\n",
      "Epoch 102/150\n",
      "50/50 [==============================] - 0s 8ms/step - loss: 1.6754 - accuracy: 0.6400 - val_loss: 2.2656 - val_accuracy: 0.5976\n",
      "Epoch 103/150\n",
      "50/50 [==============================] - 0s 8ms/step - loss: 1.6604 - accuracy: 0.6480 - val_loss: 2.2081 - val_accuracy: 0.6141\n",
      "Epoch 104/150\n",
      "50/50 [==============================] - 0s 8ms/step - loss: 1.6600 - accuracy: 0.6488 - val_loss: 2.2835 - val_accuracy: 0.6000\n",
      "Epoch 105/150\n",
      "50/50 [==============================] - 0s 8ms/step - loss: 1.6448 - accuracy: 0.6344 - val_loss: 2.2864 - val_accuracy: 0.5976\n",
      "Epoch 106/150\n",
      "50/50 [==============================] - 0s 9ms/step - loss: 1.6503 - accuracy: 0.6488 - val_loss: 2.3046 - val_accuracy: 0.5953\n",
      "Epoch 107/150\n",
      "50/50 [==============================] - 0s 8ms/step - loss: 1.6531 - accuracy: 0.6432 - val_loss: 2.3641 - val_accuracy: 0.5882\n",
      "Epoch 108/150\n",
      "50/50 [==============================] - 0s 8ms/step - loss: 1.6735 - accuracy: 0.6424 - val_loss: 2.2763 - val_accuracy: 0.6071\n",
      "Epoch 109/150\n",
      "50/50 [==============================] - 0s 8ms/step - loss: 1.6392 - accuracy: 0.6496 - val_loss: 2.3100 - val_accuracy: 0.5929\n",
      "Epoch 110/150\n",
      "50/50 [==============================] - 0s 8ms/step - loss: 1.6267 - accuracy: 0.6472 - val_loss: 2.3377 - val_accuracy: 0.5929\n",
      "Epoch 111/150\n",
      "50/50 [==============================] - 0s 8ms/step - loss: 1.6262 - accuracy: 0.6544 - val_loss: 2.4948 - val_accuracy: 0.5600\n",
      "Epoch 112/150\n",
      "50/50 [==============================] - 0s 8ms/step - loss: 1.6263 - accuracy: 0.6568 - val_loss: 2.3322 - val_accuracy: 0.6024\n",
      "Epoch 113/150\n",
      "50/50 [==============================] - 0s 8ms/step - loss: 1.6316 - accuracy: 0.6512 - val_loss: 2.3042 - val_accuracy: 0.6000\n",
      "Epoch 114/150\n",
      "50/50 [==============================] - 0s 9ms/step - loss: 1.6332 - accuracy: 0.6552 - val_loss: 2.3279 - val_accuracy: 0.6024\n",
      "Epoch 115/150\n",
      "50/50 [==============================] - 0s 8ms/step - loss: 1.6472 - accuracy: 0.6488 - val_loss: 2.3240 - val_accuracy: 0.6000\n",
      "Epoch 116/150\n",
      "50/50 [==============================] - 0s 8ms/step - loss: 1.6144 - accuracy: 0.6608 - val_loss: 2.2712 - val_accuracy: 0.6047\n",
      "Epoch 117/150\n",
      "50/50 [==============================] - 0s 9ms/step - loss: 1.6123 - accuracy: 0.6416 - val_loss: 2.3444 - val_accuracy: 0.5976\n",
      "Epoch 118/150\n",
      "50/50 [==============================] - 0s 8ms/step - loss: 1.5940 - accuracy: 0.6616 - val_loss: 2.4185 - val_accuracy: 0.5718\n",
      "Epoch 119/150\n",
      "50/50 [==============================] - 0s 8ms/step - loss: 1.6172 - accuracy: 0.6528 - val_loss: 2.2902 - val_accuracy: 0.6071\n",
      "Epoch 120/150\n",
      "50/50 [==============================] - 0s 8ms/step - loss: 1.5834 - accuracy: 0.6536 - val_loss: 2.2773 - val_accuracy: 0.6047\n",
      "Epoch 121/150\n",
      "50/50 [==============================] - 0s 8ms/step - loss: 1.6095 - accuracy: 0.6416 - val_loss: 2.3017 - val_accuracy: 0.6071\n",
      "Epoch 122/150\n",
      "50/50 [==============================] - 0s 8ms/step - loss: 1.5990 - accuracy: 0.6512 - val_loss: 2.3541 - val_accuracy: 0.5953\n",
      "Epoch 123/150\n",
      "50/50 [==============================] - 0s 8ms/step - loss: 1.6024 - accuracy: 0.6560 - val_loss: 2.3480 - val_accuracy: 0.6000\n",
      "Epoch 124/150\n",
      "50/50 [==============================] - 0s 8ms/step - loss: 1.5734 - accuracy: 0.6624 - val_loss: 2.3252 - val_accuracy: 0.6024\n",
      "Epoch 125/150\n",
      "50/50 [==============================] - 0s 9ms/step - loss: 1.6076 - accuracy: 0.6592 - val_loss: 2.2890 - val_accuracy: 0.6094\n",
      "Epoch 126/150\n",
      "50/50 [==============================] - 0s 8ms/step - loss: 1.5968 - accuracy: 0.6552 - val_loss: 2.2996 - val_accuracy: 0.6024\n",
      "Epoch 127/150\n",
      "50/50 [==============================] - 0s 8ms/step - loss: 1.5707 - accuracy: 0.6616 - val_loss: 2.3013 - val_accuracy: 0.6071\n",
      "Epoch 128/150\n",
      "50/50 [==============================] - 0s 8ms/step - loss: 1.5854 - accuracy: 0.6592 - val_loss: 2.3017 - val_accuracy: 0.6094\n",
      "Epoch 129/150\n",
      "50/50 [==============================] - 0s 8ms/step - loss: 1.5823 - accuracy: 0.6600 - val_loss: 2.2858 - val_accuracy: 0.6188\n",
      "Epoch 130/150\n",
      "50/50 [==============================] - 0s 8ms/step - loss: 1.5766 - accuracy: 0.6592 - val_loss: 2.2328 - val_accuracy: 0.6188\n",
      "Epoch 131/150\n",
      "50/50 [==============================] - 0s 8ms/step - loss: 1.5783 - accuracy: 0.6640 - val_loss: 2.2654 - val_accuracy: 0.6165\n",
      "Epoch 132/150\n",
      "50/50 [==============================] - 0s 8ms/step - loss: 1.5840 - accuracy: 0.6568 - val_loss: 2.2988 - val_accuracy: 0.6118\n",
      "Epoch 133/150\n",
      "50/50 [==============================] - 1s 10ms/step - loss: 1.5729 - accuracy: 0.6680 - val_loss: 2.3597 - val_accuracy: 0.6000\n",
      "Epoch 134/150\n",
      "50/50 [==============================] - 0s 8ms/step - loss: 1.5780 - accuracy: 0.6552 - val_loss: 2.3185 - val_accuracy: 0.6000\n",
      "Epoch 135/150\n",
      "50/50 [==============================] - 0s 9ms/step - loss: 1.5411 - accuracy: 0.6792 - val_loss: 2.3472 - val_accuracy: 0.6024\n",
      "Epoch 136/150\n",
      "50/50 [==============================] - 0s 8ms/step - loss: 1.5844 - accuracy: 0.6696 - val_loss: 2.2410 - val_accuracy: 0.6165\n",
      "Epoch 137/150\n",
      "50/50 [==============================] - 0s 8ms/step - loss: 1.5709 - accuracy: 0.6624 - val_loss: 2.2907 - val_accuracy: 0.6141\n",
      "Epoch 138/150\n",
      "50/50 [==============================] - 0s 8ms/step - loss: 1.5424 - accuracy: 0.6648 - val_loss: 2.2872 - val_accuracy: 0.6118\n",
      "Epoch 139/150\n",
      "50/50 [==============================] - 0s 8ms/step - loss: 1.5634 - accuracy: 0.6696 - val_loss: 2.4493 - val_accuracy: 0.5788\n",
      "Epoch 140/150\n",
      "50/50 [==============================] - 0s 9ms/step - loss: 1.5810 - accuracy: 0.6584 - val_loss: 2.3862 - val_accuracy: 0.5953\n",
      "Epoch 141/150\n",
      "50/50 [==============================] - 0s 9ms/step - loss: 1.5556 - accuracy: 0.6688 - val_loss: 2.2980 - val_accuracy: 0.6094\n",
      "Epoch 142/150\n",
      "50/50 [==============================] - 0s 8ms/step - loss: 1.5434 - accuracy: 0.6696 - val_loss: 2.3236 - val_accuracy: 0.6047\n",
      "Epoch 143/150\n",
      "50/50 [==============================] - 0s 9ms/step - loss: 1.5777 - accuracy: 0.6640 - val_loss: 2.2996 - val_accuracy: 0.6141\n",
      "Epoch 144/150\n",
      "50/50 [==============================] - 0s 8ms/step - loss: 1.5382 - accuracy: 0.6640 - val_loss: 2.3368 - val_accuracy: 0.6071\n",
      "Epoch 145/150\n",
      "50/50 [==============================] - 0s 8ms/step - loss: 1.5602 - accuracy: 0.6648 - val_loss: 2.3403 - val_accuracy: 0.6094\n",
      "Epoch 146/150\n",
      "50/50 [==============================] - 0s 8ms/step - loss: 1.5443 - accuracy: 0.6728 - val_loss: 2.3247 - val_accuracy: 0.6118\n",
      "Epoch 147/150\n",
      "50/50 [==============================] - 0s 9ms/step - loss: 1.5402 - accuracy: 0.6744 - val_loss: 2.3108 - val_accuracy: 0.6071\n",
      "Epoch 148/150\n",
      "50/50 [==============================] - 0s 8ms/step - loss: 1.5244 - accuracy: 0.6672 - val_loss: 2.3587 - val_accuracy: 0.6024\n",
      "Epoch 149/150\n",
      "50/50 [==============================] - 0s 8ms/step - loss: 1.5332 - accuracy: 0.6696 - val_loss: 2.3416 - val_accuracy: 0.6094\n",
      "Epoch 150/150\n",
      "50/50 [==============================] - 0s 8ms/step - loss: 1.5414 - accuracy: 0.6752 - val_loss: 2.3372 - val_accuracy: 0.6094\n"
     ]
    }
   ],
   "source": [
    "from keras.callbacks import EarlyStopping, ModelCheckpoint\n",
    "\n",
    "# Define callbacks\n",
    "callbacks = [\n",
    "    EarlyStopping(patience=3, monitor='val_loss'),  # Stop training if validation loss stops improving for 3 epochs\n",
    "    ModelCheckpoint(filepath='model_weights.weights.h5', save_best_only=True, save_weights_only=True, monitor='val_loss')  # Save the model with the best validation loss\n",
    "]\n",
    "\n",
    "# Fit the model with callbacks\n",
    "history = model.fit(x=[x_train_main, y_train_main[:, :-1]],  # Exclude last token from decoder input\n",
    "                    y=y_train_main[:, 1:],  # Exclude first token from decoder target\n",
    "                    batch_size=batch_size,\n",
    "                    epochs=150,\n",
    "                    validation_data=([x_test_main, y_test_main[:, :-1]], y_test_main[:, 1:])\n",
    "                    )"
   ]
  },
  {
   "cell_type": "code",
   "execution_count": 71,
   "id": "3cb09356-904b-49bf-9889-02a52791249e",
   "metadata": {},
   "outputs": [
    {
     "data": {
      "image/png": "[encoded data removed]",
      "text/plain": [
       "<Figure size 640x480 with 1 Axes>"
      ]
     },
     "metadata": {},
     "output_type": "display_data"
    }
   ],
   "source": [
    "plt.plot(history.history['loss'])\n",
    "plt.plot(history.history['val_loss'])\n",
    "plt.title('Model loss')\n",
    "plt.ylabel('Loss')\n",
    "plt.xlabel('Epoch')\n",
    "plt.legend(['Train', 'Validation'], loc='upper left')\n",
    "plt.show()"
   ]
  },
  {
   "cell_type": "code",
   "execution_count": 72,
   "id": "3ace2fb6-6c9c-4301-a965-07c43332862e",
   "metadata": {},
   "outputs": [
    {
     "data": {
      "image/png": "[encoded data removed]",
      "text/plain": [
       "<Figure size 640x480 with 1 Axes>"
      ]
     },
     "metadata": {},
     "output_type": "display_data"
    }
   ],
   "source": [
    "plt.plot(history.history['accuracy'])\n",
    "plt.plot(history.history['val_accuracy'])\n",
    "plt.title('Model Accuracy')\n",
    "plt.ylabel('Accuracy')\n",
    "plt.xlabel('Epoch')\n",
    "plt.legend(['Train', 'Validation'], loc='upper left')\n",
    "plt.show()"
   ]
  },
  {
   "cell_type": "code",
   "execution_count": 73,
   "id": "ba1f08f4-f6b5-4600-9b93-552c08ef82ed",
   "metadata": {},
   "outputs": [
    {
     "name": "stdout",
     "output_type": "stream",
     "text": [
      "[[  0   0   0   0   0   0   0   0   0   0   0   0   0   0   0   0   0   0\n",
      "  169 104   2 170  65  36  28]]\n",
      "1/1 [==============================] - 1s 549ms/step\n",
      "[[  0   0   0   0   0   0   0   0   0   0   0   0   0   0   0   0   0   0\n",
      "    1 141  18  12  85  15   2]]\n",
      "1/1 [==============================] - 0s 20ms/step\n",
      "[[ 0  0  0  0  0  0  0  0  0  0  0  0  0  0  1 19 15  5 35 19 37 24 25 22\n",
      "   5]]\n",
      "1/1 [==============================] - 0s 35ms/step\n",
      "[[  0   0   0   0   0   0   0   0   0   0   0   0   1  19  79  30   2 129\n",
      "   49  11  19  80   1  17   9]]\n",
      "1/1 [==============================] - 0s 23ms/step\n",
      "[[  0   0   0   0   0   0   0   0   0   0   0   0   0   0   0   0   8   1\n",
      "   70   3 106  14  67 198 199]]\n",
      "1/1 [==============================] - 0s 23ms/step\n",
      "[[  0   0   0   0   0   0   0   0   0   0   0   0   0   0   0   0  33 104\n",
      "   67 181  14 182 105 183 184]]\n",
      "1/1 [==============================] - 0s 22ms/step\n",
      "[[  0   0   0   0   0   0   0  29  17  13   9  41 230  74  13 231  59  22\n",
      "  232  70  23 118 115 233 118]]\n",
      "1/1 [==============================] - 0s 23ms/step\n",
      "[[ 0  0  0  0  0  0  0  0  0  0  0  0  0  0  0  1  4  6 18 47 11  6 48 11\n",
      "  11]]\n",
      "1/1 [==============================] - 0s 24ms/step\n",
      "[[ 0  0  0  0  0  0  0  0  0  0  0  0  0  0  0  0  0  0  0  0  8  1 19  3\n",
      "   4]]\n",
      "1/1 [==============================] - 0s 24ms/step\n",
      "[[ 0  0  0  0  0  0  0  0  0  0  0  0  0  0  0  0  0  0  0  0  0 24 25 84\n",
      "   5]]\n",
      "1/1 [==============================] - 0s 27ms/step\n",
      "[[  0   0   0   0   1   4   6 152  59   3  60 153   6  95  96  53  31  12\n",
      "   40   2   7  93  97  58   2]]\n",
      "1/1 [==============================] - 0s 19ms/step\n",
      "[[  0   0   0   0   0   0   0   0   0   0   0   0   0   0   0   0   0   0\n",
      "    0   0  73   4  29 111  71]]\n",
      "1/1 [==============================] - 0s 19ms/step\n",
      "[[  0   0   0   0   0   0   0   0   1   4  98  99   7  61  38  26  36   2\n",
      "    7  13 157  23  38  26  41]]\n",
      "1/1 [==============================] - 0s 21ms/step\n",
      "[[  0   0   0   0   0   0   0   0   0   0   0   0   0   0   0   0   0   0\n",
      "    0   0 122   1  21  34   2]]\n",
      "1/1 [==============================] - 0s 18ms/step\n",
      "[[  0   0   0   0   0   0   0   0   0   0   0   0   0   0   0  74 117 234\n",
      "   46 235 236 237  49  10 238]]\n",
      "1/1 [==============================] - 0s 20ms/step\n",
      "[[  0   0   0   0   0   0   0   0   0   0   0   0   0   0 163 164  34   2\n",
      "   21   5   8   1  10   2  34]]\n",
      "1/1 [==============================] - 0s 18ms/step\n",
      "[[  0   0   0   0   0   0   0   0   0   0   0   0   0   0   0   0   8   1\n",
      "    4   9   3 201  59 112 113]]\n",
      "1/1 [==============================] - 0s 20ms/step\n"
     ]
    }
   ],
   "source": [
    "# Perform prediction for the first 200 rows one sample at a time\n",
    "num_samples = min(200,len(x_test_main)) # Limit to the first 200 rows\n",
    "\n",
    "predictions = []\n",
    "\n",
    "for i in range(num_samples):\n",
    "    single_x_test = x_test_main[i:i+1]\n",
    "    single_y_test = y_test_main[i:i+1, :-1]  # Exclude last token\n",
    "    print(single_x_test)\n",
    "    single_prediction = model.predict([single_x_test, single_y_test])\n",
    "    predictions.append(single_prediction)\n",
    "\n",
    "# Concatenate predictions\n",
    "predictions = np.concatenate(predictions, axis=0)"
   ]
  },
  {
   "cell_type": "code",
   "execution_count": 95,
   "id": "34a8cec0-5f60-45c2-89dc-970dd19a05e9",
   "metadata": {},
   "outputs": [
    {
     "data": {
      "text/plain": [
       "10"
      ]
     },
     "execution_count": 95,
     "metadata": {},
     "output_type": "execute_result"
    }
   ],
   "source": [
    "len(predictions)"
   ]
  },
  {
   "cell_type": "code",
   "execution_count": 74,
   "id": "de965f2d-34e1-44d5-834c-7005cd09f928",
   "metadata": {},
   "outputs": [
    {
     "name": "stdout",
     "output_type": "stream",
     "text": [
      "Predicted Hindi sentence 1:                พระเจ้า พระเจ้า พระเจ้า สว่าง ต้น มนุษย์ เนื้อ อากาศ กิน เนื้อ\n",
      "Predicted Hindi sentence 2:                  พระเจ้า สร้าง สว่าง พระองค์ สว่าง สว่าง สว่าง สว่าง\n",
      "Predicted Hindi sentence 3:                พระเจ้า พระเจ้า สร้าง พระเจ้า สร้าง พระเจ้า บรรดา เย็น เวลา เช้า\n",
      "Predicted Hindi sentence 4:             พระเจ้า พระเจ้า พระเจ้า พระเจ้า พระเจ้า พระเจ้า สว่าง สว่าง ต้น เนื้อ ดวง ดวง สอง\n",
      "Predicted Hindi sentence 5:               พระเจ้า พระเจ้า พระเจ้า พระเจ้า พระเจ้า สร้าง สว่าง พระองค์ มนุษย์ พระองค์ พระองค์\n",
      "Predicted Hindi sentence 6:                พระเยโฮวาห์ พระเจ้า สาย ไหล รอบ น้ำ พระองค์ ทองคำ สาย ดวง\n",
      "Predicted Hindi sentence 7:          ไม้ สวน สวน แผ่นดิน แผ่นดิน โลก แผ่นดิน ไม้ ชีวิต ไม้ แผ่นดิน แผ่นดิน ไม้ ไม้ ต้น ไม้\n",
      "Predicted Hindi sentence 8:                พระเจ้า พระเจ้า สว่าง อากาศ น้ำ น้ำ อากาศ น้ำ น้ำ ดวง\n",
      "Predicted Hindi sentence 9:                    พระเจ้า พระเจ้า สร้าง   แผ่นดิน\n",
      "Predicted Hindi sentence 10:                      เย็น เวลา เช้า สอง\n",
      "Predicted Hindi sentence 11:    บรรดา แผ่นดิน โลก โลก ชนิด ดวง นก อาดัม นก สัตว์ อากาศ บรรดา ชีวิต บรรดา บรรดา โลก บรรดา สัตว์ ชีวิต ชีวิต แผ่นดิน โลก\n",
      "Predicted Hindi sentence 12:                    พระเจ้า พระเจ้า สัตว์ ต้น ต้น พระเจ้าตรัสว่า\n",
      "Predicted Hindi sentence 13:          พระเจ้า แผ่นดิน แผ่นดิน สัตว์ ไม้ สวน ชนิด อากาศ โลก ชนิด สัตว์ ไม้ ชีวิต ชนิด ชนิด ไม้\n",
      "Predicted Hindi sentence 14:                   พระเจ้า พระเจ้า สร้าง พระเจ้า พระเจ้าตรัสว่า แผ่นดิน โลก\n",
      "Predicted Hindi sentence 15:               เจ้า ดี ดี เจ้า กิน น้ำ น้ำ น้ำ น้ำ รู้ เหนือ\n",
      "Predicted Hindi sentence 16:           พระเจ้า พระเจ้า สว่าง ต้น ชนิด แผ่นดิน โลก บรรดา บรรดา พระเจ้าตรัสว่า พระเจ้า ดี หญิง โลก ชนิด\n",
      "Predicted Hindi sentence 17:               พระเจ้า พระเจ้า พระเจ้า โลก ต้น พระเจ้า แผ่นดิน โลก ชนิด บรรดา โลก\n"
     ]
    }
   ],
   "source": [
    "def decode_prediction(prediction, tokenizer):\n",
    "    # Get the index of the token with the highest probability for each time step\n",
    "    token_indices = np.argmax(prediction, axis=-1)\n",
    "    # Convert token indices to words using the tokenizer, handling out-of-vocabulary indices\n",
    "    words = [tokenizer.index_word.get(index, '') for index in token_indices]  # Exclude padding token\n",
    "    # Join the words into a single sentence\n",
    "    sentence = ' '.join(words)\n",
    "    return sentence\n",
    "\n",
    "# Decode each prediction and print the corresponding Hindi sentences\n",
    "for i, prediction in enumerate(predictions):\n",
    "    decoded_sentence = decode_prediction(prediction,uk)\n",
    "    print(f\"Predicted Hindi sentence {i+1}: {decoded_sentence}\")"
   ]
  },
  {
   "cell_type": "code",
   "execution_count": 75,
   "id": "e5121036-0912-493c-9d20-39f7a6dd8750",
   "metadata": {},
   "outputs": [
    {
     "name": "stdout",
     "output_type": "stream",
     "text": [
      "['หมอก', 'แผ่นดิน', 'โลก', 'ทำ', 'พื้น', 'แผ่นดิน', 'เปียก', 'ทั่วไป']\n",
      "['พระเจ้า', 'ตั้งดวง', 'สว่าง', 'พื้นฟ้าอากาศ', 'ส่อง', 'สว่าง', 'แผ่นดิน', 'โลก']\n",
      "['พระเจ้า', 'สว่าง', 'พระองค์', 'มืด', 'คืน', 'เวลา', 'เย็น', 'เวลา', 'เช้า']\n",
      "['พระเจ้า', 'แห้ง', 'แผ่นดิน', 'น้ำ', 'รวบรวม', 'ทะเล', 'พระเจ้า', 'ดี']\n",
      "['พระเยโฮวาห์', 'พระเจ้า', 'มนุษย์', 'สวน', 'เอเดน', 'ดูแล', 'รักษา', 'สวน']\n",
      "['แม่น้ำ', 'สาย', 'ไหล', 'เอเดนรด', 'สวน', 'แยก', 'แม่น้ำ', 'สี่', 'สาย']\n",
      "['ล้ม', 'บาป', 'มนุษย์', 'หญิง', 'ต้น', 'ไม้', 'เหมาะ', 'สำหรับ', 'อาหาร', 'งาม', 'ดู', 'ต้น', 'ไม้', 'ต้น', 'ปรารถนา', 'ปัญญา', 'หญิง', 'ผลไม้', 'กิน', 'สามี', 'กิน']\n",
      "['สอง', 'เมฆ', 'เหนือ', 'ผิว', 'น้ำ', 'พระเจ้าตรัสว่า', 'พื้น', 'อากาศ', 'น้ำ', 'พื้น', 'อากาศ', 'แยก', 'น้ำ', 'น้ำ']\n",
      "['พระเยโฮวาห์', 'พระเจ้า', 'อาดัม', 'ตรัส', 'เขาว่า', 'เจ้า']\n",
      "['เวลา', 'เย็น', 'เวลา', 'เช้า', 'สาม']\n",
      "['หก', 'ชาย', 'หญิง', 'คู่', 'พระเจ้าตรัสว่า', 'สร้าง', 'มนุษย์', 'ฉายา', 'ครอบครอง', 'ฝูง', 'ปลา', 'ทะเล', 'ฝูง', 'นก', 'อากาศ', 'สัตว์', 'งาน', 'ครอบครอง', 'แผ่นดิน', 'โลก', 'บรรดา', 'สัตว์', 'เลื้อยคลาน', 'คลาน', 'แผ่นดิน', 'โลก']\n",
      "['งู', 'หญิง', 'เจ้า', 'ตาย', 'แน่']\n",
      "['พระเจ้าตรัสว่า', 'ดู', 'บรรดา', 'ต้น', 'ผัก', 'เมล็ด', 'พื้น', 'แผ่นดิน', 'โลก', 'บรรดา', 'ต้น', 'ไม้', 'เมล็ด', 'เจ้า', 'อาหาร', 'เจ้า']\n",
      "['พระเจ้า', 'เนรมิต', 'สร้าง', 'ฟ้า', 'แผ่นดิน', 'โลก']\n",
      "['ตา', 'สอง', 'สว่าง', 'รู้', 'เปลือย', 'กาย', 'สอง', 'ใบ', 'มะเดื่อ', 'เย็บ', 'เครื่อง', 'ปกปิด', 'อวัยวะ', 'ล่าง']\n",
      "['สรุป', 'สร้าง', 'เรื่องราว', 'ฟ้า', 'แผ่นดิน', 'โลก', 'เนรมิต', 'สร้าง', 'พระเยโฮวาห์', 'พระเจ้า', 'สร้าง', 'แผ่นดิน', 'โลก', 'ฟ้า']\n",
      "['สร้าง', 'หญิง', 'พระเยโฮวาห์', 'พระเจ้าตรัสว่า', 'มนุษย์', 'คน', 'เหมาะ', 'สร้าง', 'อุปถัมภ์']\n",
      "17\n"
     ]
    }
   ],
   "source": [
    "word = []\n",
    "for k in y_test_main:\n",
    "    for i in k:\n",
    "        if (i != 0):\n",
    "            word.append(uk.index_word.get(i))\n",
    "    print(word)\n",
    "    word = []\n",
    "print(len(y_test_main))"
   ]
  },
  {
   "cell_type": "code",
   "execution_count": 94,
   "id": "85cf93b5",
   "metadata": {},
   "outputs": [
    {
     "name": "stdout",
     "output_type": "stream",
     "text": [
      "['therefore', 'a', 'man', 'will', 'leave', 'his', 'father', 'and', 'his', 'mother', 'and', 'will', 'join', 'with', 'his', 'wife', 'and', 'they', 'will', 'be', 'one', 'flesh']\n",
      "['the', 'eyes', 'of', 'both', 'of', 'them', 'were', 'opened', 'and', 'they', 'knew', 'that', 'they', 'were', 'naked', 'they', 'sewed', 'fig', 'leaves', 'together', 'and', 'made', 'themselves', 'aprons']\n",
      "['in', 'the', 'beginning', 'god', 'created', 'the', 'heavens', 'and', 'the', 'earth']\n",
      "['yahweh', 'god', 'took', 'the', 'man', 'and', 'put', 'him', 'into', 'the', 'garden', 'of', 'eden', 'to', 'dress', 'it', 'and', 'to', 'keep', 'it']\n",
      "['god', 'said', 'let', 'there', 'be', 'an', 'expanse', 'in', 'the', 'middle', 'of', 'the', 'waters', 'and', 'let', 'it', 'divide', 'the', 'waters', 'from', 'the', 'waters']\n",
      "['they', 'heard', 'the', 'voice', 'of', 'yahweh', 'god', 'walking', 'in', 'the', 'garden', 'in', 'the', 'cool', 'of', 'the', 'day', 'and', 'the', 'man', 'and', 'his', 'wife', 'hid', 'themselves', 'from', 'the', 'presence', 'of', 'yahweh', 'god', 'among', 'the', 'trees', 'of', 'the', 'garden']\n",
      "['god', 'set', 'them', 'in', 'the', 'expanse', 'of', 'sky', 'to', 'give', 'light', 'to', 'the', 'earth']\n",
      "['there', 'was', 'evening', 'and', 'there', 'was', 'morning', 'a', 'third', 'day']\n",
      "['adam']\n",
      "['god', 'saw', 'everything', 'that', 'he', 'had', 'made', 'and', 'behold', 'it', 'was', 'very', 'good', 'there', 'was', 'evening', 'and', 'there', 'was', 'morning', 'a', 'sixth', 'day']\n",
      "['god', 'blessed', 'the', 'seventh', 'day', 'and', 'made', 'it', 'holy', 'because', 'he', 'rested', 'in', 'it', 'from', 'all', 'his', 'work', 'which', 'he', 'had', 'created', 'and', 'made']\n",
      "['god', 'called', 'the', 'dry', 'land', 'earth', 'and', 'the', 'gathering', 'together', 'of', 'the', 'waters', 'he', 'called', 'seas', 'god', 'saw', 'that', 'it', 'was', 'good']\n",
      "['the', 'name', 'of', 'the', 'first', 'is', 'pishon', 'this', 'is', 'the', 'one', 'which', 'flows', 'through', 'the', 'whole', 'land', 'of', 'havilah', 'where', 'there', 'is', 'gold']\n",
      "['god', 'said', 'let', 'there', 'be', 'lights', 'in', 'the', 'expanse', 'of', 'sky', 'to', 'divide', 'the', 'day', 'from', 'the', 'night', 'and', 'let', 'them', 'be', 'for', 'signs', 'and', 'for', 'seasons', 'and', 'for', 'days', 'and', 'years']\n",
      "['this', 'is', 'the', 'history', 'of', 'the', 'generations', 'of', 'the', 'heavens', 'and', 'of', 'the', 'earth', 'when', 'they', 'were', 'created', 'in', 'the', 'day', 'that', 'yahweh', 'god', 'made', 'the', 'earth', 'and', 'the', 'heavens']\n",
      "['god', 'said', 'let', 'us', 'make', 'man', 'in', 'our', 'image', 'after', 'our', 'likeness', 'and', 'let', 'them', 'have', 'dominion', 'over', 'the', 'fish', 'of', 'the', 'sea', 'and', 'over', 'the', 'birds', 'of', 'the', 'sky', 'and', 'over', 'the', 'livestock', 'and', 'over', 'all', 'the', 'earth', 'and', 'over', 'every', 'creeping', 'thing', 'that', 'creeps', 'on', 'the', 'earth']\n",
      "['god', 'saw', 'the', 'light', 'and', 'saw', 'that', 'it', 'was', 'good', 'god', 'divided', 'the', 'light', 'from', 'the', 'darkness']\n",
      "17\n"
     ]
    }
   ],
   "source": [
    "word = []\n",
    "for k in x_test_main:\n",
    "    for i in k:\n",
    "        if (i != 0):\n",
    "            word.append(u.index_word.get(i))\n",
    "    print(word)\n",
    "    word = []\n",
    "print(len(y_test_main))"
   ]
  }
 ],
 "metadata": {
  "kernelspec": {
   "display_name": "Python 3 (ipykernel)",
   "language": "python",
   "name": "python3"
  },
  "language_info": {
   "codemirror_mode": {
    "name": "ipython",
    "version": 3
   },
   "file_extension": ".py",
   "mimetype": "text/x-python",
   "name": "python",
   "nbconvert_exporter": "python",
   "pygments_lexer": "ipython3",
   "version": "3.11.2"
  }
 },
 "nbformat": 4,
 "nbformat_minor": 5
}
