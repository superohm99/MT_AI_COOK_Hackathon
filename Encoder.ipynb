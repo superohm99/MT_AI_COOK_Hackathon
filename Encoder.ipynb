{
 "cells": [
  {
   "cell_type": "code",
   "execution_count": 1,
   "id": "c1921039-d43b-4c36-83f0-afdf1b54e75b",
   "metadata": {},
   "outputs": [],
   "source": [
    "# This Python 3 environment comes with many helpful analytics libraries installed\n",
    "# It is defined by the kaggle/python Docker image: https://github.com/kaggle/docker-python\n",
    "# For example, here's several helpful packages to load\n",
    "import re\n",
    "import nltk\n",
    "from nltk.tokenize import word_tokenize,sent_tokenize\n",
    "from nltk.corpus import indian\n",
    "from nltk.stem.porter import PorterStemmer\n",
    "# from wordcloud import WordCloud\n",
    "import matplotlib.pyplot as plt\n",
    "import unicodedata\n",
    "from keras.models import Sequential,Model\n",
    "from keras.layers import Input,Embedding, LSTM, Dense, Dropout\n",
    "from tensorflow.keras.preprocessing.text import Tokenizer\n",
    "from sklearn.model_selection import train_test_split\n",
    "from tensorflow.keras.preprocessing.sequence import pad_sequences\n",
    "import string\n",
    "# import spacy\n",
    "# import contractions\n",
    "from nltk.corpus import stopwords\n",
    "import numpy as np # linear algebra\n",
    "import pandas as pd # data processing, CSV file I/O (e.g. pd.read_csv)\n",
    "\n",
    "# Input data files are available in the read-only \"../input/\" directory\n",
    "# For example, running this (by clicking run or pressing Shift+Enter) will list all files under the input directory\n",
    "\n",
    "import os\n",
    "for dirname, _, filenames in os.walk('/kaggle/input'):\n",
    "    for filename in filenames:\n",
    "        print(os.path.join(dirname, filename))"
   ]
  },
  {
   "cell_type": "code",
   "execution_count": 2,
   "id": "daa5a59e-0d57-4e2e-9228-fa8b3ecd48fe",
   "metadata": {},
   "outputs": [],
   "source": [
    "df_en = pd.read_table('data/all.tok.test.en',header=None, names=['English'])\n",
    "df_th = pd.read_table('data/all.tok.test.th', header=None, names=['Thai'])"
   ]
  },
  {
   "cell_type": "code",
   "execution_count": 3,
   "id": "c82bc497-4ed3-4652-9194-d8343e60df61",
   "metadata": {},
   "outputs": [],
   "source": [
    "df_en[\"English\"] = df_en[\"English\"].str[1:]\n",
    "df_en[\"English\"] = df_en[\"English\"].str.lower()\n",
    "\n",
    "df_en[\"English\"] = df_en[\"English\"].str.replace('&quot;', '')\n",
    "df_en[\"English\"] = df_en[\"English\"].str.replace('&apos;', '')\n",
    "df_en[\"English\"] = df_en[\"English\"].str.replace('&amp; lt ;', '')\n",
    "df_en[\"English\"] = df_en[\"English\"].str.replace('&amp; gt ;', '')\n",
    "df_en[\"English\"] = df_en[\"English\"].str.replace('&amp;', 'and')\n",
    "df_en[\"English\"] = df_en[\"English\"].str.replace('&#91;', '')\n",
    "df_en[\"English\"] = df_en[\"English\"].str.replace('&#93;', '')\n",
    "\n",
    "chars_to_remove = r'[|/\\\\*“”\\-_~^#?.!,:;\\\"\\'()\\[\\]{}<>]'\n",
    "df_en[\"English\"] = df_en[\"English\"].str.replace(chars_to_remove, '', regex=True)\n",
    "\n",
    "df_th[\"Thai\"] = df_th[\"Thai\"].str[1:]\n",
    "df_th[\"Thai\"] = df_th[\"Thai\"].str.lower()\n",
    "\n",
    "df_th[\"Thai\"] = df_th[\"Thai\"].str.replace('&amp;', 'และ')\n",
    "df_th[\"Thai\"] = df_th[\"Thai\"].str.replace('&', 'และ')\n",
    "\n",
    "chars_to_remove = r'[“”!?,\\(\\)\\[\\]\\{\\}<>\\|\\/\\\\:\\\"\\'‘’\\-_~^#.*]'\n",
    "df_th[\"Thai\"] = df_th[\"Thai\"].str.replace(chars_to_remove, '', regex=True)\n",
    "df_th[\"Thai\"] = df_th[\"Thai\"].str.replace('&lt ;', '')\n",
    "df_th[\"Thai\"] = df_th[\"Thai\"].str.replace('&gt ;', '')\n",
    "df_th[\"Thai\"] = df_th[\"Thai\"].str.replace('br', '')"
   ]
  },
  {
   "cell_type": "code",
   "execution_count": 4,
   "id": "61ef1bce-c106-4827-9a81-255fdb000c7c",
   "metadata": {},
   "outputs": [],
   "source": [
    "df_combined = pd.concat([df_en, df_th], axis=1)"
   ]
  },
  {
   "cell_type": "code",
   "execution_count": 85,
   "id": "8d5185c6-94d3-414d-8e29-2318a4e0b13f",
   "metadata": {},
   "outputs": [],
   "source": [
    "df_combined = df_combined[~df_combined['Thai'].str.contains('เจ้า|บิดา|บุตร|ทั้งปวง|สัตว์|ท่าน|พระองค์|ข้า|บรรดา|พระองค์|นัยน์ตา|ปวง|ตรัส|พระเยซู|พระ')]\n",
    "df_combined = df_combined[~df_combined['English'].str.contains('legend | folklore | story | fable | mythology | tale | narrative | history | lore | mystery | myth | supernatural | notion | paradox | common misconception | belief | rumor | stereotypes | misconceptions | curse | fallacies | archetype | cliché | conspiracy theory | phenomenon | parable | truth | custom | prophecy | deity | inconvenient truth | culture | fables | lie | fiction | god | misconception | misperceptions | conspiracy theories | meme | dichotomy | myths | divine | urban legend | stigmas | urban | fantasy | mystical | romanticized | religion | fairy tale | stereotype | greece | preconceptions | perpetuated | delusion | debunked | joke | tall tales | gods | fairy tales | theory | incontrovertible | conspiracy | exceptionalism | illusions | apocryphal | idea | propaganda | gender stereotypes | fact | leg | council | hysteria | fairy | magic | fallacious | debunks | misunderstanding | mistaken belief | tales | metaphor | victimhood | historical | creation myth | fairytale | legends | people | trope | notions | folktale | old | mythical | theories | record | superstition | fire | ragnarok | negative stereotypes | tradition | mythic | gotterdammerung | symbol | animals | folk | wives | rumour | allegory | origins | true | origin | life | the | hero | misinformation | civilization | fake | fate | claim | folkloristics | world | balance | legendary | religious | exaggeration | real | stories | excuse | reality | cult | not | shroud | legacy | mythological | apocalyptic | concept | ancient | greek language | thing | cryptid | hoax | scam | stigma | storyteller | obsession | storytelling | rooted | ice | rule | monster | over | death | false | opinion | fascination | essence | revelation | fallacy | zeus | cliche | man | argument | popular | saying | ghost | marketing | epic | hype | dream | image | irys | storm | bro | character | academia | outdated | personification | forgotten | manifestation | dreams | evil | romance | cradle | magical | antiquity | anecdote | hypothesis | mythos | fairytales | postmodern | cosmogony | conjures | symbolism | evokes | norse | genius | mysticism | betrayal | evolution | truths | biblical | illusion | saga | fictional | mankind | assumption | prophet | civilisation | premise | godlike | bullshit | misnomer | misperception | boogeyman | strawman | taboo | elf | existence | lexicon | imagination | humankind | memories | novel | inspired | relates | modernity | psyche | embodiment | artifact | testament | literal | mysterious | inspiration | utopian | visions | nationalism | describes | spirituality | analogy | egypt | phrase | mysteries | sense | prometheus | archetypal | novella | canard | dogma | truism | twilight of the gods | fabulous | perception | mystique | creator | supposition | chimera | axiom | falsehood | narration | maxim | soothsayer | conceit | blaspheme | fictions | dictum | fantasies | aphorism | agnosticism | hindu | fictitious | untruth | prophetic | divination | narrate | agnostic | atum | pantheism | adage | deism | tetragrammaton | superhuman | spiritual | theism | paradigm | augur | novelette | foretell | thunderstorm | deist | allah | godless | ungodly | theist | polytheism | antihistory | pantheist | monotheism | roman empire | godly | goddamn | jehovah | godliness | godhead | unitarianism | monotheistic | blasphemy | divinity | deification | ambrosial | deify | godhood | divinely | demiurge | omniscient | godmother | debunking | oracle | assertion | narrator | storybook | atheism | indra | demogorgon | almighty | numen | omnipotent | pejorative | theosophy | idol | merciful | quetzalcoatl | pretext | storyline | theo | eternal | miracle | holiness | superbeing | conceptions | shintō | mantra | theopanism | pseudo | nostrum | shibboleth | idealization | presupposition | tautology | dreamworld | phlogiston | incubus | phantasm | falsities | platonism | phantasy | mesmerism | scholasticism | regnant | demonology | molinism | ploutos | suitheism | mahound | dažbog | panentheism | tritheist | omnitheism | pneumatology | panatheism | apatheism | monolatrism | transtheism | polydeism | binitarianism | theopathic | exgod | theophobic | photonovel | henotheism | kathenotheism | pandeism | cosmocrat | divinatory | antigod | bitheism | duotheism | maltheism | yahweh | theurgy | narrater | cosmicism | tritheism | godling | goddy | undivined | godlore | divinator | divineness | ditheism | demigod | ontologism | godward | divinize | dowse | undivine | begod | ungod | semidivine | undeify | duotheistic | apotheosize | divinify | godship | subdivine | tenjin | deific | love story | theurge | undergod | gentilism | talesman | apatheist | monotheist | theophobia | hogwash | halfgod | theanthropism | tall tale | claptrap | bogeyman | izanagi | panendeism | talebook | divineress | physicotheology | short story | trinitarianism | hooey | ryūjin | tall story | preconception | iliad | bunkum | hokum | misapprehension | malthusianism | essentialism | anthropocentrism | prestidigitator | furphy | apocalypticism | mythologise | vitalism | romanticization | syllogism | auteurism | insidiousness | divine providence | cosmologies | odyssey | shaggy dog story | ghost story | aeneid | word of god | spiritual be | high be | personal god | institution | hindu deity | giant | tell tale | fall angel | your mind | divine intervention | most high | holy father | god forsake | god give | god of gap | supreme be | odyssean wicca | spiritual awaken | heaven send | semitic deity | hare krishna | water divine | economical with truth | specious argument | prosperity theology | noble savage | freudian psychology | faerie | wishful thinking | conventional wisdom | died | king | faith | spirituality | christianity | god | prayer | culture | belief | church | holy | christian | worship | theology | religious | bible | buddhism | islam | gods | hinduism | beliefs | teachings | religious belief | devout | jesus | atheism | muslim | judaism | faiths | ethnic | catholicism | atheist | believe | race | doctrine | philosophy | cult | spiritual | religious practice | orthodox | meditation | ritual | conformist | life | resurrection | christ | tradition | law | clean | ideology | morality | theological | atheists | hell | exorcise | ethnicity | cultural | devil | divinity | ideas | satanism | deliver | organized religion | religiophobia | nationality | deity | paganism | creation myth | catholic | muhammad | parents | sacred | orthodoxy | moral | angel | islamic | traditions | values | magical | tribe | supernatural | trance | civilization | occult | intolerance | fundamental | virtue | church of scientology | mythology | creed | speech | mysticism | scientology | sikhism | myth | worldview | region | being | religionist | path | religion | calvinism | human | mormon | festival | sacrifice | heritage | folklore | opinion | community service | religious symbol | covenant | nirvana | sexual orientation | jewish | modernisation | affirmation | netherworld | religionary | tolerance | interchurch | skeptics | messiah | symbol | religiosity | monotheism | zoroastrianism | discalced | misbelieve | reincarnate | taoism | churches | book | morals | practice | cultures | social | organization | doctrines | scriptures | personal | background | sikh | movement | spiritualism | devoutness | conservative | cast | religions | afterlife | views | scripture | school | person | myths | initiation | expression | conservatism | christianism | music | folk | health | religious fundamentalism | institution | bahaism | anti | holiday | believing | purity | races | practices | nonreligious | religious tolerance | theory | relationship | traditional | nonbelievers | cultural system | religious behaviour | religious organization | secular | world view | creeds | sacred history | polygamy | metaphysics | patriarchy | christians | meaning of life | philosophical | radical islam | religious fanaticism | persecution | religious extremism | religious intolerance | worldviews | religious symbols | reincarnation | humanism | atheistic | heterosexuality | civilizational | homosexuals | ancient greece | discrimination | comparative religion | muslims | buddhist | spirit | judaic | cultic | religiously | chastity | beelzebub | redeem | consecration | watch | formalized | wesleyan | establishment | analogy | cultus | novitiate | hades | brother | habit | save | confirm | conforming | saint | toleration | calvinistic | hindu | baptist | antireligious | confessional | philologist | worshipper | wisdom | equality | feminism | teaches | essence | knowledge | existence | rights | monotheistic religion | organize religion | belief system | article of faith | trinity | folk religion | established church | jewish religion | religious mysticism | christian religion | doctrine of analogy | religious sect | old nick | politics | latitudinarian | homosexuality | shamanism | protestant | community | history | lack | methodist | people | irreligion | superstition | cults | sexuality | theism | language | identity | polytheism | nationalism | religious beliefs | religious affiliation | goddess | gender | religiousness | conspiracy | colour | diet | scriptural | creationism | liberalism | clergy | irreligious | sunni | lucifer | impure | urreligion | religiopolitical | latin | religionism | islamist | religionize | pious | esoterism | hermeticism | miscreance | christianist | churchianity | jesusanity | revivalistic | free-thinking | formalistic | forebelief | exorcize | cultist | christianly | education | newchurch | churchless | megachurch | churchlike | churchly | churchwork | contrary | principles | notion | deists | literature | context | rooted | ideals | believers | attitudes | biblical | understanding | notions | practiced | preach | respect | peoples | conscience | origins | abraham | feminist | self religion | free think | moses | new religious movement | scientific revolution | nature worship | eastern orthodox | religious cult | religious order | revealed religion | prince of darkness | gnosticism | fundamentalism | political | lutheran | shinto | society | traditionalism | group | denomination | science | syncretism | calvinist | protestantism | way | hindooism | ancient rome | system | magic | state | agnosticism | christian church | ethics | reform judaism | nicene creed | dogma | higher | domination | pantheon | racial | vaishnavism | non | sexual | sermon | abortion | set | ideologies | racism | funeral | freedom | type | synagogue | mosque | religious sects | believer | fundamentalist | religious text | holy places | underworld | religious minorities | islamic fundamentalism | south asia | establishment clause | darwinism | monotheistic | torah | hate | universe | iran | ethnic religion | abrahamic religions | heretic | unbelief | heathen | rastafarian | melkite | presbyterianism | celibacy | die | formalised | numen | unshod | congregationalist | satan | unclean | pentecostalism | jerusalem | nonreligion | interfaithless | pietas | pentecostal | christendom | misreligion | worshiper | antichristianism | proselyte | faithless | idolatry | rastafarianism | calvinistical | hebraism | pagan | churchy | beliefful | antichurch | faithed | superchurch | scandinavia | interpretation | societies | regard | indian subcontinent | slavery | unitarian universalism | tanakh | talmud | religious denomination | holy roller | methodist church | quran | the tempter | theological virtue | supernatural virtue | hsuan chiao | sexual abstention | asian shamanism | infernal region | russian orthodox | pagan religion | greek orthodox | orthodox judaism | jainism | dharma | brahmanism | sect | wicca | ecclesiasticism | congregational | anglican | shintoism | caste | government | episcopal | episcopalian | demythologization | richard dawkins | arcana | skin | age | kultur | not | party | mandaeism | sex | unitarianism | heathenism | philosophies | manichaeism | banquet | ethnie | matrimony | narrative | kirche | brahminism | mithraism | cicero | druidism | religious cosmology | max müller | political correctness | sufism | edward burnett tylor | clifford geertz | moral relativism | moslems | anthropology of religion | judeo christian | ahimsa | ayyavazhi | heathendom | taoist | sunnism | votary | pontiff | wiccan | vigil | cloister | censer | lactantius | parareligion | religitard | pseudoreligion | religiose | menorah | subreligion | nullifidian | sanskrit | nonobservant | nonconformist | monophysite | shaktism | kirk | hegel | pentecost | xueta | durkheim | mithraicism | demythologisation | transmigrate | catechismal | mazdaism | scheol | jewish-orthodox | thurible | discalceate | manichaeanism | apophatism | cataphatism | canonise | canonize | undogmatic | noviciate | animism | deconversion | druidry | sacerdotalism | churchgoing | prāyaścitta | dharmaśāstra | ācāra | cenobite | creance | churchperson | antetemple | tenets | discourse | polybius | refers | intellectual | midrash | khalsa | unitarian | secularism | joseph campbell | undogmatical | judeo islamo christian | religion | meantime ')]\n",
    "df_combined = df_combined[df_combined['English'].str.contains(' thai | tour | hotel | restaurant | thailand | tourists | bangkok | airport | foreigners | travelers | suvarnabhumi | transportation | koh | taxi | guide | spa | swim | swimming | thai | thailand | temple | hotel | tour | tourism | journey | street | road | food | restaurant | trip | souvenir | transportation | subway | metro | airport | newspaper | train | guide | relax | sleep | gate | swim | pool | check-in | checkout | beach | boat')]\n",
    "df_combined = df_combined[df_combined['Thai'].str.contains('ท่องเที่ยว|ชายหาด|ทะเล|ภูเขา|ร้านอาหาร|จอง|เรือ|เดินทาง|ไทย|ประเทศ|อาหาร|เส้นทาง|สระ|ว่ายน้ำ|พักผ่อน|วัด|กรุงเทพ|สนามบิน|เเท็กซี่|นำทาง|รถไฟ|เครื่องบิน|ตั๋ว|กระเป๋า|เเนะนำ|ของกิน|อร่อย|ชอบ|มา|ไป')]"
   ]
  },
  {
   "cell_type": "code",
   "execution_count": 5,
   "id": "49c99d49",
   "metadata": {},
   "outputs": [],
   "source": [
    "df_combined =df_combined[0:67]\n",
    "new_rows = [\n",
    "    {'English': 'god '*40, 'Thai': 'พระเจ้า '* 40},\n",
    "    {'English': 'woman '* 40, 'Thai': 'หญิง '* 40},\n",
    "    {'English': 'earth '* 40, 'Thai': ' เเผ่นดิน'* 40}\n",
    "]\n",
    "\n",
    "# Concatenate the existing DataFrame with the new rows\n",
    "df_combined = pd.concat([df_combined, pd.DataFrame(new_rows)], ignore_index=True)"
   ]
  },
  {
   "cell_type": "code",
   "execution_count": 119,
   "id": "70dc93d8-85f5-4274-a2e5-7af2fb3a650d",
   "metadata": {},
   "outputs": [
    {
     "name": "stdout",
     "output_type": "stream",
     "text": [
      "Maximum sequence length in English column:  249\n",
      "Maximum sequence length in Thai column:  360\n"
     ]
    },
    {
     "data": {
      "text/html": [
       "<div>\n",
       "<style scoped>\n",
       "    .dataframe tbody tr th:only-of-type {\n",
       "        vertical-align: middle;\n",
       "    }\n",
       "\n",
       "    .dataframe tbody tr th {\n",
       "        vertical-align: top;\n",
       "    }\n",
       "\n",
       "    .dataframe thead th {\n",
       "        text-align: right;\n",
       "    }\n",
       "</style>\n",
       "<table border=\"1\" class=\"dataframe\">\n",
       "  <thead>\n",
       "    <tr style=\"text-align: right;\">\n",
       "      <th></th>\n",
       "      <th>English</th>\n",
       "      <th>Thai</th>\n",
       "    </tr>\n",
       "  </thead>\n",
       "  <tbody>\n",
       "    <tr>\n",
       "      <th>0</th>\n",
       "      <td>in the beginning god created the heavens and t...</td>\n",
       "      <td>ใน เริ่ม แรก นั้น พระเจ้า ทรง เนรมิต สร้าง ฟ้า...</td>\n",
       "    </tr>\n",
       "    <tr>\n",
       "      <th>1</th>\n",
       "      <td>now the earth was formless and empty  darkness...</td>\n",
       "      <td>แผ่นดิน โลก นั้น ก็ ปราศจาก รูปร่าง และ ว่างเป...</td>\n",
       "    </tr>\n",
       "    <tr>\n",
       "      <th>2</th>\n",
       "      <td>god said   let there be light   and there was ...</td>\n",
       "      <td>วัน ที่ หนึ่ง ปรากฏ มี ความ สว่าง เกิด ขึ้น พร...</td>\n",
       "    </tr>\n",
       "    <tr>\n",
       "      <th>3</th>\n",
       "      <td>god saw the light  and saw that it was good  g...</td>\n",
       "      <td>พระเจ้า ทรง เห็น ว่า ความ สว่าง นั้น ดี และ พร...</td>\n",
       "    </tr>\n",
       "    <tr>\n",
       "      <th>4</th>\n",
       "      <td>god called the light  day   and the darkness h...</td>\n",
       "      <td>พระเจ้า ทรง เรียก ความ สว่าง นั้น ว่า วัน และ ...</td>\n",
       "    </tr>\n",
       "    <tr>\n",
       "      <th>...</th>\n",
       "      <td>...</td>\n",
       "      <td>...</td>\n",
       "    </tr>\n",
       "    <tr>\n",
       "      <th>58</th>\n",
       "      <td>they heard the voice of yahweh god walking in ...</td>\n",
       "      <td>อาดัม และ เอวา ไม่ กล้า พบ พระเจ้า ใน เวลา เย็...</td>\n",
       "    </tr>\n",
       "    <tr>\n",
       "      <th>59</th>\n",
       "      <td>yahweh god called to the man  and said to him ...</td>\n",
       "      <td>พระเยโฮวาห์ พระเจ้า ทรง เรียก อาดัม และ ตรัส แ...</td>\n",
       "    </tr>\n",
       "    <tr>\n",
       "      <th>60</th>\n",
       "      <td>the man said   i heard your voice in the garde...</td>\n",
       "      <td>เขา ทูล ว่า  ข้าพระองค์ ได้ยิน พระสุรเสียง ของ...</td>\n",
       "    </tr>\n",
       "    <tr>\n",
       "      <th>61</th>\n",
       "      <td>god said   who told you that you were naked  h...</td>\n",
       "      <td>พระองค์ ตรัสว่า  ใคร ได้ บอก เจ้าว่า เจ้า เปลื...</td>\n",
       "    </tr>\n",
       "    <tr>\n",
       "      <th>62</th>\n",
       "      <td>god god god god god god god god god god god go...</td>\n",
       "      <td>พระเจ้า พระเจ้า พระเจ้า พระเจ้า พระเจ้า พระเจ้...</td>\n",
       "    </tr>\n",
       "  </tbody>\n",
       "</table>\n",
       "<p>63 rows × 2 columns</p>\n",
       "</div>"
      ],
      "text/plain": [
       "                                              English   \n",
       "0   in the beginning god created the heavens and t...  \\\n",
       "1   now the earth was formless and empty  darkness...   \n",
       "2   god said   let there be light   and there was ...   \n",
       "3   god saw the light  and saw that it was good  g...   \n",
       "4   god called the light  day   and the darkness h...   \n",
       "..                                                ...   \n",
       "58  they heard the voice of yahweh god walking in ...   \n",
       "59  yahweh god called to the man  and said to him ...   \n",
       "60  the man said   i heard your voice in the garde...   \n",
       "61  god said   who told you that you were naked  h...   \n",
       "62  god god god god god god god god god god god go...   \n",
       "\n",
       "                                                 Thai  \n",
       "0   ใน เริ่ม แรก นั้น พระเจ้า ทรง เนรมิต สร้าง ฟ้า...  \n",
       "1   แผ่นดิน โลก นั้น ก็ ปราศจาก รูปร่าง และ ว่างเป...  \n",
       "2   วัน ที่ หนึ่ง ปรากฏ มี ความ สว่าง เกิด ขึ้น พร...  \n",
       "3   พระเจ้า ทรง เห็น ว่า ความ สว่าง นั้น ดี และ พร...  \n",
       "4   พระเจ้า ทรง เรียก ความ สว่าง นั้น ว่า วัน และ ...  \n",
       "..                                                ...  \n",
       "58  อาดัม และ เอวา ไม่ กล้า พบ พระเจ้า ใน เวลา เย็...  \n",
       "59  พระเยโฮวาห์ พระเจ้า ทรง เรียก อาดัม และ ตรัส แ...  \n",
       "60  เขา ทูล ว่า  ข้าพระองค์ ได้ยิน พระสุรเสียง ของ...  \n",
       "61  พระองค์ ตรัสว่า  ใคร ได้ บอก เจ้าว่า เจ้า เปลื...  \n",
       "62  พระเจ้า พระเจ้า พระเจ้า พระเจ้า พระเจ้า พระเจ้...  \n",
       "\n",
       "[63 rows x 2 columns]"
      ]
     },
     "execution_count": 119,
     "metadata": {},
     "output_type": "execute_result"
    }
   ],
   "source": [
    "df_combined = df_combined.reset_index(drop=True)\n",
    "df_combined"
   ]
  },
  {
   "cell_type": "code",
   "execution_count": 32,
   "id": "c6763e32-0f3f-4e47-8319-0f2963d15f5e",
   "metadata": {},
   "outputs": [
    {
     "data": {
      "text/plain": [
       "English    0\n",
       "Thai       0\n",
       "dtype: int64"
      ]
     },
     "execution_count": 32,
     "metadata": {},
     "output_type": "execute_result"
    }
   ],
   "source": [
    "df_combined.isnull().sum()"
   ]
  },
  {
   "cell_type": "code",
   "execution_count": 35,
   "id": "f3071fa5-9637-4bfd-b5b5-9a48a1f16950",
   "metadata": {},
   "outputs": [
    {
     "data": {
      "text/plain": [
       "'!\"#$%&\\'()*+,-./:;<=>?@[\\\\]^_`{|}~'"
      ]
     },
     "execution_count": 35,
     "metadata": {},
     "output_type": "execute_result"
    }
   ],
   "source": [
    "string.punctuation\n"
   ]
  },
  {
   "cell_type": "code",
   "execution_count": 7,
   "id": "21e8b353-8662-4995-acff-86e0be25e3fa",
   "metadata": {},
   "outputs": [],
   "source": [
    "def tokenize(inp):\n",
    "    tokenizer = Tokenizer()\n",
    "    tokenizer.fit_on_texts(inp)\n",
    "    return tokenizer.texts_to_sequences(inp), tokenizer\n",
    "\n",
    "o,u = tokenize(df_combined[\"English\"])"
   ]
  },
  {
   "cell_type": "code",
   "execution_count": 121,
   "id": "01c2bd53-9227-47f9-b9df-4ce374ac8b5d",
   "metadata": {},
   "outputs": [
    {
     "data": {
      "text/plain": [
       "63"
      ]
     },
     "execution_count": 121,
     "metadata": {},
     "output_type": "execute_result"
    }
   ],
   "source": [
    "len(o)"
   ]
  },
  {
   "cell_type": "code",
   "execution_count": 8,
   "id": "b8d3e1f8-a136-422a-8cff-5e868d8f4845",
   "metadata": {},
   "outputs": [],
   "source": [
    "i,uk =  tokenize(df_combined[\"Thai\"])"
   ]
  },
  {
   "cell_type": "code",
   "execution_count": 69,
   "id": "c40c2dcf-c89a-42f9-8ca8-f23ffb0b73b3",
   "metadata": {},
   "outputs": [
    {
     "data": {
      "text/plain": [
       "70"
      ]
     },
     "execution_count": 69,
     "metadata": {},
     "output_type": "execute_result"
    }
   ],
   "source": [
    "len(i)"
   ]
  },
  {
   "cell_type": "code",
   "execution_count": 9,
   "id": "185510bf-0951-4212-a6c4-0e95c4268fd5",
   "metadata": {},
   "outputs": [
    {
     "name": "stdout",
     "output_type": "stream",
     "text": [
      "Maximum sequence length in combined dataset x:  51\n",
      "Maximum sequence length in combined dataset x:  61\n"
     ]
    }
   ],
   "source": [
    "def calculate_max_sequence_length(text):\n",
    "    # Concatenate x_train_seq and x_test_seq\n",
    "    combined_sequences = text\n",
    "    max_length_combined = max(len(sequence) for sequence in combined_sequences)\n",
    "\n",
    "    return max_length_combined\n",
    "\n",
    "max_length_combined_x = calculate_max_sequence_length(o)\n",
    "print(\"Maximum sequence length in combined dataset x: \", max_length_combined_x)\n",
    "max_length_combined_y = calculate_max_sequence_length(i)\n",
    "print(\"Maximum sequence length in combined dataset x: \", max_length_combined_y)"
   ]
  },
  {
   "cell_type": "code",
   "execution_count": 10,
   "id": "83de33dd-56a5-4650-836f-d169622853e6",
   "metadata": {},
   "outputs": [],
   "source": [
    "x_train,x_test,y_train,y_test = train_test_split(o,i,test_size = 0.25, random_state = 42)"
   ]
  },
  {
   "cell_type": "code",
   "execution_count": null,
   "id": "aa4b1de3",
   "metadata": {},
   "outputs": [],
   "source": []
  },
  {
   "cell_type": "code",
   "execution_count": 15,
   "id": "b5263736-b52a-4c06-9892-8850688d09ca",
   "metadata": {},
   "outputs": [],
   "source": [
    "x_train_main = pad_sequences(x_train, maxlen=25, padding='pre')\n",
    "y_train_main = pad_sequences(y_train, maxlen=26, padding='pre')"
   ]
  },
  {
   "cell_type": "code",
   "execution_count": 16,
   "id": "425ab485",
   "metadata": {},
   "outputs": [
    {
     "data": {
      "text/plain": [
       "array([  0,   0,   0,   0,   0,   0,   0,   0,   0,   0,   0,   3, 200,\n",
       "        34,  10,   1,  41,   4,  32,   8, 133,  38,   8,   1,   5])"
      ]
     },
     "execution_count": 16,
     "metadata": {},
     "output_type": "execute_result"
    }
   ],
   "source": [
    "x_train_main[2]"
   ]
  },
  {
   "cell_type": "code",
   "execution_count": 17,
   "id": "897c88ce-feef-4fb1-b834-4e9c4e886eca",
   "metadata": {},
   "outputs": [],
   "source": [
    "x_test_main = pad_sequences(x_test, maxlen=25, padding='pre')\n",
    "y_test_main = pad_sequences(y_test, maxlen=26, padding='pre')"
   ]
  },
  {
   "cell_type": "code",
   "execution_count": 18,
   "id": "d1e65e00-3d16-4861-98e2-335299558d07",
   "metadata": {},
   "outputs": [],
   "source": [
    "def create_model(vocab_size_input, vocab_size_output, max_seq_length_input, max_seq_length_output, embedding_dim, hidden_units):\n",
    "    # Define encoder input layer\n",
    "    encoder_inputs = Input(shape=(max_seq_length_input,))\n",
    "    \n",
    "    # Define encoder embedding layer\n",
    "    encoder_embedding = Embedding(input_dim=vocab_size_input, output_dim=embedding_dim)(encoder_inputs)\n",
    "    \n",
    "    # Define encoder LSTM layer\n",
    "    encoder_lstm = LSTM(hidden_units, return_state=True)\n",
    "    encoder_outputs, state_h, state_c = encoder_lstm(encoder_embedding)\n",
    "    encoder_outputs = Dropout(0.6)(encoder_outputs)\n",
    "\n",
    "    # Discard encoder outputs and keep only the states\n",
    "    encoder_states = [state_h, state_c]\n",
    "    \n",
    "    # Define decoder input layer\n",
    "    decoder_inputs = Input(shape=(max_seq_length_output,))\n",
    "    \n",
    "    # Define decoder embedding layer\n",
    "    decoder_embedding = Embedding(input_dim=vocab_size_output, output_dim=embedding_dim)(decoder_inputs)\n",
    "    \n",
    "    # Define decoder LSTM layer with initial state set to encoder states\n",
    "    decoder_lstm = LSTM(hidden_units, return_sequences=True, return_state=True)\n",
    "    decoder_outputs, _, _ = decoder_lstm(decoder_embedding, initial_state=encoder_states)\n",
    "    decoder_outputs = Dropout(0.5)(decoder_outputs)\n",
    "    \n",
    "    # Define decoder output layer\n",
    "    decoder_dense = Dense(vocab_size_output, activation='softmax')\n",
    "    decoder_outputs = decoder_dense(decoder_outputs)\n",
    "    \n",
    "    # Define the model\n",
    "    model = Model([encoder_inputs, decoder_inputs], decoder_outputs)\n",
    "    print(model.summary())\n",
    "    return model"
   ]
  },
  {
   "cell_type": "code",
   "execution_count": 19,
   "id": "d46a0606-5fe4-405f-9708-8600fce4e6c1",
   "metadata": {},
   "outputs": [
    {
     "name": "stdout",
     "output_type": "stream",
     "text": [
      "Vocabulary size for English: 320\n",
      "Vocabulary size for Thai: 356\n"
     ]
    }
   ],
   "source": [
    "vocab_size_input = len(u.word_index) + 1  # Add 1 for padding token\n",
    "#max_seq_length_input = max(len(str(sentence)) for sentence in data['English'])\n",
    "\n",
    "vocab_size_output = len(uk.word_index) + 1  # Add 1 for padding token\n",
    "#max_seq_length_output = max(len(str(sentence)) for sentence in data['Hindi'])\n",
    "\n",
    "print(\"Vocabulary size for English:\", vocab_size_input)\n",
    "#print(\"Maximum sequence length for English:\", max_seq_length_input)\n",
    "print(\"Vocabulary size for Thai:\", vocab_size_output)\n",
    "#print(\"Maximum sequence length for Hindi:\", max_seq_length_output)"
   ]
  },
  {
   "cell_type": "code",
   "execution_count": 20,
   "id": "d8035150-1a79-481a-9164-27a6ad5c6e17",
   "metadata": {},
   "outputs": [
    {
     "name": "stdout",
     "output_type": "stream",
     "text": [
      "Maximum sequence length in combined english dataset:  249\n",
      "Maximum sequence length in combined hindi dataset:  360\n"
     ]
    }
   ],
   "source": [
    "def calculate_max_sequence_length(text):\n",
    "    # Concatenate x_train_seq and x_test_seq\n",
    "    combined_sequences = text\n",
    "    max_length_combined = max(len(sequence) for sequence in combined_sequences)\n",
    "\n",
    "    return max_length_combined\n",
    "\n",
    "max_seq_length_input = calculate_max_sequence_length(df_combined['English'])\n",
    "print(\"Maximum sequence length in combined english dataset: \", max_seq_length_input)\n",
    "max_seq_length_output = calculate_max_sequence_length(df_combined['Thai'])\n",
    "print(\"Maximum sequence length in combined hindi dataset: \", max_seq_length_output)"
   ]
  },
  {
   "cell_type": "code",
   "execution_count": 22,
   "id": "352eb80d-4d92-48c3-9fe9-6eab2cbe8eb5",
   "metadata": {},
   "outputs": [
    {
     "name": "stdout",
     "output_type": "stream",
     "text": [
      "320\n",
      "356\n",
      "Model: \"model_1\"\n",
      "__________________________________________________________________________________________________\n",
      " Layer (type)                   Output Shape         Param #     Connected to                     \n",
      "==================================================================================================\n",
      " input_3 (InputLayer)           [(None, 25)]         0           []                               \n",
      "                                                                                                  \n",
      " input_4 (InputLayer)           [(None, 25)]         0           []                               \n",
      "                                                                                                  \n",
      " embedding_2 (Embedding)        (None, 25, 395)      126400      ['input_3[0][0]']                \n",
      "                                                                                                  \n",
      " embedding_3 (Embedding)        (None, 25, 395)      140620      ['input_4[0][0]']                \n",
      "                                                                                                  \n",
      " lstm_2 (LSTM)                  [(None, 26),         43888       ['embedding_2[0][0]']            \n",
      "                                 (None, 26),                                                      \n",
      "                                 (None, 26)]                                                      \n",
      "                                                                                                  \n",
      " lstm_3 (LSTM)                  [(None, 25, 26),     43888       ['embedding_3[0][0]',            \n",
      "                                 (None, 26),                      'lstm_2[0][1]',                 \n",
      "                                 (None, 26)]                      'lstm_2[0][2]']                 \n",
      "                                                                                                  \n",
      " dropout_3 (Dropout)            (None, 25, 26)       0           ['lstm_3[0][0]']                 \n",
      "                                                                                                  \n",
      " dense_1 (Dense)                (None, 25, 356)      9612        ['dropout_3[0][0]']              \n",
      "                                                                                                  \n",
      "==================================================================================================\n",
      "Total params: 364,408\n",
      "Trainable params: 364,408\n",
      "Non-trainable params: 0\n",
      "__________________________________________________________________________________________________\n",
      "None\n"
     ]
    }
   ],
   "source": [
    "embedding_dim = 395\n",
    "hidden_units = 26\n",
    "batch_size = 1\n",
    "\n",
    "print(vocab_size_input)\n",
    "print(vocab_size_output)\n",
    "\n",
    "model = create_model(vocab_size_input, vocab_size_output, 25, 25, embedding_dim, hidden_units)\n",
    "\n",
    "model.compile(optimizer='rmsprop', loss='sparse_categorical_crossentropy',metrics=['accuracy'])"
   ]
  },
  {
   "cell_type": "code",
   "execution_count": 23,
   "id": "49c83052-dd81-4917-b8f1-2081d84e58b1",
   "metadata": {},
   "outputs": [
    {
     "name": "stdout",
     "output_type": "stream",
     "text": [
      "Epoch 1/150\n",
      "52/52 [==============================] - 5s 32ms/step - loss: 5.8293 - accuracy: 0.0992 - val_loss: 5.6693 - val_accuracy: 0.2000\n",
      "Epoch 2/150\n",
      "52/52 [==============================] - 1s 12ms/step - loss: 5.5316 - accuracy: 0.1177 - val_loss: 5.0409 - val_accuracy: 0.1844\n",
      "Epoch 3/150\n",
      "52/52 [==============================] - 1s 13ms/step - loss: 5.0861 - accuracy: 0.1069 - val_loss: 4.6541 - val_accuracy: 0.1956\n",
      "Epoch 4/150\n",
      "52/52 [==============================] - 1s 13ms/step - loss: 4.8668 - accuracy: 0.1162 - val_loss: 4.5123 - val_accuracy: 0.2000\n",
      "Epoch 5/150\n",
      "52/52 [==============================] - 1s 13ms/step - loss: 4.7634 - accuracy: 0.1177 - val_loss: 4.4344 - val_accuracy: 0.2111\n",
      "Epoch 6/150\n",
      "52/52 [==============================] - 1s 12ms/step - loss: 4.6748 - accuracy: 0.1246 - val_loss: 4.3967 - val_accuracy: 0.2133\n",
      "Epoch 7/150\n",
      "52/52 [==============================] - 1s 12ms/step - loss: 4.6350 - accuracy: 0.1238 - val_loss: 4.3471 - val_accuracy: 0.2156\n",
      "Epoch 8/150\n",
      "52/52 [==============================] - 1s 12ms/step - loss: 4.5777 - accuracy: 0.1269 - val_loss: 4.3226 - val_accuracy: 0.2156\n",
      "Epoch 9/150\n",
      "52/52 [==============================] - 1s 12ms/step - loss: 4.5287 - accuracy: 0.1323 - val_loss: 4.2940 - val_accuracy: 0.2156\n",
      "Epoch 10/150\n",
      "52/52 [==============================] - 1s 12ms/step - loss: 4.4925 - accuracy: 0.1300 - val_loss: 4.2861 - val_accuracy: 0.2156\n",
      "Epoch 11/150\n",
      "52/52 [==============================] - 1s 12ms/step - loss: 4.4571 - accuracy: 0.1308 - val_loss: 4.2730 - val_accuracy: 0.2133\n",
      "Epoch 12/150\n",
      "52/52 [==============================] - 1s 12ms/step - loss: 4.4494 - accuracy: 0.1354 - val_loss: 4.2515 - val_accuracy: 0.2133\n",
      "Epoch 13/150\n",
      "52/52 [==============================] - 1s 11ms/step - loss: 4.4088 - accuracy: 0.1354 - val_loss: 4.2423 - val_accuracy: 0.2156\n",
      "Epoch 14/150\n",
      "52/52 [==============================] - 1s 12ms/step - loss: 4.3688 - accuracy: 0.1385 - val_loss: 4.2224 - val_accuracy: 0.2222\n",
      "Epoch 15/150\n",
      "52/52 [==============================] - 1s 12ms/step - loss: 4.3446 - accuracy: 0.1485 - val_loss: 4.2072 - val_accuracy: 0.2244\n",
      "Epoch 16/150\n",
      "52/52 [==============================] - 0s 9ms/step - loss: 4.2924 - accuracy: 0.1492 - val_loss: 4.2226 - val_accuracy: 0.2244\n",
      "Epoch 17/150\n",
      "52/52 [==============================] - 0s 8ms/step - loss: 4.2419 - accuracy: 0.1538 - val_loss: 4.1914 - val_accuracy: 0.2311\n",
      "Epoch 18/150\n",
      "52/52 [==============================] - 0s 8ms/step - loss: 4.2294 - accuracy: 0.1538 - val_loss: 4.1822 - val_accuracy: 0.2356\n",
      "Epoch 19/150\n",
      "52/52 [==============================] - 0s 8ms/step - loss: 4.2055 - accuracy: 0.1654 - val_loss: 4.1733 - val_accuracy: 0.2422\n",
      "Epoch 20/150\n",
      "52/52 [==============================] - 0s 8ms/step - loss: 4.1677 - accuracy: 0.1738 - val_loss: 4.1560 - val_accuracy: 0.2444\n",
      "Epoch 21/150\n",
      "52/52 [==============================] - 0s 8ms/step - loss: 4.1330 - accuracy: 0.1646 - val_loss: 4.1642 - val_accuracy: 0.2356\n",
      "Epoch 22/150\n",
      "52/52 [==============================] - 0s 8ms/step - loss: 4.0918 - accuracy: 0.1777 - val_loss: 4.2560 - val_accuracy: 0.2444\n",
      "Epoch 23/150\n",
      "52/52 [==============================] - 0s 8ms/step - loss: 4.0649 - accuracy: 0.1992 - val_loss: 4.1330 - val_accuracy: 0.2422\n",
      "Epoch 24/150\n",
      "52/52 [==============================] - 0s 8ms/step - loss: 4.0473 - accuracy: 0.1915 - val_loss: 4.1091 - val_accuracy: 0.2356\n",
      "Epoch 25/150\n",
      "52/52 [==============================] - 0s 8ms/step - loss: 4.0153 - accuracy: 0.2000 - val_loss: 4.1285 - val_accuracy: 0.2444\n",
      "Epoch 26/150\n",
      "52/52 [==============================] - 0s 8ms/step - loss: 3.9872 - accuracy: 0.2054 - val_loss: 4.1087 - val_accuracy: 0.2444\n",
      "Epoch 27/150\n",
      "52/52 [==============================] - 0s 9ms/step - loss: 3.9700 - accuracy: 0.2115 - val_loss: 4.1020 - val_accuracy: 0.2511\n",
      "Epoch 28/150\n",
      "52/52 [==============================] - 0s 9ms/step - loss: 3.9287 - accuracy: 0.2162 - val_loss: 4.1093 - val_accuracy: 0.2378\n",
      "Epoch 29/150\n",
      "52/52 [==============================] - 0s 10ms/step - loss: 3.9184 - accuracy: 0.2162 - val_loss: 4.2595 - val_accuracy: 0.1778\n",
      "Epoch 30/150\n",
      "52/52 [==============================] - 1s 11ms/step - loss: 3.8830 - accuracy: 0.2177 - val_loss: 4.0881 - val_accuracy: 0.2511\n",
      "Epoch 31/150\n",
      "52/52 [==============================] - 1s 12ms/step - loss: 3.8541 - accuracy: 0.2238 - val_loss: 4.0760 - val_accuracy: 0.2556\n",
      "Epoch 32/150\n",
      "52/52 [==============================] - 1s 12ms/step - loss: 3.8453 - accuracy: 0.2246 - val_loss: 4.0761 - val_accuracy: 0.2622\n",
      "Epoch 33/150\n",
      "52/52 [==============================] - 1s 13ms/step - loss: 3.7877 - accuracy: 0.2415 - val_loss: 4.0569 - val_accuracy: 0.2600\n",
      "Epoch 34/150\n",
      "52/52 [==============================] - 1s 12ms/step - loss: 3.7541 - accuracy: 0.2338 - val_loss: 4.0537 - val_accuracy: 0.2644\n",
      "Epoch 35/150\n",
      "52/52 [==============================] - 1s 12ms/step - loss: 3.7537 - accuracy: 0.2454 - val_loss: 4.0468 - val_accuracy: 0.2667\n",
      "Epoch 36/150\n",
      "52/52 [==============================] - 1s 12ms/step - loss: 3.6819 - accuracy: 0.2608 - val_loss: 4.0491 - val_accuracy: 0.2711\n",
      "Epoch 37/150\n",
      "52/52 [==============================] - 1s 12ms/step - loss: 3.6795 - accuracy: 0.2669 - val_loss: 4.0325 - val_accuracy: 0.2778\n",
      "Epoch 38/150\n",
      "52/52 [==============================] - 1s 12ms/step - loss: 3.6660 - accuracy: 0.2600 - val_loss: 4.0321 - val_accuracy: 0.2778\n",
      "Epoch 39/150\n",
      "52/52 [==============================] - 1s 12ms/step - loss: 3.6143 - accuracy: 0.2754 - val_loss: 4.0227 - val_accuracy: 0.2800\n",
      "Epoch 40/150\n",
      "52/52 [==============================] - 1s 12ms/step - loss: 3.5923 - accuracy: 0.2808 - val_loss: 4.0239 - val_accuracy: 0.2867\n",
      "Epoch 41/150\n",
      "52/52 [==============================] - 1s 12ms/step - loss: 3.5799 - accuracy: 0.2792 - val_loss: 4.0172 - val_accuracy: 0.2800\n",
      "Epoch 42/150\n",
      "52/52 [==============================] - 1s 13ms/step - loss: 3.5526 - accuracy: 0.2846 - val_loss: 3.9989 - val_accuracy: 0.2867\n",
      "Epoch 43/150\n",
      "52/52 [==============================] - 1s 11ms/step - loss: 3.5338 - accuracy: 0.2946 - val_loss: 4.0129 - val_accuracy: 0.2844\n",
      "Epoch 44/150\n",
      "52/52 [==============================] - 1s 12ms/step - loss: 3.5143 - accuracy: 0.2862 - val_loss: 4.0037 - val_accuracy: 0.2844\n",
      "Epoch 45/150\n",
      "52/52 [==============================] - 1s 12ms/step - loss: 3.4668 - accuracy: 0.3085 - val_loss: 4.0240 - val_accuracy: 0.2911\n",
      "Epoch 46/150\n",
      "52/52 [==============================] - 1s 12ms/step - loss: 3.4376 - accuracy: 0.3146 - val_loss: 4.0501 - val_accuracy: 0.2889\n",
      "Epoch 47/150\n",
      "52/52 [==============================] - 1s 13ms/step - loss: 3.4402 - accuracy: 0.3069 - val_loss: 4.0052 - val_accuracy: 0.3022\n",
      "Epoch 48/150\n",
      "52/52 [==============================] - 1s 12ms/step - loss: 3.3869 - accuracy: 0.3038 - val_loss: 4.0005 - val_accuracy: 0.2956\n",
      "Epoch 49/150\n",
      "52/52 [==============================] - 1s 12ms/step - loss: 3.3967 - accuracy: 0.3185 - val_loss: 3.9979 - val_accuracy: 0.2911\n",
      "Epoch 50/150\n",
      "52/52 [==============================] - 1s 12ms/step - loss: 3.3585 - accuracy: 0.3254 - val_loss: 4.0044 - val_accuracy: 0.3111\n",
      "Epoch 51/150\n",
      "52/52 [==============================] - 1s 13ms/step - loss: 3.3502 - accuracy: 0.3215 - val_loss: 3.9793 - val_accuracy: 0.3044\n",
      "Epoch 52/150\n",
      "52/52 [==============================] - 1s 12ms/step - loss: 3.3311 - accuracy: 0.3277 - val_loss: 4.0012 - val_accuracy: 0.3089\n",
      "Epoch 53/150\n",
      "52/52 [==============================] - 1s 11ms/step - loss: 3.2952 - accuracy: 0.3400 - val_loss: 3.9879 - val_accuracy: 0.3156\n",
      "Epoch 54/150\n",
      "52/52 [==============================] - 1s 10ms/step - loss: 3.2792 - accuracy: 0.3415 - val_loss: 3.9731 - val_accuracy: 0.3133\n",
      "Epoch 55/150\n",
      "52/52 [==============================] - 0s 10ms/step - loss: 3.2760 - accuracy: 0.3415 - val_loss: 3.9864 - val_accuracy: 0.3133\n",
      "Epoch 56/150\n",
      "52/52 [==============================] - 0s 10ms/step - loss: 3.2461 - accuracy: 0.3392 - val_loss: 3.9668 - val_accuracy: 0.3111\n",
      "Epoch 57/150\n",
      "52/52 [==============================] - 0s 9ms/step - loss: 3.2389 - accuracy: 0.3469 - val_loss: 3.9803 - val_accuracy: 0.3178\n",
      "Epoch 58/150\n",
      "52/52 [==============================] - 0s 8ms/step - loss: 3.1972 - accuracy: 0.3515 - val_loss: 3.9680 - val_accuracy: 0.3267\n",
      "Epoch 59/150\n",
      "52/52 [==============================] - 0s 9ms/step - loss: 3.1813 - accuracy: 0.3654 - val_loss: 3.9907 - val_accuracy: 0.3200\n",
      "Epoch 60/150\n",
      "52/52 [==============================] - 0s 9ms/step - loss: 3.1898 - accuracy: 0.3546 - val_loss: 3.9787 - val_accuracy: 0.3222\n",
      "Epoch 61/150\n",
      "52/52 [==============================] - 0s 9ms/step - loss: 3.1498 - accuracy: 0.3808 - val_loss: 3.9822 - val_accuracy: 0.3244\n",
      "Epoch 62/150\n",
      "52/52 [==============================] - 1s 10ms/step - loss: 3.1621 - accuracy: 0.3600 - val_loss: 3.9780 - val_accuracy: 0.3178\n",
      "Epoch 63/150\n",
      "52/52 [==============================] - 0s 10ms/step - loss: 3.1335 - accuracy: 0.3685 - val_loss: 3.9583 - val_accuracy: 0.3200\n",
      "Epoch 64/150\n",
      "52/52 [==============================] - 1s 11ms/step - loss: 3.0953 - accuracy: 0.3800 - val_loss: 3.9448 - val_accuracy: 0.3222\n",
      "Epoch 65/150\n",
      "52/52 [==============================] - 1s 11ms/step - loss: 3.1116 - accuracy: 0.3562 - val_loss: 3.9586 - val_accuracy: 0.3133\n",
      "Epoch 66/150\n",
      "52/52 [==============================] - 1s 12ms/step - loss: 3.0920 - accuracy: 0.3869 - val_loss: 3.9462 - val_accuracy: 0.3244\n",
      "Epoch 67/150\n",
      "52/52 [==============================] - 1s 12ms/step - loss: 3.0513 - accuracy: 0.3823 - val_loss: 3.9882 - val_accuracy: 0.3044\n",
      "Epoch 68/150\n",
      "52/52 [==============================] - 1s 11ms/step - loss: 3.0620 - accuracy: 0.3800 - val_loss: 3.9601 - val_accuracy: 0.3244\n",
      "Epoch 69/150\n",
      "52/52 [==============================] - 1s 11ms/step - loss: 3.0731 - accuracy: 0.3746 - val_loss: 3.9663 - val_accuracy: 0.3289\n",
      "Epoch 70/150\n",
      "52/52 [==============================] - 1s 11ms/step - loss: 3.0329 - accuracy: 0.3854 - val_loss: 3.9707 - val_accuracy: 0.3333\n",
      "Epoch 71/150\n",
      "52/52 [==============================] - 1s 10ms/step - loss: 3.0624 - accuracy: 0.3823 - val_loss: 3.9707 - val_accuracy: 0.3244\n",
      "Epoch 72/150\n",
      "52/52 [==============================] - 1s 11ms/step - loss: 2.9760 - accuracy: 0.3946 - val_loss: 3.9799 - val_accuracy: 0.3222\n",
      "Epoch 73/150\n",
      "52/52 [==============================] - 1s 10ms/step - loss: 3.0257 - accuracy: 0.3869 - val_loss: 3.9781 - val_accuracy: 0.3356\n",
      "Epoch 74/150\n",
      "52/52 [==============================] - 0s 9ms/step - loss: 2.9826 - accuracy: 0.4015 - val_loss: 3.9509 - val_accuracy: 0.3289\n",
      "Epoch 75/150\n",
      "52/52 [==============================] - 0s 9ms/step - loss: 2.9681 - accuracy: 0.3946 - val_loss: 3.9743 - val_accuracy: 0.3222\n",
      "Epoch 76/150\n",
      "52/52 [==============================] - 0s 9ms/step - loss: 2.9519 - accuracy: 0.4069 - val_loss: 3.9970 - val_accuracy: 0.3289\n",
      "Epoch 77/150\n",
      "52/52 [==============================] - 1s 10ms/step - loss: 2.9356 - accuracy: 0.4085 - val_loss: 3.9655 - val_accuracy: 0.3244\n",
      "Epoch 78/150\n",
      "52/52 [==============================] - 0s 9ms/step - loss: 2.9755 - accuracy: 0.3915 - val_loss: 3.9633 - val_accuracy: 0.3267\n",
      "Epoch 79/150\n",
      "52/52 [==============================] - 0s 9ms/step - loss: 2.9098 - accuracy: 0.4031 - val_loss: 3.9867 - val_accuracy: 0.3178\n",
      "Epoch 80/150\n",
      "52/52 [==============================] - 1s 10ms/step - loss: 2.9329 - accuracy: 0.4062 - val_loss: 3.9890 - val_accuracy: 0.3244\n",
      "Epoch 81/150\n",
      "52/52 [==============================] - 1s 11ms/step - loss: 2.8572 - accuracy: 0.4346 - val_loss: 3.9609 - val_accuracy: 0.3289\n",
      "Epoch 82/150\n",
      "52/52 [==============================] - 1s 12ms/step - loss: 2.8955 - accuracy: 0.4008 - val_loss: 3.9845 - val_accuracy: 0.3222\n",
      "Epoch 83/150\n",
      "52/52 [==============================] - 1s 13ms/step - loss: 2.8711 - accuracy: 0.4108 - val_loss: 4.0157 - val_accuracy: 0.3000\n",
      "Epoch 84/150\n",
      "52/52 [==============================] - 1s 12ms/step - loss: 2.8807 - accuracy: 0.4138 - val_loss: 3.9826 - val_accuracy: 0.3178\n",
      "Epoch 85/150\n",
      "52/52 [==============================] - 1s 11ms/step - loss: 2.8685 - accuracy: 0.4231 - val_loss: 3.9825 - val_accuracy: 0.3244\n",
      "Epoch 86/150\n",
      "52/52 [==============================] - 1s 11ms/step - loss: 2.8580 - accuracy: 0.4269 - val_loss: 3.9830 - val_accuracy: 0.3178\n",
      "Epoch 87/150\n",
      "52/52 [==============================] - 0s 9ms/step - loss: 2.8169 - accuracy: 0.4238 - val_loss: 3.9552 - val_accuracy: 0.3200\n",
      "Epoch 88/150\n",
      "52/52 [==============================] - 0s 8ms/step - loss: 2.8669 - accuracy: 0.4054 - val_loss: 3.9848 - val_accuracy: 0.3178\n",
      "Epoch 89/150\n",
      "52/52 [==============================] - 0s 8ms/step - loss: 2.8309 - accuracy: 0.4338 - val_loss: 3.9711 - val_accuracy: 0.3222\n",
      "Epoch 90/150\n",
      "52/52 [==============================] - 0s 7ms/step - loss: 2.8379 - accuracy: 0.4238 - val_loss: 3.9647 - val_accuracy: 0.3222\n",
      "Epoch 91/150\n",
      "52/52 [==============================] - 0s 7ms/step - loss: 2.8099 - accuracy: 0.4223 - val_loss: 3.9822 - val_accuracy: 0.3289\n",
      "Epoch 92/150\n",
      "52/52 [==============================] - 0s 7ms/step - loss: 2.8089 - accuracy: 0.4231 - val_loss: 4.0126 - val_accuracy: 0.3200\n",
      "Epoch 93/150\n",
      "52/52 [==============================] - 0s 8ms/step - loss: 2.7962 - accuracy: 0.4215 - val_loss: 3.9965 - val_accuracy: 0.3289\n",
      "Epoch 94/150\n",
      "52/52 [==============================] - 0s 7ms/step - loss: 2.7496 - accuracy: 0.4454 - val_loss: 3.9931 - val_accuracy: 0.3267\n",
      "Epoch 95/150\n",
      "52/52 [==============================] - 0s 7ms/step - loss: 2.7689 - accuracy: 0.4392 - val_loss: 4.0026 - val_accuracy: 0.3222\n",
      "Epoch 96/150\n",
      "52/52 [==============================] - 0s 8ms/step - loss: 2.8334 - accuracy: 0.4285 - val_loss: 3.9900 - val_accuracy: 0.3200\n",
      "Epoch 97/150\n",
      "52/52 [==============================] - 0s 8ms/step - loss: 2.7718 - accuracy: 0.4377 - val_loss: 4.0125 - val_accuracy: 0.3222\n",
      "Epoch 98/150\n",
      "52/52 [==============================] - 0s 8ms/step - loss: 2.7530 - accuracy: 0.4431 - val_loss: 4.0161 - val_accuracy: 0.3156\n",
      "Epoch 99/150\n",
      "52/52 [==============================] - 0s 9ms/step - loss: 2.7444 - accuracy: 0.4415 - val_loss: 3.9983 - val_accuracy: 0.3289\n",
      "Epoch 100/150\n",
      "52/52 [==============================] - 0s 9ms/step - loss: 2.7479 - accuracy: 0.4285 - val_loss: 4.0066 - val_accuracy: 0.3178\n",
      "Epoch 101/150\n",
      "52/52 [==============================] - 1s 10ms/step - loss: 2.6959 - accuracy: 0.4600 - val_loss: 4.0437 - val_accuracy: 0.3133\n",
      "Epoch 102/150\n",
      "52/52 [==============================] - 1s 12ms/step - loss: 2.7353 - accuracy: 0.4515 - val_loss: 4.0420 - val_accuracy: 0.2867\n",
      "Epoch 103/150\n",
      "52/52 [==============================] - 1s 12ms/step - loss: 2.7004 - accuracy: 0.4469 - val_loss: 4.0392 - val_accuracy: 0.3044\n",
      "Epoch 104/150\n",
      "52/52 [==============================] - 1s 12ms/step - loss: 2.7231 - accuracy: 0.4415 - val_loss: 4.0484 - val_accuracy: 0.3067\n",
      "Epoch 105/150\n",
      "52/52 [==============================] - 1s 12ms/step - loss: 2.6985 - accuracy: 0.4377 - val_loss: 4.0372 - val_accuracy: 0.3200\n",
      "Epoch 106/150\n",
      "52/52 [==============================] - 1s 13ms/step - loss: 2.7098 - accuracy: 0.4400 - val_loss: 4.0188 - val_accuracy: 0.3200\n",
      "Epoch 107/150\n",
      "52/52 [==============================] - 1s 12ms/step - loss: 2.6877 - accuracy: 0.4415 - val_loss: 4.0237 - val_accuracy: 0.3200\n",
      "Epoch 108/150\n",
      "52/52 [==============================] - 1s 12ms/step - loss: 2.6880 - accuracy: 0.4515 - val_loss: 4.0551 - val_accuracy: 0.2867\n",
      "Epoch 109/150\n",
      "52/52 [==============================] - 1s 11ms/step - loss: 2.6840 - accuracy: 0.4454 - val_loss: 4.0518 - val_accuracy: 0.3000\n",
      "Epoch 110/150\n",
      "52/52 [==============================] - 1s 12ms/step - loss: 2.6558 - accuracy: 0.4600 - val_loss: 4.0569 - val_accuracy: 0.2956\n",
      "Epoch 111/150\n",
      "52/52 [==============================] - 1s 10ms/step - loss: 2.6797 - accuracy: 0.4569 - val_loss: 4.0634 - val_accuracy: 0.3000\n",
      "Epoch 112/150\n",
      "52/52 [==============================] - 1s 10ms/step - loss: 2.6677 - accuracy: 0.4531 - val_loss: 4.0637 - val_accuracy: 0.3000\n",
      "Epoch 113/150\n",
      "52/52 [==============================] - 1s 10ms/step - loss: 2.6460 - accuracy: 0.4669 - val_loss: 4.0668 - val_accuracy: 0.3000\n",
      "Epoch 114/150\n",
      "52/52 [==============================] - 0s 10ms/step - loss: 2.6313 - accuracy: 0.4669 - val_loss: 4.0663 - val_accuracy: 0.2889\n",
      "Epoch 115/150\n",
      "52/52 [==============================] - 1s 11ms/step - loss: 2.6655 - accuracy: 0.4500 - val_loss: 4.0611 - val_accuracy: 0.3044\n",
      "Epoch 116/150\n",
      "52/52 [==============================] - 1s 10ms/step - loss: 2.6283 - accuracy: 0.4677 - val_loss: 4.0944 - val_accuracy: 0.2867\n",
      "Epoch 117/150\n",
      "52/52 [==============================] - 1s 10ms/step - loss: 2.6130 - accuracy: 0.4754 - val_loss: 4.0840 - val_accuracy: 0.2800\n",
      "Epoch 118/150\n",
      "52/52 [==============================] - 1s 10ms/step - loss: 2.6654 - accuracy: 0.4585 - val_loss: 4.0449 - val_accuracy: 0.3022\n",
      "Epoch 119/150\n",
      "52/52 [==============================] - 1s 11ms/step - loss: 2.6250 - accuracy: 0.4538 - val_loss: 4.0928 - val_accuracy: 0.2911\n",
      "Epoch 120/150\n",
      "52/52 [==============================] - 1s 10ms/step - loss: 2.6122 - accuracy: 0.4731 - val_loss: 4.0399 - val_accuracy: 0.3000\n",
      "Epoch 121/150\n",
      "52/52 [==============================] - 1s 10ms/step - loss: 2.6123 - accuracy: 0.4585 - val_loss: 4.0524 - val_accuracy: 0.3067\n",
      "Epoch 122/150\n",
      "52/52 [==============================] - 1s 10ms/step - loss: 2.5987 - accuracy: 0.4600 - val_loss: 4.0651 - val_accuracy: 0.2978\n",
      "Epoch 123/150\n",
      "52/52 [==============================] - 1s 10ms/step - loss: 2.5834 - accuracy: 0.4662 - val_loss: 4.0699 - val_accuracy: 0.2822\n",
      "Epoch 124/150\n",
      "52/52 [==============================] - 1s 11ms/step - loss: 2.5705 - accuracy: 0.4700 - val_loss: 4.0589 - val_accuracy: 0.3089\n",
      "Epoch 125/150\n",
      "52/52 [==============================] - 1s 10ms/step - loss: 2.5676 - accuracy: 0.4623 - val_loss: 4.0814 - val_accuracy: 0.2978\n",
      "Epoch 126/150\n",
      "52/52 [==============================] - 1s 11ms/step - loss: 2.5735 - accuracy: 0.4900 - val_loss: 4.1185 - val_accuracy: 0.2800\n",
      "Epoch 127/150\n",
      "52/52 [==============================] - 1s 11ms/step - loss: 2.5958 - accuracy: 0.4662 - val_loss: 4.0816 - val_accuracy: 0.2800\n",
      "Epoch 128/150\n",
      "52/52 [==============================] - 1s 11ms/step - loss: 2.5660 - accuracy: 0.4862 - val_loss: 4.1143 - val_accuracy: 0.2733\n",
      "Epoch 129/150\n",
      "52/52 [==============================] - 1s 10ms/step - loss: 2.5714 - accuracy: 0.4823 - val_loss: 4.0797 - val_accuracy: 0.2800\n",
      "Epoch 130/150\n",
      "52/52 [==============================] - 1s 10ms/step - loss: 2.5590 - accuracy: 0.4846 - val_loss: 4.0568 - val_accuracy: 0.2822\n",
      "Epoch 131/150\n",
      "52/52 [==============================] - 1s 10ms/step - loss: 2.5644 - accuracy: 0.4769 - val_loss: 4.0498 - val_accuracy: 0.3000\n",
      "Epoch 132/150\n",
      "52/52 [==============================] - 1s 11ms/step - loss: 2.5453 - accuracy: 0.4769 - val_loss: 4.0490 - val_accuracy: 0.3089\n",
      "Epoch 133/150\n",
      "52/52 [==============================] - 1s 12ms/step - loss: 2.5449 - accuracy: 0.4815 - val_loss: 4.0449 - val_accuracy: 0.2889\n",
      "Epoch 134/150\n",
      "52/52 [==============================] - 1s 12ms/step - loss: 2.5840 - accuracy: 0.4723 - val_loss: 4.0885 - val_accuracy: 0.2867\n",
      "Epoch 135/150\n",
      "52/52 [==============================] - 1s 12ms/step - loss: 2.5442 - accuracy: 0.4862 - val_loss: 4.0744 - val_accuracy: 0.2956\n",
      "Epoch 136/150\n",
      "52/52 [==============================] - 1s 12ms/step - loss: 2.5535 - accuracy: 0.4992 - val_loss: 4.0813 - val_accuracy: 0.2778\n",
      "Epoch 137/150\n",
      "52/52 [==============================] - 1s 12ms/step - loss: 2.5155 - accuracy: 0.4946 - val_loss: 4.0794 - val_accuracy: 0.2822\n",
      "Epoch 138/150\n",
      "52/52 [==============================] - 1s 12ms/step - loss: 2.5288 - accuracy: 0.4915 - val_loss: 4.0647 - val_accuracy: 0.2889\n",
      "Epoch 139/150\n",
      "52/52 [==============================] - 1s 12ms/step - loss: 2.5422 - accuracy: 0.4731 - val_loss: 4.0609 - val_accuracy: 0.2889\n",
      "Epoch 140/150\n",
      "52/52 [==============================] - 1s 11ms/step - loss: 2.5589 - accuracy: 0.4785 - val_loss: 4.0538 - val_accuracy: 0.3000\n",
      "Epoch 141/150\n",
      "52/52 [==============================] - 1s 12ms/step - loss: 2.5355 - accuracy: 0.4777 - val_loss: 4.0847 - val_accuracy: 0.2822\n",
      "Epoch 142/150\n",
      "52/52 [==============================] - 1s 12ms/step - loss: 2.5165 - accuracy: 0.4731 - val_loss: 4.0771 - val_accuracy: 0.2978\n",
      "Epoch 143/150\n",
      "52/52 [==============================] - 1s 12ms/step - loss: 2.5279 - accuracy: 0.4862 - val_loss: 4.0908 - val_accuracy: 0.2867\n",
      "Epoch 144/150\n",
      "52/52 [==============================] - 1s 12ms/step - loss: 2.5224 - accuracy: 0.4754 - val_loss: 4.0750 - val_accuracy: 0.2844\n",
      "Epoch 145/150\n",
      "52/52 [==============================] - 1s 13ms/step - loss: 2.4706 - accuracy: 0.5023 - val_loss: 4.0909 - val_accuracy: 0.3022\n",
      "Epoch 146/150\n",
      "52/52 [==============================] - 1s 12ms/step - loss: 2.4617 - accuracy: 0.5085 - val_loss: 4.0832 - val_accuracy: 0.2889\n",
      "Epoch 147/150\n",
      "52/52 [==============================] - 1s 12ms/step - loss: 2.5002 - accuracy: 0.4992 - val_loss: 4.1116 - val_accuracy: 0.2933\n",
      "Epoch 148/150\n",
      "52/52 [==============================] - 1s 12ms/step - loss: 2.5041 - accuracy: 0.4915 - val_loss: 4.1385 - val_accuracy: 0.2822\n",
      "Epoch 149/150\n",
      "52/52 [==============================] - 1s 12ms/step - loss: 2.5035 - accuracy: 0.4992 - val_loss: 4.0967 - val_accuracy: 0.2889\n",
      "Epoch 150/150\n",
      "52/52 [==============================] - 1s 12ms/step - loss: 2.5068 - accuracy: 0.4946 - val_loss: 4.0923 - val_accuracy: 0.2844\n"
     ]
    }
   ],
   "source": [
    "from keras.callbacks import EarlyStopping, ModelCheckpoint\n",
    "\n",
    "# Define callbacks\n",
    "callbacks = [\n",
    "    EarlyStopping(patience=3, monitor='val_loss'),  # Stop training if validation loss stops improving for 3 epochs\n",
    "    ModelCheckpoint(filepath='model_weights.weights.h5', save_best_only=True, save_weights_only=True, monitor='val_loss')  # Save the model with the best validation loss\n",
    "]\n",
    "\n",
    "# Fit the model with callbacks\n",
    "history = model.fit(x=[x_train_main, y_train_main[:, :-1]],  # Exclude last token from decoder input\n",
    "                    y=y_train_main[:, 1:],  # Exclude first token from decoder target\n",
    "                    batch_size=batch_size,\n",
    "                    epochs=150,\n",
    "                    validation_data=([x_test_main, y_test_main[:, :-1]], y_test_main[:, 1:])\n",
    "                    )"
   ]
  },
  {
   "cell_type": "code",
   "execution_count": 24,
   "id": "3cb09356-904b-49bf-9889-02a52791249e",
   "metadata": {},
   "outputs": [
    {
     "data": {
      "image/png": "[encoded data removed]",
      "text/plain": [
       "<Figure size 640x480 with 1 Axes>"
      ]
     },
     "metadata": {},
     "output_type": "display_data"
    }
   ],
   "source": [
    "plt.plot(history.history['loss'])\n",
    "plt.plot(history.history['val_loss'])\n",
    "plt.title('Model loss')\n",
    "plt.ylabel('Loss')\n",
    "plt.xlabel('Epoch')\n",
    "plt.legend(['Train', 'Validation'], loc='upper left')\n",
    "plt.show()"
   ]
  },
  {
   "cell_type": "code",
   "execution_count": 25,
   "id": "3ace2fb6-6c9c-4301-a965-07c43332862e",
   "metadata": {},
   "outputs": [
    {
     "data": {
      "image/png": "[encoded data removed]",
      "text/plain": [
       "<Figure size 640x480 with 1 Axes>"
      ]
     },
     "metadata": {},
     "output_type": "display_data"
    }
   ],
   "source": [
    "plt.plot(history.history['accuracy'])\n",
    "plt.plot(history.history['val_accuracy'])\n",
    "plt.title('Model Accuracy')\n",
    "plt.ylabel('Accuracy')\n",
    "plt.xlabel('Epoch')\n",
    "plt.legend(['Train', 'Validation'], loc='upper left')\n",
    "plt.show()"
   ]
  },
  {
   "cell_type": "code",
   "execution_count": 26,
   "id": "ba1f08f4-f6b5-4600-9b93-552c08ef82ed",
   "metadata": {},
   "outputs": [
    {
     "name": "stdout",
     "output_type": "stream",
     "text": [
      "[[  0   0   0   0   0   0   0   0   0   0   0   0   0   0   0  12   7  55\n",
      "    2  12   7  56  18 208  16]]\n",
      "1/1 [==============================] - 1s 1s/step\n",
      "[[  0   0   0   0   0   0   0   0   0   0   0   0   0   0   0  10   1 180\n",
      "    3  50   1  69   2   1   5]]\n",
      "1/1 [==============================] - 0s 30ms/step\n",
      "[[ 32   2 167  34   8   1  13   8 266 267  15 268 269  34 270   1  13  47\n",
      "   22  60 136  11   7  53  81]]\n",
      "1/1 [==============================] - 0s 34ms/step\n",
      "[[ 0  0  0  0  0  3 47  1 38 16  2  1 70 15 47 72 12  7 55  2 12  7 56 51\n",
      "  16]]\n",
      "1/1 [==============================] - 0s 31ms/step\n",
      "[[  0   0   0 281  18  13  44 282  35 283   2  35 284   2  44 285  59  35\n",
      "  117   2  54  44  21  51  83]]\n",
      "1/1 [==============================] - 0s 34ms/step\n",
      "[[  0   0   0   0   0   0   0   0   0   0   0   0   0   0   0  12   7  55\n",
      "    2  12   7  56  18 135  16]]\n",
      "1/1 [==============================] - 0s 33ms/step\n",
      "[[189 129 130  73  58   2  52  74 131  52  33  43  39  59  53  58  10   9\n",
      "   28   1   5   2   9   7  57]]\n",
      "1/1 [==============================] - 0s 30ms/step\n",
      "[[  0   3  95   1 104  16   2  26   9 223 106  15 150  10   9  25  62  35\n",
      "  105  27  15  45  50   2  26]]\n",
      "1/1 [==============================] - 0s 31ms/step\n",
      "[[  0   0   0   0   0  23   3 114   1  13   2 157  63 110   1  37   4 111\n",
      "    8 261   9   2   8 262   9]]\n",
      "1/1 [==============================] - 0s 39ms/step\n",
      "[[  0   0   0   0   0   0   0   0   0   0   0   0   0   0   0  12   7  55\n",
      "    2  12   7  56  18 132  16]]\n",
      "1/1 [==============================] - 0s 41ms/step\n",
      "[[  0   0   0   0   0   0   0   0   0   0   0   0   0   1  69   2   1   5\n",
      "   42 149   2  62  43 221 222]]\n",
      "1/1 [==============================] - 0s 31ms/step\n",
      "[[  0   0   0   3  47   1 127  64   5   2   1 188  89   4   1  31  15  47\n",
      "  128   3  40  11   9   7  24]]\n",
      "1/1 [==============================] - 0s 32ms/step\n",
      "[[3 3 3 3 3 3 3 3 3 3 3 3 3 3 3 3 3 3 3 3 3 3 3 3 3]]\n",
      "1/1 [==============================] - 0s 29ms/step\n",
      "[[  0   0   0   3  14  20  12  21 185  41  10   1  87   4   1  31   2  20\n",
      "    9  88   1  31  25   1  31]]\n",
      "1/1 [==============================] - 0s 28ms/step\n",
      "[[  0   1 119   4 171   4  34  42 174   2  54 305  11  54  42  85  54 306\n",
      "  307 308  89   2  26 176 309]]\n",
      "1/1 [==============================] - 0s 27ms/step\n",
      "[[  0   0   3  40  97  11  15  45  26   2 147   9   7 219  24  12   7  55\n",
      "    2  12   7  56  18 220  16]]\n",
      "1/1 [==============================] - 0s 46ms/step\n",
      "[[ 27  19  10   1  87   4   1  37   3 173  14  17  82  46  49   4   9 292\n",
      "   82  17 293   9 294  17 115]]\n",
      "1/1 [==============================] - 0s 29ms/step\n",
      "[[ 45 153 227 107  29  23   3  45  46 154   9   8 228  28   1   5  12   7\n",
      "   46  18  13   8 229   1  61]]\n",
      "1/1 [==============================] - 0s 29ms/step\n"
     ]
    }
   ],
   "source": [
    "# Perform prediction for the first 200 rows one sample at a time\n",
    "num_samples = min(200,len(x_test_main)) # Limit to the first 200 rows\n",
    "\n",
    "predictions = []\n",
    "\n",
    "for i in range(num_samples):\n",
    "    single_x_test = x_test_main[i:i+1]\n",
    "    single_y_test = y_test_main[i:i+1, :-1]  # Exclude last token\n",
    "    print(single_x_test)\n",
    "    single_prediction = model.predict([single_x_test, single_y_test])\n",
    "    predictions.append(single_prediction)\n",
    "\n",
    "# Concatenate predictions\n",
    "predictions = np.concatenate(predictions, axis=0)"
   ]
  },
  {
   "cell_type": "code",
   "execution_count": 95,
   "id": "34a8cec0-5f60-45c2-89dc-970dd19a05e9",
   "metadata": {},
   "outputs": [
    {
     "data": {
      "text/plain": [
       "10"
      ]
     },
     "execution_count": 95,
     "metadata": {},
     "output_type": "execute_result"
    }
   ],
   "source": [
    "len(predictions)"
   ]
  },
  {
   "cell_type": "code",
   "execution_count": 27,
   "id": "de965f2d-34e1-44d5-834c-7005cd09f928",
   "metadata": {},
   "outputs": [
    {
     "name": "stdout",
     "output_type": "stream",
     "text": [
      "Predicted Hindi sentence 1:            พระเจ้า พระเจ้า และ และ และ แผ่นดิน เจ้า และ เจ้า เจ้า เป็น ดัง ที่ มี\n",
      "Predicted Hindi sentence 2:            พระเจ้า พระเจ้า พระเจ้า วัน เจ้า เจ้า เป็น ทรง ความ สร้าง ความ นี้ มนุษย์ อยู่\n",
      "Predicted Hindi sentence 3: มี ได้ ได้ เจ้า เจ้า เจ้า พระเจ้า เจ้า เจ้า เป็น เป็น เจ้า ดี ว่า ที่ ความ ความ ไป ไป ไป ที่ เป็น ความ ความ ใน\n",
      "Predicted Hindi sentence 4:  อากาศ สว่าง และ และ เจ้า ที่ ที่ มี สร้าง ที่ สว่าง อยู่ ที่ เป็น ที่ ความ ที่ และ ที่ เป็น เป็น เป็น ที่ มี\n",
      "Predicted Hindi sentence 5:  ซึ่ง หญิง และ ได้ พระองค์ หญิง หญิง ได้ เจ้า เจ้า หญิง เจ้า เจ้า สร้าง ของ ด้วย ไป ไม่ ออก สร้าง สร้าง ของ ของ และ\n",
      "Predicted Hindi sentence 6:           พระเจ้า พระเจ้า พระเจ้า และ และ และ แผ่นดิน เจ้า และ เจ้า เจ้า เป็น ดัง ที่ มี\n",
      "Predicted Hindi sentence 7: และ มี ชีวิต ใน บรรดา ไม้ ที่ มี จาก ที่ มี ชีวิต ใน สวน นั้น ชนิด ของ มัน พระเจ้า แผ่นดิน แผ่นดิน แผ่นดิน เป็น ดัง นั้น\n",
      "Predicted Hindi sentence 8: มี ที่ ที่ ว่า อากาศ ที่ ที่ ทรง ทรง สร้าง ที่ ที่ ความ บน ของ มัน ทรง พระองค์ ทรง ทรง สร้าง สร้าง มา ใน นั้น\n",
      "Predicted Hindi sentence 9:       พระเจ้า พระเจ้า พระเจ้า และ พระเจ้า ทรง ทรง สร้าง นั้น นั้น นั้น มัน วัน และ และ เป็น เป็น เจ้า เจ้า\n",
      "Predicted Hindi sentence 10:            พระเจ้า พระเจ้า และ และ และ แผ่นดิน เจ้า และ เจ้า เจ้า เป็น ดัง ที่ มี\n",
      "Predicted Hindi sentence 11:            นั้น จึง ที่ แผ่นดิน โลก  บรรดา ต้น ชีวิต เป็น สร้าง ให้ ให้ เป็น\n",
      "Predicted Hindi sentence 12:    ทรง เห็น พื้น พื้น  เจ้า โลก ไม่ เห็น กัน กัน ไป สร้าง ชีวิต ด้วย และ เขา ต้น ทรง เห็น ว่า ดี\n",
      "Predicted Hindi sentence 13: ทรง ทรง ทรง ทรง ทรง ทรง ทรง ทรง ทรง ทรง ทรง ทรง ทรง ทรง ทรง ทรง ทรง ทรง ทรง ทรง ทรง ทรง ทรง ทรง ทรง\n",
      "Predicted Hindi sentence 14: ว่า ต้น แผ่นดิน น้ำ นั้น และ จง ให้ น้ำ ความ อากาศ และ สวน สว่าง นั้น เจ้า ให้ ความ อากาศ และ เป็น เป็น นั้น จาก ต้น\n",
      "Predicted Hindi sentence 15:   พระองค์ ได้ ได้ อยู่ อยู่ เจ้า ได้ ออก เจ้า หญิง เจ้า เจ้า สร้าง วัน วัน ความ ออก ออก ออก กลาง ทรง เขา ได้\n",
      "Predicted Hindi sentence 16:  ที่ มี ทรง ทรง สร้าง แผ่นดิน บรรดา อากาศ อากาศ ดัง อากาศ สร้าง บรรดา ทรง ทรง ชนิด เขา และ บรรดา บรรดา เป็น ดัง ที่ มี\n",
      "Predicted Hindi sentence 17: และ และ และ และ และ เป็น และ ต้น ไม้ ที่ ไม้ ใน ที่ ที่ ความ นี้ ดี กิน ผล ใน ใน อยู่ อยู่ เจ้า อยู่\n",
      "Predicted Hindi sentence 18: หญิง หญิง นั้น นั้น ว่า พระเจ้า ทรง ได้ หญิง หญิง เจ้า หญิง ว่า โลก นั้น หญิง วัน ความ ความ นั้น ชีวิต ความ มา สร้าง สร้าง\n"
     ]
    }
   ],
   "source": [
    "def decode_prediction(prediction, tokenizer):\n",
    "    # Get the index of the token with the highest probability for each time step\n",
    "    token_indices = np.argmax(prediction, axis=-1)\n",
    "    # Convert token indices to words using the tokenizer, handling out-of-vocabulary indices\n",
    "    words = [tokenizer.index_word.get(index, '') for index in token_indices]  # Exclude padding token\n",
    "    # Join the words into a single sentence\n",
    "    sentence = ' '.join(words)\n",
    "    return sentence\n",
    "\n",
    "# Decode each prediction and print the corresponding Hindi sentences\n",
    "for i, prediction in enumerate(predictions):\n",
    "    decoded_sentence = decode_prediction(prediction,uk)\n",
    "    print(f\"Predicted Hindi sentence {i+1}: {decoded_sentence}\")"
   ]
  },
  {
   "cell_type": "code",
   "execution_count": 28,
   "id": "e5121036-0912-493c-9d20-39f7a6dd8750",
   "metadata": {},
   "outputs": [
    {
     "name": "stdout",
     "output_type": "stream",
     "text": [
      "['มี', 'เวลา', 'เย็น', 'และ', 'เวลา', 'เช้า', 'เป็น', 'วัน', 'ที่', 'ห้า']\n",
      "['ใน', 'เริ่ม', 'แรก', 'นั้น', 'พระเจ้า', 'ทรง', 'เนรมิต', 'สร้าง', 'ฟ้า', 'และ', 'แผ่นดิน', 'โลก']\n",
      "['ว่า', 'เขา', 'จะ', 'เรียก', 'ชื่อ', 'พวก', 'มัน', 'ว่า', 'อะไร', 'อาดัม', 'ได้', 'เรียก', 'ชื่อ', 'บรรดา', 'สัตว์', 'ที่', 'มี', 'ชีวิต', 'อย่าง', 'ไร', 'สัตว์', 'ก็', 'มี', 'ชื่อ', 'อย่าง', 'นั้น']\n",
      "['ทรง', 'เรียก', 'ความ', 'สว่าง', 'นั้น', 'ว่า', 'วัน', 'และ', 'พระองค์', 'ทรง', 'เรียก', 'ความ', 'มืด', 'นั้น', 'ว่า', 'คืน', 'มี', 'เวลา', 'เย็น', 'และ', 'เวลา', 'เช้า', 'เป็น', 'วัน', 'ที่', 'หนึ่ง']\n",
      "['เหตุ', 'ฉะนั้น', 'ผู้', 'ชาย', 'จะ', 'จาก', 'บิดามารดา', 'ของ', 'เขา', 'และ', 'จะ', 'ไป', 'ผูกพัน', 'อยู่', 'กับ', 'ภรรยา', 'และ', 'เขา', 'ทั้ง', 'สอง', 'จะ', 'เป็น', 'เนื้อ', 'อัน', 'เดียว', 'กัน']\n",
      "['มี', 'เวลา', 'เย็น', 'และ', 'เวลา', 'เช้า', 'เป็น', 'วัน', 'ที่', 'สี่']\n",
      "['ผัก', 'ที่', 'มี', 'เมล็ด', 'และ', 'ต้น', 'ไม้', 'ที่', 'ออก', 'ผล', 'ที่', 'มี', 'เมล็ด', 'ใน', 'ผล', 'ตาม', 'ชนิด', 'ของ', 'มัน', 'บน', 'แผ่น', 'ดิน', 'ก็', 'เป็น', 'ดัง', 'นั้น']\n",
      "['เป็น', 'วัน', 'บริสุทธิ์', 'เพราะ', 'ใน', 'วัน', 'นั้น', 'พระองค์', 'ได้', 'ทรง', 'หยุด', 'พัก', 'จาก', 'การงาน', 'ทั้งสิ้น', 'ของ', 'พระองค์', 'ซึ่ง', 'พระเจ้า', 'ได้', 'ทรง', 'เนรมิต', 'สร้าง', 'ไว้', 'แล้ว', 'นั้น']\n",
      "['พระเยโฮวาห์', 'พระเจ้า', 'จึง', 'ทรง', 'นำ', 'มนุษย์', 'ไป', 'อยู่', 'ใน', 'สวน', 'เอเดน', 'ให้', 'ดูแล', 'และ', 'รักษา', 'สวน']\n",
      "['มี', 'เวลา', 'เย็น', 'และ', 'เวลา', 'เช้า', 'เป็น', 'วัน', 'ที่', 'สาม']\n",
      "['ดัง', 'นี้', 'ฟ้า', 'และ', 'แผ่นดิน', 'โลก', 'และ', 'บรรดา', 'บริวาร', 'ก็', 'ถูก', 'สร้าง', 'ขึ้น', 'ให้', 'สำเร็จ']\n",
      "['พระเจ้า', 'ทรง', 'เรียก', 'ที่', 'แห้ง', 'ว่า', 'แผ่นดิน', 'และ', 'ที่', 'น้ำ', 'รวบรวม', 'เข้า', 'อยู่', 'แห่ง', 'เดียว', 'กัน', 'ว่า', 'ทะเล', 'พระเจ้า', 'ทรง', 'เห็น', 'ว่า', 'ดี']\n",
      "['พระเจ้า', 'พระเจ้า', 'พระเจ้า', 'พระเจ้า', 'พระเจ้า', 'พระเจ้า', 'พระเจ้า', 'พระเจ้า', 'พระเจ้า', 'พระเจ้า', 'พระเจ้า', 'พระเจ้า', 'พระเจ้า', 'พระเจ้า', 'พระเจ้า', 'พระเจ้า', 'พระเจ้า', 'พระเจ้า', 'พระเจ้า', 'พระเจ้า', 'พระเจ้า', 'พระเจ้า', 'พระเจ้า', 'พระเจ้า', 'พระเจ้า', 'พระเจ้า']\n",
      "['ปรากฏ', 'อยู่', 'เหนือ', 'ผิว', 'น้ำ', 'นั้น', 'พระเจ้าตรัสว่า', 'จง', 'ให้', 'มี', 'พื้น', 'อากาศ', 'ใน', 'ระหว่าง', 'น้ำ', 'และ', 'จง', 'ให้', 'พื้น', 'อากาศ', 'นั้น', 'แยก', 'น้ำ', 'ออก', 'จาก', 'น้ำ']\n",
      "['จึง', 'รู้', 'ว่า', 'เขา', 'เปลือย', 'กาย', 'อยู่', 'และ', 'เขา', 'ทั้ง', 'สอง', 'ก็', 'เอา', 'ใบ', 'มะเดื่อ', 'มา', 'เย็บ', 'เป็น', 'เครื่อง', 'ปกปิด', 'อวัยวะ', 'ส่วน', 'ล่าง', 'ของ', 'เขา', 'ไว้']\n",
      "['บรรดา', 'สิ่ง', 'ที่', 'พระองค์', 'ได้', 'ทรง', 'สร้าง', 'และ', 'ดู', 'เถิด', 'เป็น', 'สิ่ง', 'ที่', 'ดี', 'ยิ่ง', 'นัก', 'มี', 'เวลา', 'เย็น', 'และ', 'เวลา', 'เช้า', 'เป็น', 'วัน', 'ที่', 'หก']\n",
      "['แต่', 'ผล', 'ของ', 'ต้น', 'ไม้', 'ต้น', 'หนึ่ง', 'ซึ่ง', 'อยู่', 'ท่ามกลาง', 'สวน', 'พระเจ้าตรัสว่า', 'เจ้าอย่า', 'กิน', 'หรือ', 'แตะต้อง', 'มัน', 'มิ', 'ฉะนั้น', 'เจ้า', 'จะตาย']\n",
      "['ไม่', 'งอก', 'ขึ้น', 'เลย', 'เพราะ', 'พระเยโฮวาห์', 'พระเจ้า', 'ยัง', 'ไม่', 'ให้', 'ฝน', 'ตก', 'บน', 'แผ่นดิน', 'โลก', 'และ', 'ยัง', 'ไม่', 'มี', 'มนุษย์', 'ที่', 'จะ', 'ทำ', 'ไร่', 'ไถ', 'นา']\n",
      "18\n"
     ]
    }
   ],
   "source": [
    "word = []\n",
    "for k in y_test_main:\n",
    "    for i in k:\n",
    "        if (i != 0):\n",
    "            word.append(uk.index_word.get(i))\n",
    "    print(word)\n",
    "    word = []\n",
    "print(len(y_test_main))"
   ]
  },
  {
   "cell_type": "code",
   "execution_count": 94,
   "id": "85cf93b5",
   "metadata": {},
   "outputs": [
    {
     "name": "stdout",
     "output_type": "stream",
     "text": [
      "['therefore', 'a', 'man', 'will', 'leave', 'his', 'father', 'and', 'his', 'mother', 'and', 'will', 'join', 'with', 'his', 'wife', 'and', 'they', 'will', 'be', 'one', 'flesh']\n",
      "['the', 'eyes', 'of', 'both', 'of', 'them', 'were', 'opened', 'and', 'they', 'knew', 'that', 'they', 'were', 'naked', 'they', 'sewed', 'fig', 'leaves', 'together', 'and', 'made', 'themselves', 'aprons']\n",
      "['in', 'the', 'beginning', 'god', 'created', 'the', 'heavens', 'and', 'the', 'earth']\n",
      "['yahweh', 'god', 'took', 'the', 'man', 'and', 'put', 'him', 'into', 'the', 'garden', 'of', 'eden', 'to', 'dress', 'it', 'and', 'to', 'keep', 'it']\n",
      "['god', 'said', 'let', 'there', 'be', 'an', 'expanse', 'in', 'the', 'middle', 'of', 'the', 'waters', 'and', 'let', 'it', 'divide', 'the', 'waters', 'from', 'the', 'waters']\n",
      "['they', 'heard', 'the', 'voice', 'of', 'yahweh', 'god', 'walking', 'in', 'the', 'garden', 'in', 'the', 'cool', 'of', 'the', 'day', 'and', 'the', 'man', 'and', 'his', 'wife', 'hid', 'themselves', 'from', 'the', 'presence', 'of', 'yahweh', 'god', 'among', 'the', 'trees', 'of', 'the', 'garden']\n",
      "['god', 'set', 'them', 'in', 'the', 'expanse', 'of', 'sky', 'to', 'give', 'light', 'to', 'the', 'earth']\n",
      "['there', 'was', 'evening', 'and', 'there', 'was', 'morning', 'a', 'third', 'day']\n",
      "['adam']\n",
      "['god', 'saw', 'everything', 'that', 'he', 'had', 'made', 'and', 'behold', 'it', 'was', 'very', 'good', 'there', 'was', 'evening', 'and', 'there', 'was', 'morning', 'a', 'sixth', 'day']\n",
      "['god', 'blessed', 'the', 'seventh', 'day', 'and', 'made', 'it', 'holy', 'because', 'he', 'rested', 'in', 'it', 'from', 'all', 'his', 'work', 'which', 'he', 'had', 'created', 'and', 'made']\n",
      "['god', 'called', 'the', 'dry', 'land', 'earth', 'and', 'the', 'gathering', 'together', 'of', 'the', 'waters', 'he', 'called', 'seas', 'god', 'saw', 'that', 'it', 'was', 'good']\n",
      "['the', 'name', 'of', 'the', 'first', 'is', 'pishon', 'this', 'is', 'the', 'one', 'which', 'flows', 'through', 'the', 'whole', 'land', 'of', 'havilah', 'where', 'there', 'is', 'gold']\n",
      "['god', 'said', 'let', 'there', 'be', 'lights', 'in', 'the', 'expanse', 'of', 'sky', 'to', 'divide', 'the', 'day', 'from', 'the', 'night', 'and', 'let', 'them', 'be', 'for', 'signs', 'and', 'for', 'seasons', 'and', 'for', 'days', 'and', 'years']\n",
      "['this', 'is', 'the', 'history', 'of', 'the', 'generations', 'of', 'the', 'heavens', 'and', 'of', 'the', 'earth', 'when', 'they', 'were', 'created', 'in', 'the', 'day', 'that', 'yahweh', 'god', 'made', 'the', 'earth', 'and', 'the', 'heavens']\n",
      "['god', 'said', 'let', 'us', 'make', 'man', 'in', 'our', 'image', 'after', 'our', 'likeness', 'and', 'let', 'them', 'have', 'dominion', 'over', 'the', 'fish', 'of', 'the', 'sea', 'and', 'over', 'the', 'birds', 'of', 'the', 'sky', 'and', 'over', 'the', 'livestock', 'and', 'over', 'all', 'the', 'earth', 'and', 'over', 'every', 'creeping', 'thing', 'that', 'creeps', 'on', 'the', 'earth']\n",
      "['god', 'saw', 'the', 'light', 'and', 'saw', 'that', 'it', 'was', 'good', 'god', 'divided', 'the', 'light', 'from', 'the', 'darkness']\n",
      "17\n"
     ]
    }
   ],
   "source": [
    "word = []\n",
    "for k in x_test_main:\n",
    "    for i in k:\n",
    "        if (i != 0):\n",
    "            word.append(u.index_word.get(i))\n",
    "    print(word)\n",
    "    word = []\n",
    "print(len(y_test_main))"
   ]
  }
 ],
 "metadata": {
  "kernelspec": {
   "display_name": "Python 3 (ipykernel)",
   "language": "python",
   "name": "python3"
  },
  "language_info": {
   "codemirror_mode": {
    "name": "ipython",
    "version": 3
   },
   "file_extension": ".py",
   "mimetype": "text/x-python",
   "name": "python",
   "nbconvert_exporter": "python",
   "pygments_lexer": "ipython3",
   "version": "3.11.2"
  }
 },
 "nbformat": 4,
 "nbformat_minor": 5
}
